{
 "cells": [
  {
   "cell_type": "code",
   "execution_count": 1,
   "id": "aba48930",
   "metadata": {},
   "outputs": [],
   "source": [
    "import tensorflow as tf\n",
    "import numpy as np\n",
    "import pandas as pd\n",
    "import matplotlib.pyplot as plt\n",
    "from keras.models import Sequential\n",
    "from keras.layers import LSTM, Dense, Dropout"
   ]
  },
  {
   "cell_type": "code",
   "execution_count": 2,
   "id": "7434651a",
   "metadata": {},
   "outputs": [
    {
     "data": {
      "text/plain": [
       "[PhysicalDevice(name='/physical_device:GPU:0', device_type='GPU')]"
      ]
     },
     "execution_count": 2,
     "metadata": {},
     "output_type": "execute_result"
    }
   ],
   "source": [
    "tf.config.list_physical_devices('GPU')"
   ]
  },
  {
   "cell_type": "markdown",
   "id": "fa537655",
   "metadata": {},
   "source": [
    "### Data Read"
   ]
  },
  {
   "cell_type": "code",
   "execution_count": 3,
   "id": "a2ed1c9f",
   "metadata": {},
   "outputs": [],
   "source": [
    "raw_df = pd.read_csv('./B72_7MA_14MA_PS.csv')"
   ]
  },
  {
   "cell_type": "code",
   "execution_count": 4,
   "id": "eca212b1",
   "metadata": {},
   "outputs": [
    {
     "data": {
      "text/html": [
       "<div>\n",
       "<style scoped>\n",
       "    .dataframe tbody tr th:only-of-type {\n",
       "        vertical-align: middle;\n",
       "    }\n",
       "\n",
       "    .dataframe tbody tr th {\n",
       "        vertical-align: top;\n",
       "    }\n",
       "\n",
       "    .dataframe thead th {\n",
       "        text-align: right;\n",
       "    }\n",
       "</style>\n",
       "<table border=\"1\" class=\"dataframe\">\n",
       "  <thead>\n",
       "    <tr style=\"text-align: right;\">\n",
       "      <th></th>\n",
       "      <th>OrderDate</th>\n",
       "      <th>YYYYMM</th>\n",
       "      <th>YYYYWEEK</th>\n",
       "      <th>ORDERQTY</th>\n",
       "      <th>7MA</th>\n",
       "      <th>14MA</th>\n",
       "      <th>PS</th>\n",
       "    </tr>\n",
       "  </thead>\n",
       "  <tbody>\n",
       "    <tr>\n",
       "      <th>0</th>\n",
       "      <td>2018-01-02</td>\n",
       "      <td>201801</td>\n",
       "      <td>20181</td>\n",
       "      <td>92</td>\n",
       "      <td>NaN</td>\n",
       "      <td>NaN</td>\n",
       "      <td>99.4</td>\n",
       "    </tr>\n",
       "    <tr>\n",
       "      <th>1</th>\n",
       "      <td>2018-01-03</td>\n",
       "      <td>201801</td>\n",
       "      <td>20181</td>\n",
       "      <td>130</td>\n",
       "      <td>NaN</td>\n",
       "      <td>NaN</td>\n",
       "      <td>99.4</td>\n",
       "    </tr>\n",
       "    <tr>\n",
       "      <th>2</th>\n",
       "      <td>2018-01-04</td>\n",
       "      <td>201801</td>\n",
       "      <td>20181</td>\n",
       "      <td>45</td>\n",
       "      <td>NaN</td>\n",
       "      <td>NaN</td>\n",
       "      <td>99.4</td>\n",
       "    </tr>\n",
       "    <tr>\n",
       "      <th>3</th>\n",
       "      <td>2018-01-05</td>\n",
       "      <td>201801</td>\n",
       "      <td>20181</td>\n",
       "      <td>54</td>\n",
       "      <td>NaN</td>\n",
       "      <td>NaN</td>\n",
       "      <td>99.4</td>\n",
       "    </tr>\n",
       "    <tr>\n",
       "      <th>4</th>\n",
       "      <td>2018-01-08</td>\n",
       "      <td>201801</td>\n",
       "      <td>20182</td>\n",
       "      <td>464</td>\n",
       "      <td>NaN</td>\n",
       "      <td>NaN</td>\n",
       "      <td>99.4</td>\n",
       "    </tr>\n",
       "    <tr>\n",
       "      <th>5</th>\n",
       "      <td>2018-01-09</td>\n",
       "      <td>201801</td>\n",
       "      <td>20182</td>\n",
       "      <td>60</td>\n",
       "      <td>NaN</td>\n",
       "      <td>NaN</td>\n",
       "      <td>99.4</td>\n",
       "    </tr>\n",
       "    <tr>\n",
       "      <th>6</th>\n",
       "      <td>2018-01-10</td>\n",
       "      <td>201801</td>\n",
       "      <td>20182</td>\n",
       "      <td>60</td>\n",
       "      <td>129.29</td>\n",
       "      <td>NaN</td>\n",
       "      <td>99.4</td>\n",
       "    </tr>\n",
       "    <tr>\n",
       "      <th>7</th>\n",
       "      <td>2018-01-11</td>\n",
       "      <td>201801</td>\n",
       "      <td>20182</td>\n",
       "      <td>50</td>\n",
       "      <td>123.29</td>\n",
       "      <td>NaN</td>\n",
       "      <td>99.4</td>\n",
       "    </tr>\n",
       "    <tr>\n",
       "      <th>8</th>\n",
       "      <td>2018-01-12</td>\n",
       "      <td>201801</td>\n",
       "      <td>20182</td>\n",
       "      <td>2</td>\n",
       "      <td>105.00</td>\n",
       "      <td>NaN</td>\n",
       "      <td>99.4</td>\n",
       "    </tr>\n",
       "    <tr>\n",
       "      <th>9</th>\n",
       "      <td>2018-01-15</td>\n",
       "      <td>201801</td>\n",
       "      <td>20183</td>\n",
       "      <td>85</td>\n",
       "      <td>110.71</td>\n",
       "      <td>NaN</td>\n",
       "      <td>99.4</td>\n",
       "    </tr>\n",
       "  </tbody>\n",
       "</table>\n",
       "</div>"
      ],
      "text/plain": [
       "    OrderDate  YYYYMM  YYYYWEEK  ORDERQTY     7MA  14MA    PS\n",
       "0  2018-01-02  201801     20181        92     NaN   NaN  99.4\n",
       "1  2018-01-03  201801     20181       130     NaN   NaN  99.4\n",
       "2  2018-01-04  201801     20181        45     NaN   NaN  99.4\n",
       "3  2018-01-05  201801     20181        54     NaN   NaN  99.4\n",
       "4  2018-01-08  201801     20182       464     NaN   NaN  99.4\n",
       "5  2018-01-09  201801     20182        60     NaN   NaN  99.4\n",
       "6  2018-01-10  201801     20182        60  129.29   NaN  99.4\n",
       "7  2018-01-11  201801     20182        50  123.29   NaN  99.4\n",
       "8  2018-01-12  201801     20182         2  105.00   NaN  99.4\n",
       "9  2018-01-15  201801     20183        85  110.71   NaN  99.4"
      ]
     },
     "execution_count": 4,
     "metadata": {},
     "output_type": "execute_result"
    }
   ],
   "source": [
    "raw_df.head(10)"
   ]
  },
  {
   "cell_type": "code",
   "execution_count": 5,
   "id": "c3a596f6",
   "metadata": {},
   "outputs": [
    {
     "name": "stdout",
     "output_type": "stream",
     "text": [
      "<class 'pandas.core.frame.DataFrame'>\n",
      "RangeIndex: 1250 entries, 0 to 1249\n",
      "Data columns (total 7 columns):\n",
      " #   Column     Non-Null Count  Dtype  \n",
      "---  ------     --------------  -----  \n",
      " 0   OrderDate  1250 non-null   object \n",
      " 1   YYYYMM     1250 non-null   int64  \n",
      " 2   YYYYWEEK   1250 non-null   int64  \n",
      " 3   ORDERQTY   1250 non-null   int64  \n",
      " 4   7MA        1244 non-null   float64\n",
      " 5   14MA       1237 non-null   float64\n",
      " 6   PS         1250 non-null   float64\n",
      "dtypes: float64(3), int64(3), object(1)\n",
      "memory usage: 68.5+ KB\n"
     ]
    }
   ],
   "source": [
    "raw_df.info()"
   ]
  },
  {
   "cell_type": "code",
   "execution_count": 6,
   "id": "8596fc5d",
   "metadata": {},
   "outputs": [
    {
     "data": {
      "image/png": "[encoded data removed]",
      "text/plain": [
       "<Figure size 432x288 with 1 Axes>"
      ]
     },
     "metadata": {
      "needs_background": "light"
     },
     "output_type": "display_data"
    }
   ],
   "source": [
    "plt.title('DRB PO')\n",
    "plt.ylabel('price')\n",
    "plt.xlabel('period')\n",
    "plt.grid()\n",
    "\n",
    "plt.plot(raw_df['ORDERQTY'], label='Adj Close')\n",
    "plt.show()"
   ]
  },
  {
   "cell_type": "markdown",
   "id": "52a42977",
   "metadata": {},
   "source": [
    "### Data Preprocessing"
   ]
  },
  {
   "cell_type": "code",
   "execution_count": 7,
   "id": "de89955c",
   "metadata": {},
   "outputs": [
    {
     "data": {
      "text/html": [
       "<div>\n",
       "<style scoped>\n",
       "    .dataframe tbody tr th:only-of-type {\n",
       "        vertical-align: middle;\n",
       "    }\n",
       "\n",
       "    .dataframe tbody tr th {\n",
       "        vertical-align: top;\n",
       "    }\n",
       "\n",
       "    .dataframe thead th {\n",
       "        text-align: right;\n",
       "    }\n",
       "</style>\n",
       "<table border=\"1\" class=\"dataframe\">\n",
       "  <thead>\n",
       "    <tr style=\"text-align: right;\">\n",
       "      <th></th>\n",
       "      <th>YYYYMM</th>\n",
       "      <th>YYYYWEEK</th>\n",
       "      <th>ORDERQTY</th>\n",
       "      <th>7MA</th>\n",
       "      <th>14MA</th>\n",
       "      <th>PS</th>\n",
       "    </tr>\n",
       "  </thead>\n",
       "  <tbody>\n",
       "    <tr>\n",
       "      <th>count</th>\n",
       "      <td>1250.000000</td>\n",
       "      <td>1250.00000</td>\n",
       "      <td>1250.000000</td>\n",
       "      <td>1244.000000</td>\n",
       "      <td>1237.000000</td>\n",
       "      <td>1250.000000</td>\n",
       "    </tr>\n",
       "    <tr>\n",
       "      <th>mean</th>\n",
       "      <td>201993.708000</td>\n",
       "      <td>171617.02640</td>\n",
       "      <td>106.640800</td>\n",
       "      <td>106.749502</td>\n",
       "      <td>106.770525</td>\n",
       "      <td>95.052640</td>\n",
       "    </tr>\n",
       "    <tr>\n",
       "      <th>std</th>\n",
       "      <td>135.890122</td>\n",
       "      <td>67870.93516</td>\n",
       "      <td>120.738314</td>\n",
       "      <td>50.587520</td>\n",
       "      <td>38.899247</td>\n",
       "      <td>10.454292</td>\n",
       "    </tr>\n",
       "    <tr>\n",
       "      <th>min</th>\n",
       "      <td>201801.000000</td>\n",
       "      <td>20181.00000</td>\n",
       "      <td>2.000000</td>\n",
       "      <td>32.000000</td>\n",
       "      <td>43.360000</td>\n",
       "      <td>62.200000</td>\n",
       "    </tr>\n",
       "    <tr>\n",
       "      <th>25%</th>\n",
       "      <td>201903.000000</td>\n",
       "      <td>201829.00000</td>\n",
       "      <td>42.000000</td>\n",
       "      <td>74.105000</td>\n",
       "      <td>80.210000</td>\n",
       "      <td>92.175000</td>\n",
       "    </tr>\n",
       "    <tr>\n",
       "      <th>50%</th>\n",
       "      <td>202005.000000</td>\n",
       "      <td>201947.00000</td>\n",
       "      <td>78.500000</td>\n",
       "      <td>92.860000</td>\n",
       "      <td>98.570000</td>\n",
       "      <td>96.600000</td>\n",
       "    </tr>\n",
       "    <tr>\n",
       "      <th>75%</th>\n",
       "      <td>202107.000000</td>\n",
       "      <td>202121.00000</td>\n",
       "      <td>125.750000</td>\n",
       "      <td>123.570000</td>\n",
       "      <td>120.860000</td>\n",
       "      <td>102.500000</td>\n",
       "    </tr>\n",
       "    <tr>\n",
       "      <th>max</th>\n",
       "      <td>202209.000000</td>\n",
       "      <td>202239.00000</td>\n",
       "      <td>1268.000000</td>\n",
       "      <td>397.000000</td>\n",
       "      <td>333.000000</td>\n",
       "      <td>109.200000</td>\n",
       "    </tr>\n",
       "  </tbody>\n",
       "</table>\n",
       "</div>"
      ],
      "text/plain": [
       "              YYYYMM      YYYYWEEK     ORDERQTY          7MA         14MA  \\\n",
       "count    1250.000000    1250.00000  1250.000000  1244.000000  1237.000000   \n",
       "mean   201993.708000  171617.02640   106.640800   106.749502   106.770525   \n",
       "std       135.890122   67870.93516   120.738314    50.587520    38.899247   \n",
       "min    201801.000000   20181.00000     2.000000    32.000000    43.360000   \n",
       "25%    201903.000000  201829.00000    42.000000    74.105000    80.210000   \n",
       "50%    202005.000000  201947.00000    78.500000    92.860000    98.570000   \n",
       "75%    202107.000000  202121.00000   125.750000   123.570000   120.860000   \n",
       "max    202209.000000  202239.00000  1268.000000   397.000000   333.000000   \n",
       "\n",
       "                PS  \n",
       "count  1250.000000  \n",
       "mean     95.052640  \n",
       "std      10.454292  \n",
       "min      62.200000  \n",
       "25%      92.175000  \n",
       "50%      96.600000  \n",
       "75%     102.500000  \n",
       "max     109.200000  "
      ]
     },
     "execution_count": 7,
     "metadata": {},
     "output_type": "execute_result"
    }
   ],
   "source": [
    "raw_df.describe()"
   ]
  },
  {
   "cell_type": "markdown",
   "id": "f3bd3e23",
   "metadata": {},
   "source": [
    "### 결측치 제거"
   ]
  },
  {
   "cell_type": "code",
   "execution_count": 8,
   "id": "ed09d31a",
   "metadata": {},
   "outputs": [
    {
     "data": {
      "text/plain": [
       "OrderDate     0\n",
       "YYYYMM        0\n",
       "YYYYWEEK      0\n",
       "ORDERQTY      0\n",
       "7MA           6\n",
       "14MA         13\n",
       "PS            0\n",
       "dtype: int64"
      ]
     },
     "execution_count": 8,
     "metadata": {},
     "output_type": "execute_result"
    }
   ],
   "source": [
    "raw_df.isnull().sum()"
   ]
  },
  {
   "cell_type": "code",
   "execution_count": 9,
   "id": "b180d5a2",
   "metadata": {},
   "outputs": [
    {
     "name": "stdout",
     "output_type": "stream",
     "text": [
      "OrderDate:0\n",
      "YYYYMM:0\n",
      "YYYYWEEK:0\n",
      "ORDERQTY:0\n",
      "7MA:0\n",
      "14MA:0\n",
      "PS:0\n"
     ]
    }
   ],
   "source": [
    "#컬럼에 0의 개수 확인\n",
    "for col in raw_df.columns:\n",
    "    missing_rows = raw_df.loc[raw_df[col]==0].shape[0]\n",
    "    print(col + ':' + str(missing_rows))"
   ]
  },
  {
   "cell_type": "code",
   "execution_count": 10,
   "id": "01c33457",
   "metadata": {},
   "outputs": [
    {
     "data": {
      "text/html": [
       "<div>\n",
       "<style scoped>\n",
       "    .dataframe tbody tr th:only-of-type {\n",
       "        vertical-align: middle;\n",
       "    }\n",
       "\n",
       "    .dataframe tbody tr th {\n",
       "        vertical-align: top;\n",
       "    }\n",
       "\n",
       "    .dataframe thead th {\n",
       "        text-align: right;\n",
       "    }\n",
       "</style>\n",
       "<table border=\"1\" class=\"dataframe\">\n",
       "  <thead>\n",
       "    <tr style=\"text-align: right;\">\n",
       "      <th></th>\n",
       "      <th>OrderDate</th>\n",
       "      <th>YYYYMM</th>\n",
       "      <th>YYYYWEEK</th>\n",
       "      <th>ORDERQTY</th>\n",
       "      <th>7MA</th>\n",
       "      <th>14MA</th>\n",
       "      <th>PS</th>\n",
       "    </tr>\n",
       "  </thead>\n",
       "  <tbody>\n",
       "    <tr>\n",
       "      <th>0</th>\n",
       "      <td>2018-01-02</td>\n",
       "      <td>201801</td>\n",
       "      <td>20181</td>\n",
       "      <td>92</td>\n",
       "      <td>NaN</td>\n",
       "      <td>NaN</td>\n",
       "      <td>99.4</td>\n",
       "    </tr>\n",
       "    <tr>\n",
       "      <th>1</th>\n",
       "      <td>2018-01-03</td>\n",
       "      <td>201801</td>\n",
       "      <td>20181</td>\n",
       "      <td>130</td>\n",
       "      <td>NaN</td>\n",
       "      <td>NaN</td>\n",
       "      <td>99.4</td>\n",
       "    </tr>\n",
       "    <tr>\n",
       "      <th>2</th>\n",
       "      <td>2018-01-04</td>\n",
       "      <td>201801</td>\n",
       "      <td>20181</td>\n",
       "      <td>45</td>\n",
       "      <td>NaN</td>\n",
       "      <td>NaN</td>\n",
       "      <td>99.4</td>\n",
       "    </tr>\n",
       "    <tr>\n",
       "      <th>3</th>\n",
       "      <td>2018-01-05</td>\n",
       "      <td>201801</td>\n",
       "      <td>20181</td>\n",
       "      <td>54</td>\n",
       "      <td>NaN</td>\n",
       "      <td>NaN</td>\n",
       "      <td>99.4</td>\n",
       "    </tr>\n",
       "    <tr>\n",
       "      <th>4</th>\n",
       "      <td>2018-01-08</td>\n",
       "      <td>201801</td>\n",
       "      <td>20182</td>\n",
       "      <td>464</td>\n",
       "      <td>NaN</td>\n",
       "      <td>NaN</td>\n",
       "      <td>99.4</td>\n",
       "    </tr>\n",
       "    <tr>\n",
       "      <th>5</th>\n",
       "      <td>2018-01-09</td>\n",
       "      <td>201801</td>\n",
       "      <td>20182</td>\n",
       "      <td>60</td>\n",
       "      <td>NaN</td>\n",
       "      <td>NaN</td>\n",
       "      <td>99.4</td>\n",
       "    </tr>\n",
       "    <tr>\n",
       "      <th>6</th>\n",
       "      <td>2018-01-10</td>\n",
       "      <td>201801</td>\n",
       "      <td>20182</td>\n",
       "      <td>60</td>\n",
       "      <td>129.29</td>\n",
       "      <td>NaN</td>\n",
       "      <td>99.4</td>\n",
       "    </tr>\n",
       "    <tr>\n",
       "      <th>7</th>\n",
       "      <td>2018-01-11</td>\n",
       "      <td>201801</td>\n",
       "      <td>20182</td>\n",
       "      <td>50</td>\n",
       "      <td>123.29</td>\n",
       "      <td>NaN</td>\n",
       "      <td>99.4</td>\n",
       "    </tr>\n",
       "    <tr>\n",
       "      <th>8</th>\n",
       "      <td>2018-01-12</td>\n",
       "      <td>201801</td>\n",
       "      <td>20182</td>\n",
       "      <td>2</td>\n",
       "      <td>105.00</td>\n",
       "      <td>NaN</td>\n",
       "      <td>99.4</td>\n",
       "    </tr>\n",
       "    <tr>\n",
       "      <th>9</th>\n",
       "      <td>2018-01-15</td>\n",
       "      <td>201801</td>\n",
       "      <td>20183</td>\n",
       "      <td>85</td>\n",
       "      <td>110.71</td>\n",
       "      <td>NaN</td>\n",
       "      <td>99.4</td>\n",
       "    </tr>\n",
       "    <tr>\n",
       "      <th>10</th>\n",
       "      <td>2018-01-16</td>\n",
       "      <td>201801</td>\n",
       "      <td>20183</td>\n",
       "      <td>12</td>\n",
       "      <td>104.71</td>\n",
       "      <td>NaN</td>\n",
       "      <td>99.4</td>\n",
       "    </tr>\n",
       "    <tr>\n",
       "      <th>11</th>\n",
       "      <td>2018-01-17</td>\n",
       "      <td>201801</td>\n",
       "      <td>20183</td>\n",
       "      <td>120</td>\n",
       "      <td>55.57</td>\n",
       "      <td>NaN</td>\n",
       "      <td>99.4</td>\n",
       "    </tr>\n",
       "    <tr>\n",
       "      <th>12</th>\n",
       "      <td>2018-01-18</td>\n",
       "      <td>201801</td>\n",
       "      <td>20183</td>\n",
       "      <td>140</td>\n",
       "      <td>67.00</td>\n",
       "      <td>NaN</td>\n",
       "      <td>99.4</td>\n",
       "    </tr>\n",
       "  </tbody>\n",
       "</table>\n",
       "</div>"
      ],
      "text/plain": [
       "     OrderDate  YYYYMM  YYYYWEEK  ORDERQTY     7MA  14MA    PS\n",
       "0   2018-01-02  201801     20181        92     NaN   NaN  99.4\n",
       "1   2018-01-03  201801     20181       130     NaN   NaN  99.4\n",
       "2   2018-01-04  201801     20181        45     NaN   NaN  99.4\n",
       "3   2018-01-05  201801     20181        54     NaN   NaN  99.4\n",
       "4   2018-01-08  201801     20182       464     NaN   NaN  99.4\n",
       "5   2018-01-09  201801     20182        60     NaN   NaN  99.4\n",
       "6   2018-01-10  201801     20182        60  129.29   NaN  99.4\n",
       "7   2018-01-11  201801     20182        50  123.29   NaN  99.4\n",
       "8   2018-01-12  201801     20182         2  105.00   NaN  99.4\n",
       "9   2018-01-15  201801     20183        85  110.71   NaN  99.4\n",
       "10  2018-01-16  201801     20183        12  104.71   NaN  99.4\n",
       "11  2018-01-17  201801     20183       120   55.57   NaN  99.4\n",
       "12  2018-01-18  201801     20183       140   67.00   NaN  99.4"
      ]
     },
     "execution_count": 10,
     "metadata": {},
     "output_type": "execute_result"
    }
   ],
   "source": [
    "raw_df.loc[raw_df['14MA'].isna()]"
   ]
  },
  {
   "cell_type": "code",
   "execution_count": 11,
   "id": "89b39ccd",
   "metadata": {
    "scrolled": true
   },
   "outputs": [
    {
     "data": {
      "text/plain": [
       "OrderDate    0\n",
       "YYYYMM       0\n",
       "YYYYWEEK     0\n",
       "ORDERQTY     0\n",
       "7MA          0\n",
       "14MA         0\n",
       "PS           0\n",
       "dtype: int64"
      ]
     },
     "execution_count": 11,
     "metadata": {},
     "output_type": "execute_result"
    }
   ],
   "source": [
    "#missing data 처리\n",
    "raw_df = raw_df.dropna()\n",
    "raw_df.isnull().sum()"
   ]
  },
  {
   "cell_type": "markdown",
   "id": "70f97c83",
   "metadata": {},
   "source": [
    "### 정규화"
   ]
  },
  {
   "cell_type": "code",
   "execution_count": 12,
   "id": "5444f66b",
   "metadata": {},
   "outputs": [],
   "source": [
    "from sklearn.preprocessing import MinMaxScaler"
   ]
  },
  {
   "cell_type": "code",
   "execution_count": 17,
   "id": "b5caf044",
   "metadata": {},
   "outputs": [],
   "source": [
    "scaler = MinMaxScaler()\n",
    "scale_col = ['ORDERQTY', '7MA', '14MA', 'PS']"
   ]
  },
  {
   "cell_type": "code",
   "execution_count": 22,
   "id": "4026497a",
   "metadata": {},
   "outputs": [
    {
     "data": {
      "text/plain": [
       "array([[0.0221169 , 0.08413699, 0.18174285, 0.79148936],\n",
       "       [0.0300158 , 0.08024658, 0.16893385, 0.79148936],\n",
       "       [0.19589258, 0.17728767, 0.1985223 , 0.79148936],\n",
       "       ...,\n",
       "       [0.01421801, 0.17769863, 0.1607858 , 0.76170213],\n",
       "       [0.06161137, 0.16868493, 0.17066013, 0.76170213],\n",
       "       [0.01421801, 0.12915068, 0.15829996, 0.76170213]])"
      ]
     },
     "execution_count": 22,
     "metadata": {},
     "output_type": "execute_result"
    }
   ],
   "source": [
    "scaled_df = scaler.fit_transform(raw_df[scale_col])\n",
    "scaled_df"
   ]
  },
  {
   "cell_type": "code",
   "execution_count": 23,
   "id": "ab812c03",
   "metadata": {},
   "outputs": [],
   "source": [
    "scaled_df = pd.DataFrame(scaled_df, columns=scale_col)    #ndarray array -> DataFrame"
   ]
  },
  {
   "cell_type": "code",
   "execution_count": 38,
   "id": "edbd2196",
   "metadata": {},
   "outputs": [
    {
     "data": {
      "text/html": [
       "<div>\n",
       "<style scoped>\n",
       "    .dataframe tbody tr th:only-of-type {\n",
       "        vertical-align: middle;\n",
       "    }\n",
       "\n",
       "    .dataframe tbody tr th {\n",
       "        vertical-align: top;\n",
       "    }\n",
       "\n",
       "    .dataframe thead th {\n",
       "        text-align: right;\n",
       "    }\n",
       "</style>\n",
       "<table border=\"1\" class=\"dataframe\">\n",
       "  <thead>\n",
       "    <tr style=\"text-align: right;\">\n",
       "      <th></th>\n",
       "      <th>ORDERQTY</th>\n",
       "      <th>7MA</th>\n",
       "      <th>14MA</th>\n",
       "      <th>PS</th>\n",
       "    </tr>\n",
       "  </thead>\n",
       "  <tbody>\n",
       "    <tr>\n",
       "      <th>0</th>\n",
       "      <td>0.022117</td>\n",
       "      <td>0.084137</td>\n",
       "      <td>0.181743</td>\n",
       "      <td>0.791489</td>\n",
       "    </tr>\n",
       "    <tr>\n",
       "      <th>1</th>\n",
       "      <td>0.030016</td>\n",
       "      <td>0.080247</td>\n",
       "      <td>0.168934</td>\n",
       "      <td>0.791489</td>\n",
       "    </tr>\n",
       "    <tr>\n",
       "      <th>2</th>\n",
       "      <td>0.195893</td>\n",
       "      <td>0.177288</td>\n",
       "      <td>0.198522</td>\n",
       "      <td>0.791489</td>\n",
       "    </tr>\n",
       "    <tr>\n",
       "      <th>3</th>\n",
       "      <td>0.085308</td>\n",
       "      <td>0.187096</td>\n",
       "      <td>0.214542</td>\n",
       "      <td>0.791489</td>\n",
       "    </tr>\n",
       "    <tr>\n",
       "      <th>4</th>\n",
       "      <td>0.036335</td>\n",
       "      <td>0.201178</td>\n",
       "      <td>0.213058</td>\n",
       "      <td>0.791489</td>\n",
       "    </tr>\n",
       "    <tr>\n",
       "      <th>...</th>\n",
       "      <td>...</td>\n",
       "      <td>...</td>\n",
       "      <td>...</td>\n",
       "      <td>...</td>\n",
       "    </tr>\n",
       "    <tr>\n",
       "      <th>1232</th>\n",
       "      <td>0.063981</td>\n",
       "      <td>0.217233</td>\n",
       "      <td>0.168174</td>\n",
       "      <td>0.761702</td>\n",
       "    </tr>\n",
       "    <tr>\n",
       "      <th>1233</th>\n",
       "      <td>0.033965</td>\n",
       "      <td>0.219178</td>\n",
       "      <td>0.162029</td>\n",
       "      <td>0.761702</td>\n",
       "    </tr>\n",
       "    <tr>\n",
       "      <th>1234</th>\n",
       "      <td>0.014218</td>\n",
       "      <td>0.177699</td>\n",
       "      <td>0.160786</td>\n",
       "      <td>0.761702</td>\n",
       "    </tr>\n",
       "    <tr>\n",
       "      <th>1235</th>\n",
       "      <td>0.061611</td>\n",
       "      <td>0.168685</td>\n",
       "      <td>0.170660</td>\n",
       "      <td>0.761702</td>\n",
       "    </tr>\n",
       "    <tr>\n",
       "      <th>1236</th>\n",
       "      <td>0.014218</td>\n",
       "      <td>0.129151</td>\n",
       "      <td>0.158300</td>\n",
       "      <td>0.761702</td>\n",
       "    </tr>\n",
       "  </tbody>\n",
       "</table>\n",
       "<p>1237 rows × 4 columns</p>\n",
       "</div>"
      ],
      "text/plain": [
       "      ORDERQTY       7MA      14MA        PS\n",
       "0     0.022117  0.084137  0.181743  0.791489\n",
       "1     0.030016  0.080247  0.168934  0.791489\n",
       "2     0.195893  0.177288  0.198522  0.791489\n",
       "3     0.085308  0.187096  0.214542  0.791489\n",
       "4     0.036335  0.201178  0.213058  0.791489\n",
       "...        ...       ...       ...       ...\n",
       "1232  0.063981  0.217233  0.168174  0.761702\n",
       "1233  0.033965  0.219178  0.162029  0.761702\n",
       "1234  0.014218  0.177699  0.160786  0.761702\n",
       "1235  0.061611  0.168685  0.170660  0.761702\n",
       "1236  0.014218  0.129151  0.158300  0.761702\n",
       "\n",
       "[1237 rows x 4 columns]"
      ]
     },
     "execution_count": 38,
     "metadata": {},
     "output_type": "execute_result"
    }
   ],
   "source": [
    "scaled_df"
   ]
  },
  {
   "cell_type": "markdown",
   "id": "3d477893",
   "metadata": {},
   "source": [
    "### 수요예측을 위해 7MA, 14MA, ORDERQTY항목을 feature 선정\n",
    "  - 정답은 ORDERQTY 선정\n",
    "  - 시계열 데이터를 위한 windows size = 20"
   ]
  },
  {
   "cell_type": "code",
   "execution_count": 25,
   "id": "98086697",
   "metadata": {},
   "outputs": [],
   "source": [
    "# 입력 파라미터 feature, label => numpy type\n",
    "def make_sequence_dataset(feature, label, window_size):\n",
    "    feature_list = []    #생성될 feature list\n",
    "    label_list = []      #생설될 label list\n",
    "    \n",
    "    for i in range(len(feature)-windows_size):\n",
    "        feature_list.append(feature[i:i+window_size])\n",
    "        label_list.append(label[i+window_size])\n",
    "    \n",
    "    return np.array(feature_list), np.array(label_list)     "
   ]
  },
  {
   "cell_type": "code",
   "execution_count": 39,
   "id": "3ff1ae54",
   "metadata": {},
   "outputs": [],
   "source": [
    "# feature_df, lablel_df 생성\n",
    "feature_cols = ['7MA', '14MA', 'ORDERQTY']\n",
    "label_cols = ['ORDERQTY']\n",
    "\n",
    "feature_df = pd.DataFrame(scaled_df, columns=feature_cols)\n",
    "label_df = pd.DataFrame(scaled_df, columns=label_cols)"
   ]
  },
  {
   "cell_type": "code",
   "execution_count": 40,
   "id": "d572bfcc",
   "metadata": {},
   "outputs": [
    {
     "name": "stdout",
     "output_type": "stream",
     "text": [
      "(1237, 3) (1237, 1)\n"
     ]
    }
   ],
   "source": [
    "# Dataframe -> numpy 변환\n",
    "feature_np = feature_df.to_numpy()\n",
    "label_np = label_df.to_numpy()\n",
    "\n",
    "print(feature_np.shape, label_np.shape)"
   ]
  },
  {
   "cell_type": "code",
   "execution_count": 41,
   "id": "e9b434d1",
   "metadata": {},
   "outputs": [
    {
     "data": {
      "text/plain": [
       "array([0.48846575, 0.38644524, 0.41706161])"
      ]
     },
     "execution_count": 41,
     "metadata": {},
     "output_type": "execute_result"
    }
   ],
   "source": [
    "feature_np[10]"
   ]
  },
  {
   "cell_type": "markdown",
   "id": "f4a1a7b0",
   "metadata": {},
   "source": [
    "### 시계열 데이터 생성 (make_sequence_dataset)"
   ]
  },
  {
   "cell_type": "code",
   "execution_count": 65,
   "id": "c3c90ef6",
   "metadata": {},
   "outputs": [],
   "source": [
    "windows_size = 40\n",
    "X, Y = make_sequence_dataset(feature_np, label_np, windows_size)"
   ]
  },
  {
   "cell_type": "code",
   "execution_count": 66,
   "id": "760369e5",
   "metadata": {},
   "outputs": [
    {
     "name": "stdout",
     "output_type": "stream",
     "text": [
      "(1197, 40, 3) (1197, 1)\n"
     ]
    }
   ],
   "source": [
    "print(X.shape, Y.shape)"
   ]
  },
  {
   "cell_type": "code",
   "execution_count": 67,
   "id": "19ad9b94",
   "metadata": {},
   "outputs": [
    {
     "name": "stdout",
     "output_type": "stream",
     "text": [
      "[[0.08024658 0.16893385 0.0300158 ]\n",
      " [0.17728767 0.1985223  0.19589258]\n",
      " [0.18709589 0.21454219 0.08530806]\n",
      " [0.20117808 0.21305759 0.03633491]\n",
      " [0.15616438 0.09988261 0.00236967]\n",
      " [0.11312329 0.09245961 0.0221169 ]\n",
      " [0.12093151 0.09000829 0.03791469]\n",
      " [0.38238356 0.25227869 0.55766193]\n",
      " [0.32408219 0.2766883  0.07819905]\n",
      " [0.48846575 0.38644524 0.41706161]\n",
      " [0.47358904 0.38592736 0.00631912]\n",
      " [0.51076712 0.38099019 0.07740916]\n",
      " [0.52249315 0.36127607 0.04581359]\n",
      " [0.52210959 0.36597155 0.0371248 ]\n",
      " [0.27632877 0.37581135 0.06161137]\n",
      " [0.26810959 0.33389725 0.06161137]\n",
      " [0.31468493 0.46682088 0.51105845]\n",
      " [0.32876712 0.46633752 0.03475513]\n",
      " [0.32876712 0.48974589 0.07740916]\n",
      " [0.39452055 0.53859964 0.17851501]\n",
      " [0.53386301 0.62612208 0.31832543]\n",
      " [0.5440274  0.47766193 0.0821485 ]\n",
      " [0.55186301 0.47742025 0.07740916]\n",
      " [0.36282192 0.38765364 0.12954186]\n",
      " [0.35654795 0.3925908  0.0221169 ]\n",
      " [0.34090411 0.38271648 0.04581359]\n",
      " [0.25947945 0.37287667 0.01421801]\n",
      " [0.16673973 0.40222345 0.13112164]\n",
      " [0.13306849 0.38741196 0.01421801]\n",
      " [0.1530411  0.40491645 0.11769352]\n",
      " [0.11153425 0.25966717 0.04581359]\n",
      " [0.15068493 0.28038254 0.10110585]\n",
      " [0.21057534 0.30824472 0.16666667]\n",
      " [0.236      0.27299406 0.06556082]\n",
      " [0.17221918 0.17435437 0.00236967]\n",
      " [0.2270137  0.18764673 0.12480253]\n",
      " [0.19139726 0.17780693 0.04581359]\n",
      " [0.17964384 0.14424803 0.0221169 ]\n",
      " [0.18591781 0.17286977 0.11374408]\n",
      " [0.11545205 0.16620633 0.02448657]]\n"
     ]
    }
   ],
   "source": [
    "print(X[1])"
   ]
  },
  {
   "cell_type": "markdown",
   "id": "c1d6efb1",
   "metadata": {},
   "source": [
    "### 학습데이터, 테스트데이터 생성"
   ]
  },
  {
   "cell_type": "code",
   "execution_count": 68,
   "id": "56e0d0a4",
   "metadata": {},
   "outputs": [
    {
     "name": "stdout",
     "output_type": "stream",
     "text": [
      "(1097, 40, 3) (1097, 1)\n",
      "(100, 40, 3) (100, 1)\n"
     ]
    }
   ],
   "source": [
    "#train, test 분리\n",
    "split = -100\n",
    "\n",
    "x_train = X[0:split]\n",
    "y_train = Y[0:split]\n",
    "\n",
    "x_test = X[split:]\n",
    "y_test = Y[split:]\n",
    "\n",
    "print(x_train.shape, y_train.shape)\n",
    "print(x_test.shape, y_test.shape)"
   ]
  },
  {
   "cell_type": "markdown",
   "id": "1eb758f3",
   "metadata": {},
   "source": [
    "### Model and Compile"
   ]
  },
  {
   "cell_type": "code",
   "execution_count": 69,
   "id": "09ae4378",
   "metadata": {},
   "outputs": [],
   "source": [
    "#모델생성\n",
    "model = Sequential()\n",
    "model.add(LSTM(128, activation='tanh', input_shape=x_train[0].shape))\n",
    "model.add(Dense(1, activation='linear'))"
   ]
  },
  {
   "cell_type": "code",
   "execution_count": 70,
   "id": "730d450b",
   "metadata": {},
   "outputs": [
    {
     "name": "stdout",
     "output_type": "stream",
     "text": [
      "Model: \"sequential_1\"\n",
      "_________________________________________________________________\n",
      " Layer (type)                Output Shape              Param #   \n",
      "=================================================================\n",
      " lstm_1 (LSTM)               (None, 128)               67584     \n",
      "                                                                 \n",
      " dense_1 (Dense)             (None, 1)                 129       \n",
      "                                                                 \n",
      "=================================================================\n",
      "Total params: 67,713\n",
      "Trainable params: 67,713\n",
      "Non-trainable params: 0\n",
      "_________________________________________________________________\n"
     ]
    }
   ],
   "source": [
    "model.summary()"
   ]
  },
  {
   "cell_type": "code",
   "execution_count": 71,
   "id": "b34ade82",
   "metadata": {},
   "outputs": [],
   "source": [
    "model.compile(loss='mse', optimizer='adam', metrics=['mae', 'acc'])"
   ]
  },
  {
   "cell_type": "markdown",
   "id": "5d8ac610",
   "metadata": {},
   "source": [
    "### 모델학습 (Early Stop)"
   ]
  },
  {
   "cell_type": "code",
   "execution_count": 72,
   "id": "99a73a0e",
   "metadata": {},
   "outputs": [],
   "source": [
    "from tensorflow.keras.callbacks import EarlyStopping"
   ]
  },
  {
   "cell_type": "code",
   "execution_count": 73,
   "id": "dd0230a1",
   "metadata": {},
   "outputs": [],
   "source": [
    "early_stop = EarlyStopping(monitor='val_loss', patience=5)"
   ]
  },
  {
   "cell_type": "code",
   "execution_count": 74,
   "id": "42c353cb",
   "metadata": {
    "scrolled": true
   },
   "outputs": [
    {
     "name": "stdout",
     "output_type": "stream",
     "text": [
      "Epoch 1/100\n",
      "55/55 [==============================] - 2s 25ms/step - loss: 0.0094 - mae: 0.0577 - acc: 0.0027 - val_loss: 0.0077 - val_mae: 0.0592 - val_acc: 0.0000e+00\n",
      "Epoch 2/100\n",
      "55/55 [==============================] - 1s 17ms/step - loss: 0.0093 - mae: 0.0578 - acc: 0.0027 - val_loss: 0.0074 - val_mae: 0.0456 - val_acc: 0.0000e+00\n",
      "Epoch 3/100\n",
      "55/55 [==============================] - 1s 17ms/step - loss: 0.0090 - mae: 0.0564 - acc: 0.0027 - val_loss: 0.0076 - val_mae: 0.0579 - val_acc: 0.0000e+00\n",
      "Epoch 4/100\n",
      "55/55 [==============================] - 1s 18ms/step - loss: 0.0091 - mae: 0.0570 - acc: 0.0027 - val_loss: 0.0072 - val_mae: 0.0481 - val_acc: 0.0000e+00\n",
      "Epoch 5/100\n",
      "55/55 [==============================] - 1s 17ms/step - loss: 0.0090 - mae: 0.0559 - acc: 0.0027 - val_loss: 0.0076 - val_mae: 0.0580 - val_acc: 0.0000e+00\n",
      "Epoch 6/100\n",
      "55/55 [==============================] - 1s 17ms/step - loss: 0.0092 - mae: 0.0569 - acc: 0.0027 - val_loss: 0.0074 - val_mae: 0.0545 - val_acc: 0.0000e+00\n",
      "Epoch 7/100\n",
      "55/55 [==============================] - 1s 17ms/step - loss: 0.0091 - mae: 0.0561 - acc: 0.0027 - val_loss: 0.0071 - val_mae: 0.0503 - val_acc: 0.0000e+00\n",
      "Epoch 8/100\n",
      "55/55 [==============================] - 1s 17ms/step - loss: 0.0091 - mae: 0.0573 - acc: 0.0027 - val_loss: 0.0072 - val_mae: 0.0461 - val_acc: 0.0000e+00\n",
      "Epoch 9/100\n",
      "55/55 [==============================] - 1s 17ms/step - loss: 0.0090 - mae: 0.0552 - acc: 0.0027 - val_loss: 0.0073 - val_mae: 0.0529 - val_acc: 0.0000e+00\n",
      "Epoch 10/100\n",
      "55/55 [==============================] - 1s 17ms/step - loss: 0.0089 - mae: 0.0568 - acc: 0.0027 - val_loss: 0.0072 - val_mae: 0.0477 - val_acc: 0.0000e+00\n",
      "Epoch 11/100\n",
      "55/55 [==============================] - 1s 17ms/step - loss: 0.0090 - mae: 0.0556 - acc: 0.0027 - val_loss: 0.0073 - val_mae: 0.0545 - val_acc: 0.0000e+00\n",
      "Epoch 12/100\n",
      "55/55 [==============================] - 1s 17ms/step - loss: 0.0090 - mae: 0.0569 - acc: 0.0027 - val_loss: 0.0071 - val_mae: 0.0499 - val_acc: 0.0000e+00\n"
     ]
    },
    {
     "data": {
      "text/plain": [
       "<keras.callbacks.History at 0x2175dd32b80>"
      ]
     },
     "execution_count": 74,
     "metadata": {},
     "output_type": "execute_result"
    }
   ],
   "source": [
    "model.fit(x_train, y_train, validation_data=(x_test, y_test), epochs=100, batch_size=20, callbacks=[early_stop])"
   ]
  },
  {
   "attachments": {
    "image.png": {
     "image/png": "[encoded data removed]"
    }
   },
   "cell_type": "markdown",
   "id": "96dc1d0a",
   "metadata": {},
   "source": [
    "### 예측을 통한 정답과 비교 (오차계산 MAPE, 평균절대값 백분율오차)\n",
    "\n",
    "![image.png](attachment:image.png)"
   ]
  },
  {
   "cell_type": "code",
   "execution_count": 75,
   "id": "edb0a527",
   "metadata": {},
   "outputs": [],
   "source": [
    "pred = model.predict(x_test)"
   ]
  },
  {
   "cell_type": "code",
   "execution_count": 76,
   "id": "69cb374f",
   "metadata": {},
   "outputs": [
    {
     "data": {
      "text/plain": [
       "(100, 1)"
      ]
     },
     "execution_count": 76,
     "metadata": {},
     "output_type": "execute_result"
    }
   ],
   "source": [
    "pred.shape"
   ]
  },
  {
   "cell_type": "code",
   "execution_count": 78,
   "id": "fb88e0d5",
   "metadata": {},
   "outputs": [
    {
     "data": {
      "image/png": "[encoded data removed]",
      "text/plain": [
       "<Figure size 864x432 with 1 Axes>"
      ]
     },
     "metadata": {
      "needs_background": "light"
     },
     "output_type": "display_data"
    }
   ],
   "source": [
    "plt.figure(figsize=(12,6))\n",
    "plt.title('PO forecasting 7MA 14MA ORDERQTY')\n",
    "plt.ylabel('ORDERQTY')\n",
    "plt.xlabel('period')\n",
    "plt.plot(y_test, label='actual')\n",
    "plt.plot(pred, label='prediction')\n",
    "plt.grid()\n",
    "plt.legend(loc='best')\n",
    "\n",
    "plt.show()\n"
   ]
  },
  {
   "cell_type": "code",
   "execution_count": 54,
   "id": "dfbb1b7e",
   "metadata": {},
   "outputs": [
    {
     "name": "stdout",
     "output_type": "stream",
     "text": [
      "1.9160375468662334\n"
     ]
    }
   ],
   "source": [
    "# MAPE\n",
    "\n",
    "print(np.sum(abs(y_test-pred)/y_test)/len(x_test))"
   ]
  }
 ],
 "metadata": {
  "kernelspec": {
   "display_name": "Python 3 (ipykernel)",
   "language": "python",
   "name": "python3"
  },
  "language_info": {
   "codemirror_mode": {
    "name": "ipython",
    "version": 3
   },
   "file_extension": ".py",
   "mimetype": "text/x-python",
   "name": "python",
   "nbconvert_exporter": "python",
   "pygments_lexer": "ipython3",
   "version": "3.9.12"
  }
 },
 "nbformat": 4,
 "nbformat_minor": 5
}
