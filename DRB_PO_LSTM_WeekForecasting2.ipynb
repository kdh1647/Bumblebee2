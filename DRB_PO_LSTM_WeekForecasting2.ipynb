{
  "cells": [
    {
      "cell_type": "markdown",
      "metadata": {
        "id": "view-in-github",
        "colab_type": "text"
      },
      "source": [
        "<a href=\"https://colab.research.google.com/github/kdh1647/Bumblebee2/blob/master/DRB_PO_LSTM_WeekForecasting2.ipynb\" target=\"_parent\"><img src=\"https://colab.research.google.com/assets/colab-badge.svg\" alt=\"Open In Colab\"/></a>"
      ]
    },
    {
      "cell_type": "code",
      "execution_count": 1,
      "id": "aba48930",
      "metadata": {
        "id": "aba48930"
      },
      "outputs": [],
      "source": [
        "import tensorflow as tf\n",
        "import numpy as np\n",
        "import pandas as pd\n",
        "import matplotlib.pyplot as plt\n",
        "from keras.models import Sequential\n",
        "from keras.layers import LSTM, Dense, Dropout, Embedding"
      ]
    },
    {
      "cell_type": "code",
      "execution_count": 2,
      "id": "7434651a",
      "metadata": {
        "colab": {
          "base_uri": "https://localhost:8080/"
        },
        "id": "7434651a",
        "outputId": "336115e4-7c75-4b12-d3d3-264c100f47a6"
      },
      "outputs": [
        {
          "output_type": "execute_result",
          "data": {
            "text/plain": [
              "[]"
            ]
          },
          "metadata": {},
          "execution_count": 2
        }
      ],
      "source": [
        "tf.config.list_physical_devices('GPU')"
      ]
    },
    {
      "cell_type": "markdown",
      "id": "fa537655",
      "metadata": {
        "id": "fa537655"
      },
      "source": [
        "### Data Read"
      ]
    },
    {
      "cell_type": "code",
      "execution_count": 3,
      "id": "a2ed1c9f",
      "metadata": {
        "id": "a2ed1c9f"
      },
      "outputs": [],
      "source": [
        "raw_df = pd.read_csv('https://raw.githubusercontent.com/kdh1647/Bumblebee2/master/B72W2_3MA_5MA_PS.csv')"
      ]
    },
    {
      "cell_type": "code",
      "execution_count": 6,
      "id": "eca212b1",
      "metadata": {
        "colab": {
          "base_uri": "https://localhost:8080/"
        },
        "id": "eca212b1",
        "outputId": "a0ee63ac-c36f-4cb6-892d-fdec5cf20ae4"
      },
      "outputs": [
        {
          "output_type": "execute_result",
          "data": {
            "text/plain": [
              "<bound method NDFrame.head of       OrderDate  YYYYWEEK  OrderQty     3MA    5MA     PS\n",
              "0    2013-01-07    201302       262  243.01  227.0  472.5\n",
              "1    2013-01-14    201303       411  426.67  411.2  567.0\n",
              "2    2013-01-21    201304       373  349.66  360.4  472.5\n",
              "3    2013-01-28    201305       272  306.00  338.2  570.6\n",
              "4    2013-02-04    201306       525  484.33  354.4  385.2\n",
              "..          ...       ...       ...     ...    ...    ...\n",
              "504  2022-08-29    202235       257  429.66  597.2  394.6\n",
              "505  2022-09-05    202236       223  298.67  295.6  392.0\n",
              "506  2022-09-13    202237       415  360.01  317.6  490.0\n",
              "507  2022-09-19    202238       656  610.67  573.4  490.0\n",
              "508  2022-09-26    202239       248  343.33  439.6  490.0\n",
              "\n",
              "[509 rows x 6 columns]>"
            ]
          },
          "metadata": {},
          "execution_count": 6
        }
      ],
      "source": [
        "raw_df.head"
      ]
    },
    {
      "cell_type": "code",
      "execution_count": 7,
      "id": "c3a596f6",
      "metadata": {
        "colab": {
          "base_uri": "https://localhost:8080/"
        },
        "id": "c3a596f6",
        "outputId": "e9aa2d18-f631-435c-c1d8-c30d945e57df"
      },
      "outputs": [
        {
          "output_type": "stream",
          "name": "stdout",
          "text": [
            "<class 'pandas.core.frame.DataFrame'>\n",
            "RangeIndex: 509 entries, 0 to 508\n",
            "Data columns (total 6 columns):\n",
            " #   Column     Non-Null Count  Dtype  \n",
            "---  ------     --------------  -----  \n",
            " 0   OrderDate  509 non-null    object \n",
            " 1   YYYYWEEK   509 non-null    int64  \n",
            " 2   OrderQty   509 non-null    int64  \n",
            " 3   3MA        509 non-null    float64\n",
            " 4   5MA        509 non-null    float64\n",
            " 5   PS         509 non-null    float64\n",
            "dtypes: float64(3), int64(2), object(1)\n",
            "memory usage: 24.0+ KB\n"
          ]
        }
      ],
      "source": [
        "raw_df.info()"
      ]
    },
    {
      "cell_type": "code",
      "execution_count": 8,
      "id": "e5eb0224",
      "metadata": {
        "colab": {
          "base_uri": "https://localhost:8080/",
          "height": 423
        },
        "id": "e5eb0224",
        "outputId": "91f69c53-9949-47d6-e6c4-2530f6a45c56"
      },
      "outputs": [
        {
          "output_type": "execute_result",
          "data": {
            "text/plain": [
              "     YYYYWEEK  OrderQty\n",
              "0      201302       262\n",
              "1      201303       411\n",
              "2      201304       373\n",
              "3      201305       272\n",
              "4      201306       525\n",
              "..        ...       ...\n",
              "504    202235       257\n",
              "505    202236       223\n",
              "506    202237       415\n",
              "507    202238       656\n",
              "508    202239       248\n",
              "\n",
              "[509 rows x 2 columns]"
            ],
            "text/html": [
              "\n",
              "  <div id=\"df-ab03f78b-f193-43d4-a9b9-2bde2deb4e08\">\n",
              "    <div class=\"colab-df-container\">\n",
              "      <div>\n",
              "<style scoped>\n",
              "    .dataframe tbody tr th:only-of-type {\n",
              "        vertical-align: middle;\n",
              "    }\n",
              "\n",
              "    .dataframe tbody tr th {\n",
              "        vertical-align: top;\n",
              "    }\n",
              "\n",
              "    .dataframe thead th {\n",
              "        text-align: right;\n",
              "    }\n",
              "</style>\n",
              "<table border=\"1\" class=\"dataframe\">\n",
              "  <thead>\n",
              "    <tr style=\"text-align: right;\">\n",
              "      <th></th>\n",
              "      <th>YYYYWEEK</th>\n",
              "      <th>OrderQty</th>\n",
              "    </tr>\n",
              "  </thead>\n",
              "  <tbody>\n",
              "    <tr>\n",
              "      <th>0</th>\n",
              "      <td>201302</td>\n",
              "      <td>262</td>\n",
              "    </tr>\n",
              "    <tr>\n",
              "      <th>1</th>\n",
              "      <td>201303</td>\n",
              "      <td>411</td>\n",
              "    </tr>\n",
              "    <tr>\n",
              "      <th>2</th>\n",
              "      <td>201304</td>\n",
              "      <td>373</td>\n",
              "    </tr>\n",
              "    <tr>\n",
              "      <th>3</th>\n",
              "      <td>201305</td>\n",
              "      <td>272</td>\n",
              "    </tr>\n",
              "    <tr>\n",
              "      <th>4</th>\n",
              "      <td>201306</td>\n",
              "      <td>525</td>\n",
              "    </tr>\n",
              "    <tr>\n",
              "      <th>...</th>\n",
              "      <td>...</td>\n",
              "      <td>...</td>\n",
              "    </tr>\n",
              "    <tr>\n",
              "      <th>504</th>\n",
              "      <td>202235</td>\n",
              "      <td>257</td>\n",
              "    </tr>\n",
              "    <tr>\n",
              "      <th>505</th>\n",
              "      <td>202236</td>\n",
              "      <td>223</td>\n",
              "    </tr>\n",
              "    <tr>\n",
              "      <th>506</th>\n",
              "      <td>202237</td>\n",
              "      <td>415</td>\n",
              "    </tr>\n",
              "    <tr>\n",
              "      <th>507</th>\n",
              "      <td>202238</td>\n",
              "      <td>656</td>\n",
              "    </tr>\n",
              "    <tr>\n",
              "      <th>508</th>\n",
              "      <td>202239</td>\n",
              "      <td>248</td>\n",
              "    </tr>\n",
              "  </tbody>\n",
              "</table>\n",
              "<p>509 rows × 2 columns</p>\n",
              "</div>\n",
              "      <button class=\"colab-df-convert\" onclick=\"convertToInteractive('df-ab03f78b-f193-43d4-a9b9-2bde2deb4e08')\"\n",
              "              title=\"Convert this dataframe to an interactive table.\"\n",
              "              style=\"display:none;\">\n",
              "        \n",
              "  <svg xmlns=\"http://www.w3.org/2000/svg\" height=\"24px\"viewBox=\"0 0 24 24\"\n",
              "       width=\"24px\">\n",
              "    <path d=\"M0 0h24v24H0V0z\" fill=\"none\"/>\n",
              "    <path d=\"M18.56 5.44l.94 2.06.94-2.06 2.06-.94-2.06-.94-.94-2.06-.94 2.06-2.06.94zm-11 1L8.5 8.5l.94-2.06 2.06-.94-2.06-.94L8.5 2.5l-.94 2.06-2.06.94zm10 10l.94 2.06.94-2.06 2.06-.94-2.06-.94-.94-2.06-.94 2.06-2.06.94z\"/><path d=\"M17.41 7.96l-1.37-1.37c-.4-.4-.92-.59-1.43-.59-.52 0-1.04.2-1.43.59L10.3 9.45l-7.72 7.72c-.78.78-.78 2.05 0 2.83L4 21.41c.39.39.9.59 1.41.59.51 0 1.02-.2 1.41-.59l7.78-7.78 2.81-2.81c.8-.78.8-2.07 0-2.86zM5.41 20L4 18.59l7.72-7.72 1.47 1.35L5.41 20z\"/>\n",
              "  </svg>\n",
              "      </button>\n",
              "      \n",
              "  <style>\n",
              "    .colab-df-container {\n",
              "      display:flex;\n",
              "      flex-wrap:wrap;\n",
              "      gap: 12px;\n",
              "    }\n",
              "\n",
              "    .colab-df-convert {\n",
              "      background-color: #E8F0FE;\n",
              "      border: none;\n",
              "      border-radius: 50%;\n",
              "      cursor: pointer;\n",
              "      display: none;\n",
              "      fill: #1967D2;\n",
              "      height: 32px;\n",
              "      padding: 0 0 0 0;\n",
              "      width: 32px;\n",
              "    }\n",
              "\n",
              "    .colab-df-convert:hover {\n",
              "      background-color: #E2EBFA;\n",
              "      box-shadow: 0px 1px 2px rgba(60, 64, 67, 0.3), 0px 1px 3px 1px rgba(60, 64, 67, 0.15);\n",
              "      fill: #174EA6;\n",
              "    }\n",
              "\n",
              "    [theme=dark] .colab-df-convert {\n",
              "      background-color: #3B4455;\n",
              "      fill: #D2E3FC;\n",
              "    }\n",
              "\n",
              "    [theme=dark] .colab-df-convert:hover {\n",
              "      background-color: #434B5C;\n",
              "      box-shadow: 0px 1px 3px 1px rgba(0, 0, 0, 0.15);\n",
              "      filter: drop-shadow(0px 1px 2px rgba(0, 0, 0, 0.3));\n",
              "      fill: #FFFFFF;\n",
              "    }\n",
              "  </style>\n",
              "\n",
              "      <script>\n",
              "        const buttonEl =\n",
              "          document.querySelector('#df-ab03f78b-f193-43d4-a9b9-2bde2deb4e08 button.colab-df-convert');\n",
              "        buttonEl.style.display =\n",
              "          google.colab.kernel.accessAllowed ? 'block' : 'none';\n",
              "\n",
              "        async function convertToInteractive(key) {\n",
              "          const element = document.querySelector('#df-ab03f78b-f193-43d4-a9b9-2bde2deb4e08');\n",
              "          const dataTable =\n",
              "            await google.colab.kernel.invokeFunction('convertToInteractive',\n",
              "                                                     [key], {});\n",
              "          if (!dataTable) return;\n",
              "\n",
              "          const docLinkHtml = 'Like what you see? Visit the ' +\n",
              "            '<a target=\"_blank\" href=https://colab.research.google.com/notebooks/data_table.ipynb>data table notebook</a>'\n",
              "            + ' to learn more about interactive tables.';\n",
              "          element.innerHTML = '';\n",
              "          dataTable['output_type'] = 'display_data';\n",
              "          await google.colab.output.renderOutput(dataTable, element);\n",
              "          const docLink = document.createElement('div');\n",
              "          docLink.innerHTML = docLinkHtml;\n",
              "          element.appendChild(docLink);\n",
              "        }\n",
              "      </script>\n",
              "    </div>\n",
              "  </div>\n",
              "  "
            ]
          },
          "metadata": {},
          "execution_count": 8
        }
      ],
      "source": [
        "data = raw_df[['YYYYWEEK', 'OrderQty']]\n",
        "data"
      ]
    },
    {
      "cell_type": "code",
      "execution_count": 9,
      "id": "ad501236",
      "metadata": {
        "id": "ad501236"
      },
      "outputs": [],
      "source": [
        "import datetime"
      ]
    },
    {
      "cell_type": "code",
      "execution_count": 10,
      "id": "a4fa662d",
      "metadata": {
        "id": "a4fa662d"
      },
      "outputs": [],
      "source": [
        "import numpy as np\n",
        "\n",
        "def MAPE_Val(y_pred, y_true):    \n",
        "    return np.mean(np.abs((y_true - y_pred) / y_true)) "
      ]
    },
    {
      "cell_type": "code",
      "execution_count": 11,
      "id": "175777d0",
      "metadata": {
        "id": "175777d0"
      },
      "outputs": [],
      "source": [
        "raw_df.OrderDate = pd.to_datetime(raw_df['OrderDate'], format='%Y-%m-%d')    #주단위 집계일중 첫번째 일자"
      ]
    },
    {
      "cell_type": "code",
      "execution_count": 12,
      "id": "8596fc5d",
      "metadata": {
        "colab": {
          "base_uri": "https://localhost:8080/",
          "height": 336
        },
        "id": "8596fc5d",
        "outputId": "70100cb0-0727-4e1d-8ef3-5b6a2a7a44cb"
      },
      "outputs": [
        {
          "output_type": "display_data",
          "data": {
            "text/plain": [
              "<Figure size 1080x360 with 1 Axes>"
            ],
            "image/png": "[encoded data removed]"
          },
          "metadata": {
            "needs_background": "light"
          }
        }
      ],
      "source": [
        "plt.figure(figsize=(15, 5)) \n",
        "plt.title('DRB PO')\n",
        "plt.grid()\n",
        "\n",
        "plt.plot(raw_df['OrderDate'], raw_df['OrderQty'])\n",
        "plt.show()"
      ]
    },
    {
      "cell_type": "markdown",
      "id": "52a42977",
      "metadata": {
        "id": "52a42977"
      },
      "source": [
        "### Data Preprocessing"
      ]
    },
    {
      "cell_type": "code",
      "execution_count": 13,
      "id": "de89955c",
      "metadata": {
        "colab": {
          "base_uri": "https://localhost:8080/",
          "height": 300
        },
        "id": "de89955c",
        "outputId": "7b51ae8e-5f27-4e61-e323-1f71d03e0b21"
      },
      "outputs": [
        {
          "output_type": "execute_result",
          "data": {
            "text/plain": [
              "            YYYYWEEK     OrderQty          3MA          5MA          PS\n",
              "count     509.000000   509.000000   509.000000   509.000000  509.000000\n",
              "mean   201765.424361   600.524558   600.485187   600.505305  496.766601\n",
              "std       281.851794   362.254035   357.365509   332.379252   97.821199\n",
              "min    201301.000000    20.000000    34.000000    60.000000   77.500000\n",
              "25%    201524.000000   377.000000   378.000000   386.600000  467.500000\n",
              "50%    201747.000000   513.000000   510.340000   530.200000  498.000000\n",
              "75%    202018.000000   690.000000   698.340000   700.400000  575.400000\n",
              "max    202239.000000  2544.000000  2628.670000  2445.000000  714.500000"
            ],
            "text/html": [
              "\n",
              "  <div id=\"df-29617db5-1082-4b69-9c4d-e38676da9348\">\n",
              "    <div class=\"colab-df-container\">\n",
              "      <div>\n",
              "<style scoped>\n",
              "    .dataframe tbody tr th:only-of-type {\n",
              "        vertical-align: middle;\n",
              "    }\n",
              "\n",
              "    .dataframe tbody tr th {\n",
              "        vertical-align: top;\n",
              "    }\n",
              "\n",
              "    .dataframe thead th {\n",
              "        text-align: right;\n",
              "    }\n",
              "</style>\n",
              "<table border=\"1\" class=\"dataframe\">\n",
              "  <thead>\n",
              "    <tr style=\"text-align: right;\">\n",
              "      <th></th>\n",
              "      <th>YYYYWEEK</th>\n",
              "      <th>OrderQty</th>\n",
              "      <th>3MA</th>\n",
              "      <th>5MA</th>\n",
              "      <th>PS</th>\n",
              "    </tr>\n",
              "  </thead>\n",
              "  <tbody>\n",
              "    <tr>\n",
              "      <th>count</th>\n",
              "      <td>509.000000</td>\n",
              "      <td>509.000000</td>\n",
              "      <td>509.000000</td>\n",
              "      <td>509.000000</td>\n",
              "      <td>509.000000</td>\n",
              "    </tr>\n",
              "    <tr>\n",
              "      <th>mean</th>\n",
              "      <td>201765.424361</td>\n",
              "      <td>600.524558</td>\n",
              "      <td>600.485187</td>\n",
              "      <td>600.505305</td>\n",
              "      <td>496.766601</td>\n",
              "    </tr>\n",
              "    <tr>\n",
              "      <th>std</th>\n",
              "      <td>281.851794</td>\n",
              "      <td>362.254035</td>\n",
              "      <td>357.365509</td>\n",
              "      <td>332.379252</td>\n",
              "      <td>97.821199</td>\n",
              "    </tr>\n",
              "    <tr>\n",
              "      <th>min</th>\n",
              "      <td>201301.000000</td>\n",
              "      <td>20.000000</td>\n",
              "      <td>34.000000</td>\n",
              "      <td>60.000000</td>\n",
              "      <td>77.500000</td>\n",
              "    </tr>\n",
              "    <tr>\n",
              "      <th>25%</th>\n",
              "      <td>201524.000000</td>\n",
              "      <td>377.000000</td>\n",
              "      <td>378.000000</td>\n",
              "      <td>386.600000</td>\n",
              "      <td>467.500000</td>\n",
              "    </tr>\n",
              "    <tr>\n",
              "      <th>50%</th>\n",
              "      <td>201747.000000</td>\n",
              "      <td>513.000000</td>\n",
              "      <td>510.340000</td>\n",
              "      <td>530.200000</td>\n",
              "      <td>498.000000</td>\n",
              "    </tr>\n",
              "    <tr>\n",
              "      <th>75%</th>\n",
              "      <td>202018.000000</td>\n",
              "      <td>690.000000</td>\n",
              "      <td>698.340000</td>\n",
              "      <td>700.400000</td>\n",
              "      <td>575.400000</td>\n",
              "    </tr>\n",
              "    <tr>\n",
              "      <th>max</th>\n",
              "      <td>202239.000000</td>\n",
              "      <td>2544.000000</td>\n",
              "      <td>2628.670000</td>\n",
              "      <td>2445.000000</td>\n",
              "      <td>714.500000</td>\n",
              "    </tr>\n",
              "  </tbody>\n",
              "</table>\n",
              "</div>\n",
              "      <button class=\"colab-df-convert\" onclick=\"convertToInteractive('df-29617db5-1082-4b69-9c4d-e38676da9348')\"\n",
              "              title=\"Convert this dataframe to an interactive table.\"\n",
              "              style=\"display:none;\">\n",
              "        \n",
              "  <svg xmlns=\"http://www.w3.org/2000/svg\" height=\"24px\"viewBox=\"0 0 24 24\"\n",
              "       width=\"24px\">\n",
              "    <path d=\"M0 0h24v24H0V0z\" fill=\"none\"/>\n",
              "    <path d=\"M18.56 5.44l.94 2.06.94-2.06 2.06-.94-2.06-.94-.94-2.06-.94 2.06-2.06.94zm-11 1L8.5 8.5l.94-2.06 2.06-.94-2.06-.94L8.5 2.5l-.94 2.06-2.06.94zm10 10l.94 2.06.94-2.06 2.06-.94-2.06-.94-.94-2.06-.94 2.06-2.06.94z\"/><path d=\"M17.41 7.96l-1.37-1.37c-.4-.4-.92-.59-1.43-.59-.52 0-1.04.2-1.43.59L10.3 9.45l-7.72 7.72c-.78.78-.78 2.05 0 2.83L4 21.41c.39.39.9.59 1.41.59.51 0 1.02-.2 1.41-.59l7.78-7.78 2.81-2.81c.8-.78.8-2.07 0-2.86zM5.41 20L4 18.59l7.72-7.72 1.47 1.35L5.41 20z\"/>\n",
              "  </svg>\n",
              "      </button>\n",
              "      \n",
              "  <style>\n",
              "    .colab-df-container {\n",
              "      display:flex;\n",
              "      flex-wrap:wrap;\n",
              "      gap: 12px;\n",
              "    }\n",
              "\n",
              "    .colab-df-convert {\n",
              "      background-color: #E8F0FE;\n",
              "      border: none;\n",
              "      border-radius: 50%;\n",
              "      cursor: pointer;\n",
              "      display: none;\n",
              "      fill: #1967D2;\n",
              "      height: 32px;\n",
              "      padding: 0 0 0 0;\n",
              "      width: 32px;\n",
              "    }\n",
              "\n",
              "    .colab-df-convert:hover {\n",
              "      background-color: #E2EBFA;\n",
              "      box-shadow: 0px 1px 2px rgba(60, 64, 67, 0.3), 0px 1px 3px 1px rgba(60, 64, 67, 0.15);\n",
              "      fill: #174EA6;\n",
              "    }\n",
              "\n",
              "    [theme=dark] .colab-df-convert {\n",
              "      background-color: #3B4455;\n",
              "      fill: #D2E3FC;\n",
              "    }\n",
              "\n",
              "    [theme=dark] .colab-df-convert:hover {\n",
              "      background-color: #434B5C;\n",
              "      box-shadow: 0px 1px 3px 1px rgba(0, 0, 0, 0.15);\n",
              "      filter: drop-shadow(0px 1px 2px rgba(0, 0, 0, 0.3));\n",
              "      fill: #FFFFFF;\n",
              "    }\n",
              "  </style>\n",
              "\n",
              "      <script>\n",
              "        const buttonEl =\n",
              "          document.querySelector('#df-29617db5-1082-4b69-9c4d-e38676da9348 button.colab-df-convert');\n",
              "        buttonEl.style.display =\n",
              "          google.colab.kernel.accessAllowed ? 'block' : 'none';\n",
              "\n",
              "        async function convertToInteractive(key) {\n",
              "          const element = document.querySelector('#df-29617db5-1082-4b69-9c4d-e38676da9348');\n",
              "          const dataTable =\n",
              "            await google.colab.kernel.invokeFunction('convertToInteractive',\n",
              "                                                     [key], {});\n",
              "          if (!dataTable) return;\n",
              "\n",
              "          const docLinkHtml = 'Like what you see? Visit the ' +\n",
              "            '<a target=\"_blank\" href=https://colab.research.google.com/notebooks/data_table.ipynb>data table notebook</a>'\n",
              "            + ' to learn more about interactive tables.';\n",
              "          element.innerHTML = '';\n",
              "          dataTable['output_type'] = 'display_data';\n",
              "          await google.colab.output.renderOutput(dataTable, element);\n",
              "          const docLink = document.createElement('div');\n",
              "          docLink.innerHTML = docLinkHtml;\n",
              "          element.appendChild(docLink);\n",
              "        }\n",
              "      </script>\n",
              "    </div>\n",
              "  </div>\n",
              "  "
            ]
          },
          "metadata": {},
          "execution_count": 13
        }
      ],
      "source": [
        "raw_df.describe()"
      ]
    },
    {
      "cell_type": "markdown",
      "id": "f3bd3e23",
      "metadata": {
        "id": "f3bd3e23"
      },
      "source": [
        "### 결측치 제거"
      ]
    },
    {
      "cell_type": "code",
      "execution_count": 14,
      "id": "ed09d31a",
      "metadata": {
        "colab": {
          "base_uri": "https://localhost:8080/"
        },
        "id": "ed09d31a",
        "outputId": "f1ba26d0-504a-4950-acaa-7af5bc3c7ae6"
      },
      "outputs": [
        {
          "output_type": "execute_result",
          "data": {
            "text/plain": [
              "OrderDate    0\n",
              "YYYYWEEK     0\n",
              "OrderQty     0\n",
              "3MA          0\n",
              "5MA          0\n",
              "PS           0\n",
              "dtype: int64"
            ]
          },
          "metadata": {},
          "execution_count": 14
        }
      ],
      "source": [
        "raw_df.isnull().sum()"
      ]
    },
    {
      "cell_type": "code",
      "execution_count": 15,
      "id": "b180d5a2",
      "metadata": {
        "colab": {
          "base_uri": "https://localhost:8080/"
        },
        "id": "b180d5a2",
        "outputId": "062d6b63-2091-4668-862d-ce4268cd0cda"
      },
      "outputs": [
        {
          "output_type": "stream",
          "name": "stdout",
          "text": [
            "OrderDate:0\n",
            "YYYYWEEK:0\n",
            "OrderQty:0\n",
            "3MA:0\n",
            "5MA:0\n",
            "PS:0\n"
          ]
        }
      ],
      "source": [
        "#컬럼에 0의 개수 확인\n",
        "for col in raw_df.columns:\n",
        "    missing_rows = raw_df.loc[raw_df[col]==0].shape[0]\n",
        "    print(col + ':' + str(missing_rows))"
      ]
    },
    {
      "cell_type": "code",
      "execution_count": 16,
      "id": "01c33457",
      "metadata": {
        "colab": {
          "base_uri": "https://localhost:8080/",
          "height": 49
        },
        "id": "01c33457",
        "outputId": "f0fdc020-d47b-48b9-8b45-2d72bca14ee1"
      },
      "outputs": [
        {
          "output_type": "execute_result",
          "data": {
            "text/plain": [
              "Empty DataFrame\n",
              "Columns: [OrderDate, YYYYWEEK, OrderQty, 3MA, 5MA, PS]\n",
              "Index: []"
            ],
            "text/html": [
              "\n",
              "  <div id=\"df-4959677c-7f73-4203-a2a2-af6fbfc56818\">\n",
              "    <div class=\"colab-df-container\">\n",
              "      <div>\n",
              "<style scoped>\n",
              "    .dataframe tbody tr th:only-of-type {\n",
              "        vertical-align: middle;\n",
              "    }\n",
              "\n",
              "    .dataframe tbody tr th {\n",
              "        vertical-align: top;\n",
              "    }\n",
              "\n",
              "    .dataframe thead th {\n",
              "        text-align: right;\n",
              "    }\n",
              "</style>\n",
              "<table border=\"1\" class=\"dataframe\">\n",
              "  <thead>\n",
              "    <tr style=\"text-align: right;\">\n",
              "      <th></th>\n",
              "      <th>OrderDate</th>\n",
              "      <th>YYYYWEEK</th>\n",
              "      <th>OrderQty</th>\n",
              "      <th>3MA</th>\n",
              "      <th>5MA</th>\n",
              "      <th>PS</th>\n",
              "    </tr>\n",
              "  </thead>\n",
              "  <tbody>\n",
              "  </tbody>\n",
              "</table>\n",
              "</div>\n",
              "      <button class=\"colab-df-convert\" onclick=\"convertToInteractive('df-4959677c-7f73-4203-a2a2-af6fbfc56818')\"\n",
              "              title=\"Convert this dataframe to an interactive table.\"\n",
              "              style=\"display:none;\">\n",
              "        \n",
              "  <svg xmlns=\"http://www.w3.org/2000/svg\" height=\"24px\"viewBox=\"0 0 24 24\"\n",
              "       width=\"24px\">\n",
              "    <path d=\"M0 0h24v24H0V0z\" fill=\"none\"/>\n",
              "    <path d=\"M18.56 5.44l.94 2.06.94-2.06 2.06-.94-2.06-.94-.94-2.06-.94 2.06-2.06.94zm-11 1L8.5 8.5l.94-2.06 2.06-.94-2.06-.94L8.5 2.5l-.94 2.06-2.06.94zm10 10l.94 2.06.94-2.06 2.06-.94-2.06-.94-.94-2.06-.94 2.06-2.06.94z\"/><path d=\"M17.41 7.96l-1.37-1.37c-.4-.4-.92-.59-1.43-.59-.52 0-1.04.2-1.43.59L10.3 9.45l-7.72 7.72c-.78.78-.78 2.05 0 2.83L4 21.41c.39.39.9.59 1.41.59.51 0 1.02-.2 1.41-.59l7.78-7.78 2.81-2.81c.8-.78.8-2.07 0-2.86zM5.41 20L4 18.59l7.72-7.72 1.47 1.35L5.41 20z\"/>\n",
              "  </svg>\n",
              "      </button>\n",
              "      \n",
              "  <style>\n",
              "    .colab-df-container {\n",
              "      display:flex;\n",
              "      flex-wrap:wrap;\n",
              "      gap: 12px;\n",
              "    }\n",
              "\n",
              "    .colab-df-convert {\n",
              "      background-color: #E8F0FE;\n",
              "      border: none;\n",
              "      border-radius: 50%;\n",
              "      cursor: pointer;\n",
              "      display: none;\n",
              "      fill: #1967D2;\n",
              "      height: 32px;\n",
              "      padding: 0 0 0 0;\n",
              "      width: 32px;\n",
              "    }\n",
              "\n",
              "    .colab-df-convert:hover {\n",
              "      background-color: #E2EBFA;\n",
              "      box-shadow: 0px 1px 2px rgba(60, 64, 67, 0.3), 0px 1px 3px 1px rgba(60, 64, 67, 0.15);\n",
              "      fill: #174EA6;\n",
              "    }\n",
              "\n",
              "    [theme=dark] .colab-df-convert {\n",
              "      background-color: #3B4455;\n",
              "      fill: #D2E3FC;\n",
              "    }\n",
              "\n",
              "    [theme=dark] .colab-df-convert:hover {\n",
              "      background-color: #434B5C;\n",
              "      box-shadow: 0px 1px 3px 1px rgba(0, 0, 0, 0.15);\n",
              "      filter: drop-shadow(0px 1px 2px rgba(0, 0, 0, 0.3));\n",
              "      fill: #FFFFFF;\n",
              "    }\n",
              "  </style>\n",
              "\n",
              "      <script>\n",
              "        const buttonEl =\n",
              "          document.querySelector('#df-4959677c-7f73-4203-a2a2-af6fbfc56818 button.colab-df-convert');\n",
              "        buttonEl.style.display =\n",
              "          google.colab.kernel.accessAllowed ? 'block' : 'none';\n",
              "\n",
              "        async function convertToInteractive(key) {\n",
              "          const element = document.querySelector('#df-4959677c-7f73-4203-a2a2-af6fbfc56818');\n",
              "          const dataTable =\n",
              "            await google.colab.kernel.invokeFunction('convertToInteractive',\n",
              "                                                     [key], {});\n",
              "          if (!dataTable) return;\n",
              "\n",
              "          const docLinkHtml = 'Like what you see? Visit the ' +\n",
              "            '<a target=\"_blank\" href=https://colab.research.google.com/notebooks/data_table.ipynb>data table notebook</a>'\n",
              "            + ' to learn more about interactive tables.';\n",
              "          element.innerHTML = '';\n",
              "          dataTable['output_type'] = 'display_data';\n",
              "          await google.colab.output.renderOutput(dataTable, element);\n",
              "          const docLink = document.createElement('div');\n",
              "          docLink.innerHTML = docLinkHtml;\n",
              "          element.appendChild(docLink);\n",
              "        }\n",
              "      </script>\n",
              "    </div>\n",
              "  </div>\n",
              "  "
            ]
          },
          "metadata": {},
          "execution_count": 16
        }
      ],
      "source": [
        "raw_df.loc[raw_df['5MA'].isna()]"
      ]
    },
    {
      "cell_type": "code",
      "execution_count": 17,
      "id": "89b39ccd",
      "metadata": {
        "scrolled": true,
        "colab": {
          "base_uri": "https://localhost:8080/"
        },
        "id": "89b39ccd",
        "outputId": "6e9cd5a2-7f6f-4692-e725-8bfb33710e68"
      },
      "outputs": [
        {
          "output_type": "execute_result",
          "data": {
            "text/plain": [
              "OrderDate    0\n",
              "YYYYWEEK     0\n",
              "OrderQty     0\n",
              "3MA          0\n",
              "5MA          0\n",
              "PS           0\n",
              "dtype: int64"
            ]
          },
          "metadata": {},
          "execution_count": 17
        }
      ],
      "source": [
        "#missing data 처리\n",
        "raw_df = raw_df.dropna()\n",
        "raw_df.isnull().sum()"
      ]
    },
    {
      "cell_type": "markdown",
      "id": "70f97c83",
      "metadata": {
        "id": "70f97c83"
      },
      "source": [
        "### 정규화"
      ]
    },
    {
      "cell_type": "code",
      "execution_count": 18,
      "id": "5444f66b",
      "metadata": {
        "id": "5444f66b"
      },
      "outputs": [],
      "source": [
        "from sklearn.preprocessing import MinMaxScaler"
      ]
    },
    {
      "cell_type": "code",
      "execution_count": 19,
      "id": "b5caf044",
      "metadata": {
        "id": "b5caf044"
      },
      "outputs": [],
      "source": [
        "scaler = MinMaxScaler()\n",
        "scale_col = ['OrderQty', '3MA', '5MA', 'PS']"
      ]
    },
    {
      "cell_type": "code",
      "execution_count": 20,
      "id": "4026497a",
      "metadata": {
        "colab": {
          "base_uri": "https://localhost:8080/"
        },
        "id": "4026497a",
        "outputId": "4f053430-b6f8-4803-fad0-e125e9a5878d"
      },
      "outputs": [
        {
          "output_type": "execute_result",
          "data": {
            "text/plain": [
              "array([[0.09587956, 0.0805536 , 0.07002096, 0.62009419],\n",
              "       [0.15491284, 0.15133716, 0.14725367, 0.76844584],\n",
              "       [0.13985737, 0.12165709, 0.12595388, 0.62009419],\n",
              "       ...,\n",
              "       [0.15649762, 0.12564604, 0.10800839, 0.64756672],\n",
              "       [0.25198098, 0.22225177, 0.21526205, 0.64756672],\n",
              "       [0.09033281, 0.11921747, 0.15916143, 0.64756672]])"
            ]
          },
          "metadata": {},
          "execution_count": 20
        }
      ],
      "source": [
        "scaled_df = scaler.fit_transform(raw_df[scale_col])\n",
        "scaled_df"
      ]
    },
    {
      "cell_type": "code",
      "execution_count": 21,
      "id": "ab812c03",
      "metadata": {
        "id": "ab812c03"
      },
      "outputs": [],
      "source": [
        "# scaled_df = pd.DataFrame(scaled_df, columns=scale_col)    #ndarray array -> DataFrame\n",
        "scaled_df = pd.DataFrame(scaled_df, columns=scale_col)"
      ]
    },
    {
      "cell_type": "code",
      "execution_count": 22,
      "id": "10a5b20a",
      "metadata": {
        "id": "10a5b20a"
      },
      "outputs": [],
      "source": [
        "scaled_df['OrderDate'] = raw_df['OrderDate']    #정규화 이 후 날짜 추가"
      ]
    },
    {
      "cell_type": "code",
      "execution_count": 23,
      "id": "5618f8f0",
      "metadata": {
        "colab": {
          "base_uri": "https://localhost:8080/",
          "height": 423
        },
        "id": "5618f8f0",
        "outputId": "ce5a876c-63af-484c-c783-314373298e74"
      },
      "outputs": [
        {
          "output_type": "execute_result",
          "data": {
            "text/plain": [
              "     OrderQty       3MA       5MA        PS  OrderDate\n",
              "0    0.095880  0.080554  0.070021  0.620094 2013-01-07\n",
              "1    0.154913  0.151337  0.147254  0.768446 2013-01-14\n",
              "2    0.139857  0.121657  0.125954  0.620094 2013-01-21\n",
              "3    0.099842  0.104830  0.116646  0.774097 2013-01-28\n",
              "4    0.200079  0.173560  0.123438  0.483046 2013-02-04\n",
              "..        ...       ...       ...       ...        ...\n",
              "504  0.093899  0.152490  0.225241  0.497802 2022-08-29\n",
              "505  0.080428  0.102005  0.098784  0.493721 2022-09-05\n",
              "506  0.156498  0.125646  0.108008  0.647567 2022-09-13\n",
              "507  0.251981  0.222252  0.215262  0.647567 2022-09-19\n",
              "508  0.090333  0.119217  0.159161  0.647567 2022-09-26\n",
              "\n",
              "[509 rows x 5 columns]"
            ],
            "text/html": [
              "\n",
              "  <div id=\"df-46af5a6b-1994-4950-b752-4cf57ff45b58\">\n",
              "    <div class=\"colab-df-container\">\n",
              "      <div>\n",
              "<style scoped>\n",
              "    .dataframe tbody tr th:only-of-type {\n",
              "        vertical-align: middle;\n",
              "    }\n",
              "\n",
              "    .dataframe tbody tr th {\n",
              "        vertical-align: top;\n",
              "    }\n",
              "\n",
              "    .dataframe thead th {\n",
              "        text-align: right;\n",
              "    }\n",
              "</style>\n",
              "<table border=\"1\" class=\"dataframe\">\n",
              "  <thead>\n",
              "    <tr style=\"text-align: right;\">\n",
              "      <th></th>\n",
              "      <th>OrderQty</th>\n",
              "      <th>3MA</th>\n",
              "      <th>5MA</th>\n",
              "      <th>PS</th>\n",
              "      <th>OrderDate</th>\n",
              "    </tr>\n",
              "  </thead>\n",
              "  <tbody>\n",
              "    <tr>\n",
              "      <th>0</th>\n",
              "      <td>0.095880</td>\n",
              "      <td>0.080554</td>\n",
              "      <td>0.070021</td>\n",
              "      <td>0.620094</td>\n",
              "      <td>2013-01-07</td>\n",
              "    </tr>\n",
              "    <tr>\n",
              "      <th>1</th>\n",
              "      <td>0.154913</td>\n",
              "      <td>0.151337</td>\n",
              "      <td>0.147254</td>\n",
              "      <td>0.768446</td>\n",
              "      <td>2013-01-14</td>\n",
              "    </tr>\n",
              "    <tr>\n",
              "      <th>2</th>\n",
              "      <td>0.139857</td>\n",
              "      <td>0.121657</td>\n",
              "      <td>0.125954</td>\n",
              "      <td>0.620094</td>\n",
              "      <td>2013-01-21</td>\n",
              "    </tr>\n",
              "    <tr>\n",
              "      <th>3</th>\n",
              "      <td>0.099842</td>\n",
              "      <td>0.104830</td>\n",
              "      <td>0.116646</td>\n",
              "      <td>0.774097</td>\n",
              "      <td>2013-01-28</td>\n",
              "    </tr>\n",
              "    <tr>\n",
              "      <th>4</th>\n",
              "      <td>0.200079</td>\n",
              "      <td>0.173560</td>\n",
              "      <td>0.123438</td>\n",
              "      <td>0.483046</td>\n",
              "      <td>2013-02-04</td>\n",
              "    </tr>\n",
              "    <tr>\n",
              "      <th>...</th>\n",
              "      <td>...</td>\n",
              "      <td>...</td>\n",
              "      <td>...</td>\n",
              "      <td>...</td>\n",
              "      <td>...</td>\n",
              "    </tr>\n",
              "    <tr>\n",
              "      <th>504</th>\n",
              "      <td>0.093899</td>\n",
              "      <td>0.152490</td>\n",
              "      <td>0.225241</td>\n",
              "      <td>0.497802</td>\n",
              "      <td>2022-08-29</td>\n",
              "    </tr>\n",
              "    <tr>\n",
              "      <th>505</th>\n",
              "      <td>0.080428</td>\n",
              "      <td>0.102005</td>\n",
              "      <td>0.098784</td>\n",
              "      <td>0.493721</td>\n",
              "      <td>2022-09-05</td>\n",
              "    </tr>\n",
              "    <tr>\n",
              "      <th>506</th>\n",
              "      <td>0.156498</td>\n",
              "      <td>0.125646</td>\n",
              "      <td>0.108008</td>\n",
              "      <td>0.647567</td>\n",
              "      <td>2022-09-13</td>\n",
              "    </tr>\n",
              "    <tr>\n",
              "      <th>507</th>\n",
              "      <td>0.251981</td>\n",
              "      <td>0.222252</td>\n",
              "      <td>0.215262</td>\n",
              "      <td>0.647567</td>\n",
              "      <td>2022-09-19</td>\n",
              "    </tr>\n",
              "    <tr>\n",
              "      <th>508</th>\n",
              "      <td>0.090333</td>\n",
              "      <td>0.119217</td>\n",
              "      <td>0.159161</td>\n",
              "      <td>0.647567</td>\n",
              "      <td>2022-09-26</td>\n",
              "    </tr>\n",
              "  </tbody>\n",
              "</table>\n",
              "<p>509 rows × 5 columns</p>\n",
              "</div>\n",
              "      <button class=\"colab-df-convert\" onclick=\"convertToInteractive('df-46af5a6b-1994-4950-b752-4cf57ff45b58')\"\n",
              "              title=\"Convert this dataframe to an interactive table.\"\n",
              "              style=\"display:none;\">\n",
              "        \n",
              "  <svg xmlns=\"http://www.w3.org/2000/svg\" height=\"24px\"viewBox=\"0 0 24 24\"\n",
              "       width=\"24px\">\n",
              "    <path d=\"M0 0h24v24H0V0z\" fill=\"none\"/>\n",
              "    <path d=\"M18.56 5.44l.94 2.06.94-2.06 2.06-.94-2.06-.94-.94-2.06-.94 2.06-2.06.94zm-11 1L8.5 8.5l.94-2.06 2.06-.94-2.06-.94L8.5 2.5l-.94 2.06-2.06.94zm10 10l.94 2.06.94-2.06 2.06-.94-2.06-.94-.94-2.06-.94 2.06-2.06.94z\"/><path d=\"M17.41 7.96l-1.37-1.37c-.4-.4-.92-.59-1.43-.59-.52 0-1.04.2-1.43.59L10.3 9.45l-7.72 7.72c-.78.78-.78 2.05 0 2.83L4 21.41c.39.39.9.59 1.41.59.51 0 1.02-.2 1.41-.59l7.78-7.78 2.81-2.81c.8-.78.8-2.07 0-2.86zM5.41 20L4 18.59l7.72-7.72 1.47 1.35L5.41 20z\"/>\n",
              "  </svg>\n",
              "      </button>\n",
              "      \n",
              "  <style>\n",
              "    .colab-df-container {\n",
              "      display:flex;\n",
              "      flex-wrap:wrap;\n",
              "      gap: 12px;\n",
              "    }\n",
              "\n",
              "    .colab-df-convert {\n",
              "      background-color: #E8F0FE;\n",
              "      border: none;\n",
              "      border-radius: 50%;\n",
              "      cursor: pointer;\n",
              "      display: none;\n",
              "      fill: #1967D2;\n",
              "      height: 32px;\n",
              "      padding: 0 0 0 0;\n",
              "      width: 32px;\n",
              "    }\n",
              "\n",
              "    .colab-df-convert:hover {\n",
              "      background-color: #E2EBFA;\n",
              "      box-shadow: 0px 1px 2px rgba(60, 64, 67, 0.3), 0px 1px 3px 1px rgba(60, 64, 67, 0.15);\n",
              "      fill: #174EA6;\n",
              "    }\n",
              "\n",
              "    [theme=dark] .colab-df-convert {\n",
              "      background-color: #3B4455;\n",
              "      fill: #D2E3FC;\n",
              "    }\n",
              "\n",
              "    [theme=dark] .colab-df-convert:hover {\n",
              "      background-color: #434B5C;\n",
              "      box-shadow: 0px 1px 3px 1px rgba(0, 0, 0, 0.15);\n",
              "      filter: drop-shadow(0px 1px 2px rgba(0, 0, 0, 0.3));\n",
              "      fill: #FFFFFF;\n",
              "    }\n",
              "  </style>\n",
              "\n",
              "      <script>\n",
              "        const buttonEl =\n",
              "          document.querySelector('#df-46af5a6b-1994-4950-b752-4cf57ff45b58 button.colab-df-convert');\n",
              "        buttonEl.style.display =\n",
              "          google.colab.kernel.accessAllowed ? 'block' : 'none';\n",
              "\n",
              "        async function convertToInteractive(key) {\n",
              "          const element = document.querySelector('#df-46af5a6b-1994-4950-b752-4cf57ff45b58');\n",
              "          const dataTable =\n",
              "            await google.colab.kernel.invokeFunction('convertToInteractive',\n",
              "                                                     [key], {});\n",
              "          if (!dataTable) return;\n",
              "\n",
              "          const docLinkHtml = 'Like what you see? Visit the ' +\n",
              "            '<a target=\"_blank\" href=https://colab.research.google.com/notebooks/data_table.ipynb>data table notebook</a>'\n",
              "            + ' to learn more about interactive tables.';\n",
              "          element.innerHTML = '';\n",
              "          dataTable['output_type'] = 'display_data';\n",
              "          await google.colab.output.renderOutput(dataTable, element);\n",
              "          const docLink = document.createElement('div');\n",
              "          docLink.innerHTML = docLinkHtml;\n",
              "          element.appendChild(docLink);\n",
              "        }\n",
              "      </script>\n",
              "    </div>\n",
              "  </div>\n",
              "  "
            ]
          },
          "metadata": {},
          "execution_count": 23
        }
      ],
      "source": [
        "scaled_df"
      ]
    },
    {
      "cell_type": "code",
      "execution_count": 24,
      "id": "edbd2196",
      "metadata": {
        "scrolled": true,
        "colab": {
          "base_uri": "https://localhost:8080/"
        },
        "id": "edbd2196",
        "outputId": "7c163f22-2711-49aa-a3b1-fba13bab7e31"
      },
      "outputs": [
        {
          "output_type": "stream",
          "name": "stdout",
          "text": [
            "<class 'pandas.core.frame.DataFrame'>\n",
            "RangeIndex: 509 entries, 0 to 508\n",
            "Data columns (total 5 columns):\n",
            " #   Column     Non-Null Count  Dtype         \n",
            "---  ------     --------------  -----         \n",
            " 0   OrderQty   509 non-null    float64       \n",
            " 1   3MA        509 non-null    float64       \n",
            " 2   5MA        509 non-null    float64       \n",
            " 3   PS         509 non-null    float64       \n",
            " 4   OrderDate  509 non-null    datetime64[ns]\n",
            "dtypes: datetime64[ns](1), float64(4)\n",
            "memory usage: 20.0 KB\n"
          ]
        }
      ],
      "source": [
        "scaled_df.info()"
      ]
    },
    {
      "cell_type": "code",
      "execution_count": 25,
      "id": "a9b09cca",
      "metadata": {
        "colab": {
          "base_uri": "https://localhost:8080/",
          "height": 81
        },
        "id": "a9b09cca",
        "outputId": "be18e056-fe72-4763-b849-21ef9e133cec"
      },
      "outputs": [
        {
          "output_type": "execute_result",
          "data": {
            "text/plain": [
              "     OrderQty  3MA  5MA        PS  OrderDate\n",
              "417       0.0  0.0  0.0  0.023862 2021-01-02"
            ],
            "text/html": [
              "\n",
              "  <div id=\"df-e80109f7-0e76-4813-8377-9219965b59a5\">\n",
              "    <div class=\"colab-df-container\">\n",
              "      <div>\n",
              "<style scoped>\n",
              "    .dataframe tbody tr th:only-of-type {\n",
              "        vertical-align: middle;\n",
              "    }\n",
              "\n",
              "    .dataframe tbody tr th {\n",
              "        vertical-align: top;\n",
              "    }\n",
              "\n",
              "    .dataframe thead th {\n",
              "        text-align: right;\n",
              "    }\n",
              "</style>\n",
              "<table border=\"1\" class=\"dataframe\">\n",
              "  <thead>\n",
              "    <tr style=\"text-align: right;\">\n",
              "      <th></th>\n",
              "      <th>OrderQty</th>\n",
              "      <th>3MA</th>\n",
              "      <th>5MA</th>\n",
              "      <th>PS</th>\n",
              "      <th>OrderDate</th>\n",
              "    </tr>\n",
              "  </thead>\n",
              "  <tbody>\n",
              "    <tr>\n",
              "      <th>417</th>\n",
              "      <td>0.0</td>\n",
              "      <td>0.0</td>\n",
              "      <td>0.0</td>\n",
              "      <td>0.023862</td>\n",
              "      <td>2021-01-02</td>\n",
              "    </tr>\n",
              "  </tbody>\n",
              "</table>\n",
              "</div>\n",
              "      <button class=\"colab-df-convert\" onclick=\"convertToInteractive('df-e80109f7-0e76-4813-8377-9219965b59a5')\"\n",
              "              title=\"Convert this dataframe to an interactive table.\"\n",
              "              style=\"display:none;\">\n",
              "        \n",
              "  <svg xmlns=\"http://www.w3.org/2000/svg\" height=\"24px\"viewBox=\"0 0 24 24\"\n",
              "       width=\"24px\">\n",
              "    <path d=\"M0 0h24v24H0V0z\" fill=\"none\"/>\n",
              "    <path d=\"M18.56 5.44l.94 2.06.94-2.06 2.06-.94-2.06-.94-.94-2.06-.94 2.06-2.06.94zm-11 1L8.5 8.5l.94-2.06 2.06-.94-2.06-.94L8.5 2.5l-.94 2.06-2.06.94zm10 10l.94 2.06.94-2.06 2.06-.94-2.06-.94-.94-2.06-.94 2.06-2.06.94z\"/><path d=\"M17.41 7.96l-1.37-1.37c-.4-.4-.92-.59-1.43-.59-.52 0-1.04.2-1.43.59L10.3 9.45l-7.72 7.72c-.78.78-.78 2.05 0 2.83L4 21.41c.39.39.9.59 1.41.59.51 0 1.02-.2 1.41-.59l7.78-7.78 2.81-2.81c.8-.78.8-2.07 0-2.86zM5.41 20L4 18.59l7.72-7.72 1.47 1.35L5.41 20z\"/>\n",
              "  </svg>\n",
              "      </button>\n",
              "      \n",
              "  <style>\n",
              "    .colab-df-container {\n",
              "      display:flex;\n",
              "      flex-wrap:wrap;\n",
              "      gap: 12px;\n",
              "    }\n",
              "\n",
              "    .colab-df-convert {\n",
              "      background-color: #E8F0FE;\n",
              "      border: none;\n",
              "      border-radius: 50%;\n",
              "      cursor: pointer;\n",
              "      display: none;\n",
              "      fill: #1967D2;\n",
              "      height: 32px;\n",
              "      padding: 0 0 0 0;\n",
              "      width: 32px;\n",
              "    }\n",
              "\n",
              "    .colab-df-convert:hover {\n",
              "      background-color: #E2EBFA;\n",
              "      box-shadow: 0px 1px 2px rgba(60, 64, 67, 0.3), 0px 1px 3px 1px rgba(60, 64, 67, 0.15);\n",
              "      fill: #174EA6;\n",
              "    }\n",
              "\n",
              "    [theme=dark] .colab-df-convert {\n",
              "      background-color: #3B4455;\n",
              "      fill: #D2E3FC;\n",
              "    }\n",
              "\n",
              "    [theme=dark] .colab-df-convert:hover {\n",
              "      background-color: #434B5C;\n",
              "      box-shadow: 0px 1px 3px 1px rgba(0, 0, 0, 0.15);\n",
              "      filter: drop-shadow(0px 1px 2px rgba(0, 0, 0, 0.3));\n",
              "      fill: #FFFFFF;\n",
              "    }\n",
              "  </style>\n",
              "\n",
              "      <script>\n",
              "        const buttonEl =\n",
              "          document.querySelector('#df-e80109f7-0e76-4813-8377-9219965b59a5 button.colab-df-convert');\n",
              "        buttonEl.style.display =\n",
              "          google.colab.kernel.accessAllowed ? 'block' : 'none';\n",
              "\n",
              "        async function convertToInteractive(key) {\n",
              "          const element = document.querySelector('#df-e80109f7-0e76-4813-8377-9219965b59a5');\n",
              "          const dataTable =\n",
              "            await google.colab.kernel.invokeFunction('convertToInteractive',\n",
              "                                                     [key], {});\n",
              "          if (!dataTable) return;\n",
              "\n",
              "          const docLinkHtml = 'Like what you see? Visit the ' +\n",
              "            '<a target=\"_blank\" href=https://colab.research.google.com/notebooks/data_table.ipynb>data table notebook</a>'\n",
              "            + ' to learn more about interactive tables.';\n",
              "          element.innerHTML = '';\n",
              "          dataTable['output_type'] = 'display_data';\n",
              "          await google.colab.output.renderOutput(dataTable, element);\n",
              "          const docLink = document.createElement('div');\n",
              "          docLink.innerHTML = docLinkHtml;\n",
              "          element.appendChild(docLink);\n",
              "        }\n",
              "      </script>\n",
              "    </div>\n",
              "  </div>\n",
              "  "
            ]
          },
          "metadata": {},
          "execution_count": 25
        }
      ],
      "source": [
        "scaled_df.query(\"OrderQty == 0.0 \")"
      ]
    },
    {
      "cell_type": "code",
      "execution_count": 26,
      "id": "b8c9bded",
      "metadata": {
        "id": "b8c9bded"
      },
      "outputs": [],
      "source": [
        "scaled_df = scaled_df.drop(417)    #정규화 이 후 결측 데이터 제거"
      ]
    },
    {
      "cell_type": "code",
      "execution_count": 27,
      "id": "8fe67bbb",
      "metadata": {
        "colab": {
          "base_uri": "https://localhost:8080/",
          "height": 49
        },
        "id": "8fe67bbb",
        "outputId": "7a5624ea-8311-4dd9-c995-e820f3ed937e"
      },
      "outputs": [
        {
          "output_type": "execute_result",
          "data": {
            "text/plain": [
              "Empty DataFrame\n",
              "Columns: [OrderQty, 3MA, 5MA, PS, OrderDate]\n",
              "Index: []"
            ],
            "text/html": [
              "\n",
              "  <div id=\"df-abcfe17f-5aa5-4b56-bd41-19151c61f796\">\n",
              "    <div class=\"colab-df-container\">\n",
              "      <div>\n",
              "<style scoped>\n",
              "    .dataframe tbody tr th:only-of-type {\n",
              "        vertical-align: middle;\n",
              "    }\n",
              "\n",
              "    .dataframe tbody tr th {\n",
              "        vertical-align: top;\n",
              "    }\n",
              "\n",
              "    .dataframe thead th {\n",
              "        text-align: right;\n",
              "    }\n",
              "</style>\n",
              "<table border=\"1\" class=\"dataframe\">\n",
              "  <thead>\n",
              "    <tr style=\"text-align: right;\">\n",
              "      <th></th>\n",
              "      <th>OrderQty</th>\n",
              "      <th>3MA</th>\n",
              "      <th>5MA</th>\n",
              "      <th>PS</th>\n",
              "      <th>OrderDate</th>\n",
              "    </tr>\n",
              "  </thead>\n",
              "  <tbody>\n",
              "  </tbody>\n",
              "</table>\n",
              "</div>\n",
              "      <button class=\"colab-df-convert\" onclick=\"convertToInteractive('df-abcfe17f-5aa5-4b56-bd41-19151c61f796')\"\n",
              "              title=\"Convert this dataframe to an interactive table.\"\n",
              "              style=\"display:none;\">\n",
              "        \n",
              "  <svg xmlns=\"http://www.w3.org/2000/svg\" height=\"24px\"viewBox=\"0 0 24 24\"\n",
              "       width=\"24px\">\n",
              "    <path d=\"M0 0h24v24H0V0z\" fill=\"none\"/>\n",
              "    <path d=\"M18.56 5.44l.94 2.06.94-2.06 2.06-.94-2.06-.94-.94-2.06-.94 2.06-2.06.94zm-11 1L8.5 8.5l.94-2.06 2.06-.94-2.06-.94L8.5 2.5l-.94 2.06-2.06.94zm10 10l.94 2.06.94-2.06 2.06-.94-2.06-.94-.94-2.06-.94 2.06-2.06.94z\"/><path d=\"M17.41 7.96l-1.37-1.37c-.4-.4-.92-.59-1.43-.59-.52 0-1.04.2-1.43.59L10.3 9.45l-7.72 7.72c-.78.78-.78 2.05 0 2.83L4 21.41c.39.39.9.59 1.41.59.51 0 1.02-.2 1.41-.59l7.78-7.78 2.81-2.81c.8-.78.8-2.07 0-2.86zM5.41 20L4 18.59l7.72-7.72 1.47 1.35L5.41 20z\"/>\n",
              "  </svg>\n",
              "      </button>\n",
              "      \n",
              "  <style>\n",
              "    .colab-df-container {\n",
              "      display:flex;\n",
              "      flex-wrap:wrap;\n",
              "      gap: 12px;\n",
              "    }\n",
              "\n",
              "    .colab-df-convert {\n",
              "      background-color: #E8F0FE;\n",
              "      border: none;\n",
              "      border-radius: 50%;\n",
              "      cursor: pointer;\n",
              "      display: none;\n",
              "      fill: #1967D2;\n",
              "      height: 32px;\n",
              "      padding: 0 0 0 0;\n",
              "      width: 32px;\n",
              "    }\n",
              "\n",
              "    .colab-df-convert:hover {\n",
              "      background-color: #E2EBFA;\n",
              "      box-shadow: 0px 1px 2px rgba(60, 64, 67, 0.3), 0px 1px 3px 1px rgba(60, 64, 67, 0.15);\n",
              "      fill: #174EA6;\n",
              "    }\n",
              "\n",
              "    [theme=dark] .colab-df-convert {\n",
              "      background-color: #3B4455;\n",
              "      fill: #D2E3FC;\n",
              "    }\n",
              "\n",
              "    [theme=dark] .colab-df-convert:hover {\n",
              "      background-color: #434B5C;\n",
              "      box-shadow: 0px 1px 3px 1px rgba(0, 0, 0, 0.15);\n",
              "      filter: drop-shadow(0px 1px 2px rgba(0, 0, 0, 0.3));\n",
              "      fill: #FFFFFF;\n",
              "    }\n",
              "  </style>\n",
              "\n",
              "      <script>\n",
              "        const buttonEl =\n",
              "          document.querySelector('#df-abcfe17f-5aa5-4b56-bd41-19151c61f796 button.colab-df-convert');\n",
              "        buttonEl.style.display =\n",
              "          google.colab.kernel.accessAllowed ? 'block' : 'none';\n",
              "\n",
              "        async function convertToInteractive(key) {\n",
              "          const element = document.querySelector('#df-abcfe17f-5aa5-4b56-bd41-19151c61f796');\n",
              "          const dataTable =\n",
              "            await google.colab.kernel.invokeFunction('convertToInteractive',\n",
              "                                                     [key], {});\n",
              "          if (!dataTable) return;\n",
              "\n",
              "          const docLinkHtml = 'Like what you see? Visit the ' +\n",
              "            '<a target=\"_blank\" href=https://colab.research.google.com/notebooks/data_table.ipynb>data table notebook</a>'\n",
              "            + ' to learn more about interactive tables.';\n",
              "          element.innerHTML = '';\n",
              "          dataTable['output_type'] = 'display_data';\n",
              "          await google.colab.output.renderOutput(dataTable, element);\n",
              "          const docLink = document.createElement('div');\n",
              "          docLink.innerHTML = docLinkHtml;\n",
              "          element.appendChild(docLink);\n",
              "        }\n",
              "      </script>\n",
              "    </div>\n",
              "  </div>\n",
              "  "
            ]
          },
          "metadata": {},
          "execution_count": 27
        }
      ],
      "source": [
        "scaled_df.query(\"OrderQty == 0.0 \")"
      ]
    },
    {
      "cell_type": "markdown",
      "id": "3d477893",
      "metadata": {
        "id": "3d477893"
      },
      "source": [
        "### 수요예측을 위해 3MA, 5MA, ORDERQTY항목을 feature 선정\n",
        "  - 정답은 ORDERQTY 선정\n",
        "  - 시계열 데이터를 위한 windows size = 20"
      ]
    },
    {
      "cell_type": "code",
      "execution_count": 28,
      "id": "98086697",
      "metadata": {
        "id": "98086697"
      },
      "outputs": [],
      "source": [
        "# 입력 파라미터 feature, label => numpy type\n",
        "# 윈도우 크기 만큼 DATASET 생성\n",
        "def make_sequence_dataset(feature, label, window_size):\n",
        "    feature_list = []    #생성될 feature list\n",
        "    label_list = []      #생설될 label list\n",
        "    \n",
        "    for i in range(len(feature)-windows_size):\n",
        "        feature_list.append(feature[i:i+window_size])\n",
        "        label_list.append(label[i+window_size])\n",
        "    \n",
        "    return np.array(feature_list), np.array(label_list)"
      ]
    },
    {
      "cell_type": "code",
      "execution_count": 29,
      "id": "3ff1ae54",
      "metadata": {
        "id": "3ff1ae54"
      },
      "outputs": [],
      "source": [
        "# feature_df, lablel_df 생성\n",
        "# feature_cols = ['OrderQty', '3MA', '5MA', 'PS']\n",
        "# feature_cols = ['OrderQty','5MA', 'PS']\n",
        "feature_cols = ['OrderQty', '3MA', 'PS']\n",
        "label_cols = ['OrderQty']\n",
        "\n",
        "feature_df = pd.DataFrame(scaled_df, columns=feature_cols)\n",
        "label_df = pd.DataFrame(scaled_df, columns=label_cols)"
      ]
    },
    {
      "cell_type": "code",
      "execution_count": 31,
      "id": "d572bfcc",
      "metadata": {
        "colab": {
          "base_uri": "https://localhost:8080/"
        },
        "id": "d572bfcc",
        "outputId": "0ad4eeae-f273-4303-b7f6-f9293ca5939f"
      },
      "outputs": [
        {
          "output_type": "stream",
          "name": "stdout",
          "text": [
            "(508, 3) (508, 1)\n"
          ]
        }
      ],
      "source": [
        "# Dataframe -> numpy 변환\n",
        "feature_np = feature_df.to_numpy()\n",
        "label_np = label_df.to_numpy()\n",
        "\n",
        "print(feature_np.shape, label_np.shape)"
      ]
    },
    {
      "cell_type": "markdown",
      "id": "f4a1a7b0",
      "metadata": {
        "id": "f4a1a7b0"
      },
      "source": [
        "### 시계열 DATASET 생성 (make_sequence_dataset)"
      ]
    },
    {
      "cell_type": "code",
      "execution_count": 32,
      "id": "c3c90ef6",
      "metadata": {
        "id": "c3c90ef6"
      },
      "outputs": [],
      "source": [
        "windows_size = 12\n",
        "X, Y = make_sequence_dataset(feature_np, label_np, windows_size)"
      ]
    },
    {
      "cell_type": "code",
      "execution_count": 33,
      "id": "760369e5",
      "metadata": {
        "colab": {
          "base_uri": "https://localhost:8080/"
        },
        "id": "760369e5",
        "outputId": "312ea869-1dd9-4601-82df-9763d47d66d6"
      },
      "outputs": [
        {
          "output_type": "stream",
          "name": "stdout",
          "text": [
            "(496, 12, 3) (496, 1)\n"
          ]
        }
      ],
      "source": [
        "print(X.shape, Y.shape)"
      ]
    },
    {
      "cell_type": "markdown",
      "id": "c1d6efb1",
      "metadata": {
        "id": "c1d6efb1"
      },
      "source": [
        "### 학습데이터, 테스트데이터 생성"
      ]
    },
    {
      "cell_type": "code",
      "execution_count": 34,
      "id": "56e0d0a4",
      "metadata": {
        "colab": {
          "base_uri": "https://localhost:8080/"
        },
        "id": "56e0d0a4",
        "outputId": "392f3fb3-5608-4863-f44d-78972916a261"
      },
      "outputs": [
        {
          "output_type": "stream",
          "name": "stdout",
          "text": [
            "(397, 12, 3) (397, 1)\n",
            "(99, 12, 3) (99, 1)\n"
          ]
        }
      ],
      "source": [
        "#train, test 분리 20%\n",
        "split = -round(len(X) * 0.2)\n",
        "\n",
        "x_train = X[0:split]\n",
        "y_train = Y[0:split]\n",
        "\n",
        "x_test = X[split:]\n",
        "y_test = Y[split:]\n",
        "\n",
        "print(x_train.shape, y_train.shape)\n",
        "print(x_test.shape, y_test.shape)"
      ]
    },
    {
      "cell_type": "code",
      "execution_count": 35,
      "id": "71b42f08",
      "metadata": {
        "colab": {
          "base_uri": "https://localhost:8080/"
        },
        "id": "71b42f08",
        "outputId": "c07a84e8-b28e-4a3d-ccc4-5ef84f178b2b"
      },
      "outputs": [
        {
          "output_type": "execute_result",
          "data": {
            "text/plain": [
              "(12, 3)"
            ]
          },
          "metadata": {},
          "execution_count": 35
        }
      ],
      "source": [
        "x_train[0].shape"
      ]
    },
    {
      "cell_type": "markdown",
      "id": "1eb758f3",
      "metadata": {
        "id": "1eb758f3"
      },
      "source": [
        "### LSTM Model and Compile"
      ]
    },
    {
      "cell_type": "code",
      "execution_count": 36,
      "id": "09ae4378",
      "metadata": {
        "id": "09ae4378"
      },
      "outputs": [],
      "source": [
        "#모델생성\n",
        "model = Sequential()\n",
        "# model.add(LSTM(128, activation='tanh', input_shape=x_train[0].shape))\n",
        "model.add(LSTM(128, return_sequences=True, input_shape=x_train[0].shape))\n",
        "model.add(Dropout(0.2))\n",
        "# model.add(LSTM(50, return_sequences=True))\n",
        "# model.add(Dropout(0.2))\n",
        "model.add(LSTM(50))\n",
        "model.add(Dropout(0.2))\n",
        "model.add(Dense(1, activation='linear'))"
      ]
    },
    {
      "cell_type": "code",
      "execution_count": 37,
      "id": "730d450b",
      "metadata": {
        "colab": {
          "base_uri": "https://localhost:8080/"
        },
        "id": "730d450b",
        "outputId": "6f3d7258-7ce3-4ed0-893a-7b6a71f76b3c"
      },
      "outputs": [
        {
          "output_type": "stream",
          "name": "stdout",
          "text": [
            "Model: \"sequential\"\n",
            "_________________________________________________________________\n",
            " Layer (type)                Output Shape              Param #   \n",
            "=================================================================\n",
            " lstm (LSTM)                 (None, 12, 128)           67584     \n",
            "                                                                 \n",
            " dropout (Dropout)           (None, 12, 128)           0         \n",
            "                                                                 \n",
            " lstm_1 (LSTM)               (None, 50)                35800     \n",
            "                                                                 \n",
            " dropout_1 (Dropout)         (None, 50)                0         \n",
            "                                                                 \n",
            " dense (Dense)               (None, 1)                 51        \n",
            "                                                                 \n",
            "=================================================================\n",
            "Total params: 103,435\n",
            "Trainable params: 103,435\n",
            "Non-trainable params: 0\n",
            "_________________________________________________________________\n"
          ]
        }
      ],
      "source": [
        "model.summary()"
      ]
    },
    {
      "cell_type": "code",
      "execution_count": 38,
      "id": "b34ade82",
      "metadata": {
        "id": "b34ade82"
      },
      "outputs": [],
      "source": [
        "model.compile(loss='mse', optimizer='adam', metrics=['mae', 'acc'])"
      ]
    },
    {
      "cell_type": "markdown",
      "id": "5d8ac610",
      "metadata": {
        "id": "5d8ac610"
      },
      "source": [
        "### 모델학습 (Early Stop)"
      ]
    },
    {
      "cell_type": "code",
      "execution_count": 39,
      "id": "99a73a0e",
      "metadata": {
        "id": "99a73a0e"
      },
      "outputs": [],
      "source": [
        "from tensorflow.keras.callbacks import EarlyStopping"
      ]
    },
    {
      "cell_type": "code",
      "execution_count": 40,
      "id": "dd0230a1",
      "metadata": {
        "id": "dd0230a1"
      },
      "outputs": [],
      "source": [
        "early_stop = EarlyStopping(monitor='val_loss', patience=10)"
      ]
    },
    {
      "cell_type": "code",
      "execution_count": 42,
      "id": "42c353cb",
      "metadata": {
        "scrolled": true,
        "colab": {
          "base_uri": "https://localhost:8080/"
        },
        "id": "42c353cb",
        "outputId": "6adf4aad-3ea8-4ede-8309-852f768a5d10"
      },
      "outputs": [
        {
          "output_type": "stream",
          "name": "stdout",
          "text": [
            "Epoch 1/50\n",
            "40/40 [==============================] - 2s 47ms/step - loss: 0.0235 - mae: 0.1086 - acc: 0.0000e+00 - val_loss: 0.0161 - val_mae: 0.1027 - val_acc: 0.0000e+00\n",
            "Epoch 2/50\n",
            "40/40 [==============================] - 1s 27ms/step - loss: 0.0225 - mae: 0.1039 - acc: 0.0000e+00 - val_loss: 0.0179 - val_mae: 0.1130 - val_acc: 0.0000e+00\n",
            "Epoch 3/50\n",
            "40/40 [==============================] - 1s 24ms/step - loss: 0.0219 - mae: 0.1059 - acc: 0.0000e+00 - val_loss: 0.0148 - val_mae: 0.0860 - val_acc: 0.0000e+00\n",
            "Epoch 4/50\n",
            "40/40 [==============================] - 1s 24ms/step - loss: 0.0229 - mae: 0.1069 - acc: 0.0000e+00 - val_loss: 0.0149 - val_mae: 0.0838 - val_acc: 0.0000e+00\n",
            "Epoch 5/50\n",
            "40/40 [==============================] - 1s 22ms/step - loss: 0.0245 - mae: 0.1114 - acc: 0.0000e+00 - val_loss: 0.0161 - val_mae: 0.1032 - val_acc: 0.0000e+00\n",
            "Epoch 6/50\n",
            "40/40 [==============================] - 1s 22ms/step - loss: 0.0221 - mae: 0.1029 - acc: 0.0000e+00 - val_loss: 0.0154 - val_mae: 0.0972 - val_acc: 0.0000e+00\n",
            "Epoch 7/50\n",
            "40/40 [==============================] - 1s 24ms/step - loss: 0.0222 - mae: 0.1069 - acc: 0.0000e+00 - val_loss: 0.0174 - val_mae: 0.1105 - val_acc: 0.0000e+00\n",
            "Epoch 8/50\n",
            "40/40 [==============================] - 1s 25ms/step - loss: 0.0217 - mae: 0.1027 - acc: 0.0000e+00 - val_loss: 0.0162 - val_mae: 0.1034 - val_acc: 0.0000e+00\n",
            "Epoch 9/50\n",
            "40/40 [==============================] - 1s 24ms/step - loss: 0.0225 - mae: 0.1074 - acc: 0.0000e+00 - val_loss: 0.0170 - val_mae: 0.1084 - val_acc: 0.0000e+00\n",
            "Epoch 10/50\n",
            "40/40 [==============================] - 1s 24ms/step - loss: 0.0212 - mae: 0.1046 - acc: 0.0000e+00 - val_loss: 0.0167 - val_mae: 0.1062 - val_acc: 0.0000e+00\n",
            "Epoch 11/50\n",
            "40/40 [==============================] - 1s 23ms/step - loss: 0.0214 - mae: 0.1006 - acc: 0.0000e+00 - val_loss: 0.0185 - val_mae: 0.1159 - val_acc: 0.0000e+00\n",
            "Epoch 12/50\n",
            "40/40 [==============================] - 1s 23ms/step - loss: 0.0220 - mae: 0.1063 - acc: 0.0000e+00 - val_loss: 0.0156 - val_mae: 0.0977 - val_acc: 0.0000e+00\n",
            "Epoch 13/50\n",
            "40/40 [==============================] - 1s 22ms/step - loss: 0.0221 - mae: 0.1047 - acc: 0.0000e+00 - val_loss: 0.0151 - val_mae: 0.0847 - val_acc: 0.0000e+00\n"
          ]
        },
        {
          "output_type": "execute_result",
          "data": {
            "text/plain": [
              "<keras.callbacks.History at 0x7f00738fb5e0>"
            ]
          },
          "metadata": {},
          "execution_count": 42
        }
      ],
      "source": [
        "model.fit(x_train, y_train, validation_data=(x_test, y_test), epochs=50, batch_size=10, callbacks=[early_stop])\n",
        "# model.fit(x_train, y_train, validation_data=(x_test, y_test), epochs=100, batch_size=40)"
      ]
    },
    {
      "cell_type": "markdown",
      "id": "96dc1d0a",
      "metadata": {
        "id": "96dc1d0a"
      },
      "source": [
        "### 예측을 통한 정답과 비교 (오차계산 MAPE, 평균절대값 백분율오차)\n",
        "\n",
        "![image.png](attachment:image.png)"
      ]
    },
    {
      "cell_type": "code",
      "execution_count": 43,
      "id": "edb0a527",
      "metadata": {
        "colab": {
          "base_uri": "https://localhost:8080/"
        },
        "id": "edb0a527",
        "outputId": "9818428e-1a45-4019-c85f-51e426bcf7d9"
      },
      "outputs": [
        {
          "output_type": "stream",
          "name": "stdout",
          "text": [
            "4/4 [==============================] - 1s 10ms/step\n"
          ]
        }
      ],
      "source": [
        "pred = model.predict(x_test)"
      ]
    },
    {
      "cell_type": "code",
      "execution_count": 44,
      "id": "3244fa2b",
      "metadata": {
        "id": "3244fa2b"
      },
      "outputs": [],
      "source": [
        "x_value = scaled_df.iloc[split:, 4:5].copy()    #그래프에 날짜 표기를 위한 X값"
      ]
    },
    {
      "cell_type": "code",
      "execution_count": 45,
      "id": "ffb89a9b",
      "metadata": {
        "colab": {
          "base_uri": "https://localhost:8080/",
          "height": 404
        },
        "id": "ffb89a9b",
        "outputId": "6bf3913d-89c5-4317-aa0b-dc523ab664c4"
      },
      "outputs": [
        {
          "output_type": "display_data",
          "data": {
            "text/plain": [
              "<Figure size 864x432 with 1 Axes>"
            ],
            "image/png": "[encoded data removed]"
          },
          "metadata": {
            "needs_background": "light"
          }
        }
      ],
      "source": [
        "plt.figure(figsize=(12,6))\n",
        "plt.title('PO forecasting 3MA PS 12Win ORDERQTY')\n",
        "plt.ylabel('ORDERQTY')\n",
        "plt.xlabel('period')\n",
        "plt.plot(x_value.OrderDate, y_test, label='actual')\n",
        "plt.plot(x_value.OrderDate, pred, label='prediction')\n",
        "plt.grid()\n",
        "plt.legend(loc='best')\n",
        "\n",
        "plt.show()"
      ]
    },
    {
      "cell_type": "code",
      "execution_count": 46,
      "id": "dfbb1b7e",
      "metadata": {
        "scrolled": true,
        "colab": {
          "base_uri": "https://localhost:8080/"
        },
        "id": "dfbb1b7e",
        "outputId": "037b2e71-70e5-4824-d73c-b752e225b6bd"
      },
      "outputs": [
        {
          "output_type": "execute_result",
          "data": {
            "text/plain": [
              "0.5121680917417445"
            ]
          },
          "metadata": {},
          "execution_count": 46
        }
      ],
      "source": [
        "# MAPE\n",
        "# print(np.sum(abs(y_test-pred)/y_test)/len(x_test))\n",
        "MAPE_Val(pred, y_test)"
      ]
    }
  ],
  "metadata": {
    "kernelspec": {
      "display_name": "Python 3 (ipykernel)",
      "language": "python",
      "name": "python3"
    },
    "language_info": {
      "codemirror_mode": {
        "name": "ipython",
        "version": 3
      },
      "file_extension": ".py",
      "mimetype": "text/x-python",
      "name": "python",
      "nbconvert_exporter": "python",
      "pygments_lexer": "ipython3",
      "version": "3.9.12"
    },
    "colab": {
      "provenance": [],
      "collapsed_sections": [
        "3d477893",
        "f4a1a7b0",
        "c1d6efb1",
        "1eb758f3",
        "5d8ac610",
        "96dc1d0a"
      ],
      "include_colab_link": true
    }
  },
  "nbformat": 4,
  "nbformat_minor": 5
}