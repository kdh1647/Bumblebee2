{
  "nbformat": 4,
  "nbformat_minor": 0,
  "metadata": {
    "colab": {
      "provenance": [],
      "collapsed_sections": [
        "5uQE2eABaOS4"
      ],
      "authorship_tag": "ABX9TyMi4CExQFhwurChdn7Jjege",
      "include_colab_link": true
    },
    "kernelspec": {
      "name": "python3",
      "display_name": "Python 3"
    },
    "language_info": {
      "name": "python"
    }
  },
  "cells": [
    {
      "cell_type": "markdown",
      "metadata": {
        "id": "view-in-github",
        "colab_type": "text"
      },
      "source": [
        "<a href=\"https://colab.research.google.com/github/kdh1647/Bumblebee2/blob/master/513Y001_Prophet.ipynb\" target=\"_parent\"><img src=\"https://colab.research.google.com/assets/colab-badge.svg\" alt=\"Open In Colab\"/></a>"
      ]
    },
    {
      "cell_type": "code",
      "execution_count": 1,
      "metadata": {
        "id": "eXacED9vYAnl"
      },
      "outputs": [],
      "source": [
        "import pandas as pd\n",
        "import pandas_datareader.data as pdr\n",
        "import matplotlib.pyplot as plt\n",
        "import numpy as np"
      ]
    },
    {
      "cell_type": "code",
      "source": [
        "#학습과 테스트 모델 분리\n",
        "from sklearn.model_selection import train_test_split"
      ],
      "metadata": {
        "id": "w4gcnvpbYIOT"
      },
      "execution_count": 2,
      "outputs": []
    },
    {
      "cell_type": "code",
      "source": [
        "## 데이터 Read  10년치 경제심리 지수\n",
        "raw_df = pd.read_csv('https://raw.githubusercontent.com/kdh1647/Bumblebee2/master/513Y001.csv', encoding='CP949')"
      ],
      "metadata": {
        "id": "5eg35kfzYMYA"
      },
      "execution_count": 3,
      "outputs": []
    },
    {
      "cell_type": "code",
      "source": [
        "raw_df.head(5)"
      ],
      "metadata": {
        "colab": {
          "base_uri": "https://localhost:8080/",
          "height": 206
        },
        "id": "FP9Ph-i8Yrcy",
        "outputId": "79af1c60-ed42-46d4-8c1a-b9b2c301e618"
      },
      "execution_count": 4,
      "outputs": [
        {
          "output_type": "execute_result",
          "data": {
            "text/plain": [
              "   Unnamed: 0 STAT_CODE    STAT_NAME ITEM_CODE1   ITEM_NAME1  ITEM_CODE2  \\\n",
              "0           0   513Y001  6.3. 경제심리지수      E1000  경제심리지수(원계열)         NaN   \n",
              "1           1   513Y001  6.3. 경제심리지수      E1000  경제심리지수(원계열)         NaN   \n",
              "2           2   513Y001  6.3. 경제심리지수      E1000  경제심리지수(원계열)         NaN   \n",
              "3           3   513Y001  6.3. 경제심리지수      E1000  경제심리지수(원계열)         NaN   \n",
              "4           4   513Y001  6.3. 경제심리지수      E1000  경제심리지수(원계열)         NaN   \n",
              "\n",
              "   ITEM_NAME2  ITEM_CODE3  ITEM_NAME3  ITEM_CODE4  ITEM_NAME4  UNIT_NAME  \\\n",
              "0         NaN         NaN         NaN         NaN         NaN        NaN   \n",
              "1         NaN         NaN         NaN         NaN         NaN        NaN   \n",
              "2         NaN         NaN         NaN         NaN         NaN        NaN   \n",
              "3         NaN         NaN         NaN         NaN         NaN        NaN   \n",
              "4         NaN         NaN         NaN         NaN         NaN        NaN   \n",
              "\n",
              "     TIME  DATA_VALUE  \n",
              "0  201301        94.5  \n",
              "1  201302        96.3  \n",
              "2  201303        98.3  \n",
              "3  201304        97.9  \n",
              "4  201305        97.3  "
            ],
            "text/html": [
              "\n",
              "  <div id=\"df-afd78b9a-a084-450a-90f4-c1587fbd2f59\">\n",
              "    <div class=\"colab-df-container\">\n",
              "      <div>\n",
              "<style scoped>\n",
              "    .dataframe tbody tr th:only-of-type {\n",
              "        vertical-align: middle;\n",
              "    }\n",
              "\n",
              "    .dataframe tbody tr th {\n",
              "        vertical-align: top;\n",
              "    }\n",
              "\n",
              "    .dataframe thead th {\n",
              "        text-align: right;\n",
              "    }\n",
              "</style>\n",
              "<table border=\"1\" class=\"dataframe\">\n",
              "  <thead>\n",
              "    <tr style=\"text-align: right;\">\n",
              "      <th></th>\n",
              "      <th>Unnamed: 0</th>\n",
              "      <th>STAT_CODE</th>\n",
              "      <th>STAT_NAME</th>\n",
              "      <th>ITEM_CODE1</th>\n",
              "      <th>ITEM_NAME1</th>\n",
              "      <th>ITEM_CODE2</th>\n",
              "      <th>ITEM_NAME2</th>\n",
              "      <th>ITEM_CODE3</th>\n",
              "      <th>ITEM_NAME3</th>\n",
              "      <th>ITEM_CODE4</th>\n",
              "      <th>ITEM_NAME4</th>\n",
              "      <th>UNIT_NAME</th>\n",
              "      <th>TIME</th>\n",
              "      <th>DATA_VALUE</th>\n",
              "    </tr>\n",
              "  </thead>\n",
              "  <tbody>\n",
              "    <tr>\n",
              "      <th>0</th>\n",
              "      <td>0</td>\n",
              "      <td>513Y001</td>\n",
              "      <td>6.3. 경제심리지수</td>\n",
              "      <td>E1000</td>\n",
              "      <td>경제심리지수(원계열)</td>\n",
              "      <td>NaN</td>\n",
              "      <td>NaN</td>\n",
              "      <td>NaN</td>\n",
              "      <td>NaN</td>\n",
              "      <td>NaN</td>\n",
              "      <td>NaN</td>\n",
              "      <td>NaN</td>\n",
              "      <td>201301</td>\n",
              "      <td>94.5</td>\n",
              "    </tr>\n",
              "    <tr>\n",
              "      <th>1</th>\n",
              "      <td>1</td>\n",
              "      <td>513Y001</td>\n",
              "      <td>6.3. 경제심리지수</td>\n",
              "      <td>E1000</td>\n",
              "      <td>경제심리지수(원계열)</td>\n",
              "      <td>NaN</td>\n",
              "      <td>NaN</td>\n",
              "      <td>NaN</td>\n",
              "      <td>NaN</td>\n",
              "      <td>NaN</td>\n",
              "      <td>NaN</td>\n",
              "      <td>NaN</td>\n",
              "      <td>201302</td>\n",
              "      <td>96.3</td>\n",
              "    </tr>\n",
              "    <tr>\n",
              "      <th>2</th>\n",
              "      <td>2</td>\n",
              "      <td>513Y001</td>\n",
              "      <td>6.3. 경제심리지수</td>\n",
              "      <td>E1000</td>\n",
              "      <td>경제심리지수(원계열)</td>\n",
              "      <td>NaN</td>\n",
              "      <td>NaN</td>\n",
              "      <td>NaN</td>\n",
              "      <td>NaN</td>\n",
              "      <td>NaN</td>\n",
              "      <td>NaN</td>\n",
              "      <td>NaN</td>\n",
              "      <td>201303</td>\n",
              "      <td>98.3</td>\n",
              "    </tr>\n",
              "    <tr>\n",
              "      <th>3</th>\n",
              "      <td>3</td>\n",
              "      <td>513Y001</td>\n",
              "      <td>6.3. 경제심리지수</td>\n",
              "      <td>E1000</td>\n",
              "      <td>경제심리지수(원계열)</td>\n",
              "      <td>NaN</td>\n",
              "      <td>NaN</td>\n",
              "      <td>NaN</td>\n",
              "      <td>NaN</td>\n",
              "      <td>NaN</td>\n",
              "      <td>NaN</td>\n",
              "      <td>NaN</td>\n",
              "      <td>201304</td>\n",
              "      <td>97.9</td>\n",
              "    </tr>\n",
              "    <tr>\n",
              "      <th>4</th>\n",
              "      <td>4</td>\n",
              "      <td>513Y001</td>\n",
              "      <td>6.3. 경제심리지수</td>\n",
              "      <td>E1000</td>\n",
              "      <td>경제심리지수(원계열)</td>\n",
              "      <td>NaN</td>\n",
              "      <td>NaN</td>\n",
              "      <td>NaN</td>\n",
              "      <td>NaN</td>\n",
              "      <td>NaN</td>\n",
              "      <td>NaN</td>\n",
              "      <td>NaN</td>\n",
              "      <td>201305</td>\n",
              "      <td>97.3</td>\n",
              "    </tr>\n",
              "  </tbody>\n",
              "</table>\n",
              "</div>\n",
              "      <button class=\"colab-df-convert\" onclick=\"convertToInteractive('df-afd78b9a-a084-450a-90f4-c1587fbd2f59')\"\n",
              "              title=\"Convert this dataframe to an interactive table.\"\n",
              "              style=\"display:none;\">\n",
              "        \n",
              "  <svg xmlns=\"http://www.w3.org/2000/svg\" height=\"24px\"viewBox=\"0 0 24 24\"\n",
              "       width=\"24px\">\n",
              "    <path d=\"M0 0h24v24H0V0z\" fill=\"none\"/>\n",
              "    <path d=\"M18.56 5.44l.94 2.06.94-2.06 2.06-.94-2.06-.94-.94-2.06-.94 2.06-2.06.94zm-11 1L8.5 8.5l.94-2.06 2.06-.94-2.06-.94L8.5 2.5l-.94 2.06-2.06.94zm10 10l.94 2.06.94-2.06 2.06-.94-2.06-.94-.94-2.06-.94 2.06-2.06.94z\"/><path d=\"M17.41 7.96l-1.37-1.37c-.4-.4-.92-.59-1.43-.59-.52 0-1.04.2-1.43.59L10.3 9.45l-7.72 7.72c-.78.78-.78 2.05 0 2.83L4 21.41c.39.39.9.59 1.41.59.51 0 1.02-.2 1.41-.59l7.78-7.78 2.81-2.81c.8-.78.8-2.07 0-2.86zM5.41 20L4 18.59l7.72-7.72 1.47 1.35L5.41 20z\"/>\n",
              "  </svg>\n",
              "      </button>\n",
              "      \n",
              "  <style>\n",
              "    .colab-df-container {\n",
              "      display:flex;\n",
              "      flex-wrap:wrap;\n",
              "      gap: 12px;\n",
              "    }\n",
              "\n",
              "    .colab-df-convert {\n",
              "      background-color: #E8F0FE;\n",
              "      border: none;\n",
              "      border-radius: 50%;\n",
              "      cursor: pointer;\n",
              "      display: none;\n",
              "      fill: #1967D2;\n",
              "      height: 32px;\n",
              "      padding: 0 0 0 0;\n",
              "      width: 32px;\n",
              "    }\n",
              "\n",
              "    .colab-df-convert:hover {\n",
              "      background-color: #E2EBFA;\n",
              "      box-shadow: 0px 1px 2px rgba(60, 64, 67, 0.3), 0px 1px 3px 1px rgba(60, 64, 67, 0.15);\n",
              "      fill: #174EA6;\n",
              "    }\n",
              "\n",
              "    [theme=dark] .colab-df-convert {\n",
              "      background-color: #3B4455;\n",
              "      fill: #D2E3FC;\n",
              "    }\n",
              "\n",
              "    [theme=dark] .colab-df-convert:hover {\n",
              "      background-color: #434B5C;\n",
              "      box-shadow: 0px 1px 3px 1px rgba(0, 0, 0, 0.15);\n",
              "      filter: drop-shadow(0px 1px 2px rgba(0, 0, 0, 0.3));\n",
              "      fill: #FFFFFF;\n",
              "    }\n",
              "  </style>\n",
              "\n",
              "      <script>\n",
              "        const buttonEl =\n",
              "          document.querySelector('#df-afd78b9a-a084-450a-90f4-c1587fbd2f59 button.colab-df-convert');\n",
              "        buttonEl.style.display =\n",
              "          google.colab.kernel.accessAllowed ? 'block' : 'none';\n",
              "\n",
              "        async function convertToInteractive(key) {\n",
              "          const element = document.querySelector('#df-afd78b9a-a084-450a-90f4-c1587fbd2f59');\n",
              "          const dataTable =\n",
              "            await google.colab.kernel.invokeFunction('convertToInteractive',\n",
              "                                                     [key], {});\n",
              "          if (!dataTable) return;\n",
              "\n",
              "          const docLinkHtml = 'Like what you see? Visit the ' +\n",
              "            '<a target=\"_blank\" href=https://colab.research.google.com/notebooks/data_table.ipynb>data table notebook</a>'\n",
              "            + ' to learn more about interactive tables.';\n",
              "          element.innerHTML = '';\n",
              "          dataTable['output_type'] = 'display_data';\n",
              "          await google.colab.output.renderOutput(dataTable, element);\n",
              "          const docLink = document.createElement('div');\n",
              "          docLink.innerHTML = docLinkHtml;\n",
              "          element.appendChild(docLink);\n",
              "        }\n",
              "      </script>\n",
              "    </div>\n",
              "  </div>\n",
              "  "
            ]
          },
          "metadata": {},
          "execution_count": 4
        }
      ]
    },
    {
      "cell_type": "code",
      "source": [
        "data = raw_df[['TIME', 'DATA_VALUE']]    #필요컬럼만 추출"
      ],
      "metadata": {
        "id": "5ToQYknIZKkT"
      },
      "execution_count": 5,
      "outputs": []
    },
    {
      "cell_type": "code",
      "source": [
        "data.TIME = pd.to_datetime(data['TIME'].astype(str) + '01', format='%Y-%m-%d')    #년월을 날짜형태로 변형 202003 -> 2022-03-01"
      ],
      "metadata": {
        "colab": {
          "base_uri": "https://localhost:8080/"
        },
        "id": "iiKTYk2PZNDf",
        "outputId": "a1143d76-1dbe-4592-b2a7-36bdfc7b0c44"
      },
      "execution_count": 6,
      "outputs": [
        {
          "output_type": "stream",
          "name": "stderr",
          "text": [
            "/usr/local/lib/python3.7/dist-packages/pandas/core/generic.py:5516: SettingWithCopyWarning: \n",
            "A value is trying to be set on a copy of a slice from a DataFrame.\n",
            "Try using .loc[row_indexer,col_indexer] = value instead\n",
            "\n",
            "See the caveats in the documentation: https://pandas.pydata.org/pandas-docs/stable/user_guide/indexing.html#returning-a-view-versus-a-copy\n",
            "  self[name] = value\n"
          ]
        }
      ]
    },
    {
      "cell_type": "code",
      "source": [
        "data"
      ],
      "metadata": {
        "colab": {
          "base_uri": "https://localhost:8080/",
          "height": 423
        },
        "id": "B9vJ6fBXZQD_",
        "outputId": "d1dd2208-a8a1-4fa6-d887-50b0db389df4"
      },
      "execution_count": 7,
      "outputs": [
        {
          "output_type": "execute_result",
          "data": {
            "text/plain": [
              "          TIME  DATA_VALUE\n",
              "0   2013-01-01        94.5\n",
              "1   2013-02-01        96.3\n",
              "2   2013-03-01        98.3\n",
              "3   2013-04-01        97.9\n",
              "4   2013-05-01        97.3\n",
              "..         ...         ...\n",
              "112 2022-05-01       106.7\n",
              "113 2022-06-01       102.5\n",
              "114 2022-07-01        97.8\n",
              "115 2022-08-01        99.3\n",
              "116 2022-09-01        98.0\n",
              "\n",
              "[117 rows x 2 columns]"
            ],
            "text/html": [
              "\n",
              "  <div id=\"df-c474a5d9-a094-4932-9fd6-bce2c4f75c38\">\n",
              "    <div class=\"colab-df-container\">\n",
              "      <div>\n",
              "<style scoped>\n",
              "    .dataframe tbody tr th:only-of-type {\n",
              "        vertical-align: middle;\n",
              "    }\n",
              "\n",
              "    .dataframe tbody tr th {\n",
              "        vertical-align: top;\n",
              "    }\n",
              "\n",
              "    .dataframe thead th {\n",
              "        text-align: right;\n",
              "    }\n",
              "</style>\n",
              "<table border=\"1\" class=\"dataframe\">\n",
              "  <thead>\n",
              "    <tr style=\"text-align: right;\">\n",
              "      <th></th>\n",
              "      <th>TIME</th>\n",
              "      <th>DATA_VALUE</th>\n",
              "    </tr>\n",
              "  </thead>\n",
              "  <tbody>\n",
              "    <tr>\n",
              "      <th>0</th>\n",
              "      <td>2013-01-01</td>\n",
              "      <td>94.5</td>\n",
              "    </tr>\n",
              "    <tr>\n",
              "      <th>1</th>\n",
              "      <td>2013-02-01</td>\n",
              "      <td>96.3</td>\n",
              "    </tr>\n",
              "    <tr>\n",
              "      <th>2</th>\n",
              "      <td>2013-03-01</td>\n",
              "      <td>98.3</td>\n",
              "    </tr>\n",
              "    <tr>\n",
              "      <th>3</th>\n",
              "      <td>2013-04-01</td>\n",
              "      <td>97.9</td>\n",
              "    </tr>\n",
              "    <tr>\n",
              "      <th>4</th>\n",
              "      <td>2013-05-01</td>\n",
              "      <td>97.3</td>\n",
              "    </tr>\n",
              "    <tr>\n",
              "      <th>...</th>\n",
              "      <td>...</td>\n",
              "      <td>...</td>\n",
              "    </tr>\n",
              "    <tr>\n",
              "      <th>112</th>\n",
              "      <td>2022-05-01</td>\n",
              "      <td>106.7</td>\n",
              "    </tr>\n",
              "    <tr>\n",
              "      <th>113</th>\n",
              "      <td>2022-06-01</td>\n",
              "      <td>102.5</td>\n",
              "    </tr>\n",
              "    <tr>\n",
              "      <th>114</th>\n",
              "      <td>2022-07-01</td>\n",
              "      <td>97.8</td>\n",
              "    </tr>\n",
              "    <tr>\n",
              "      <th>115</th>\n",
              "      <td>2022-08-01</td>\n",
              "      <td>99.3</td>\n",
              "    </tr>\n",
              "    <tr>\n",
              "      <th>116</th>\n",
              "      <td>2022-09-01</td>\n",
              "      <td>98.0</td>\n",
              "    </tr>\n",
              "  </tbody>\n",
              "</table>\n",
              "<p>117 rows × 2 columns</p>\n",
              "</div>\n",
              "      <button class=\"colab-df-convert\" onclick=\"convertToInteractive('df-c474a5d9-a094-4932-9fd6-bce2c4f75c38')\"\n",
              "              title=\"Convert this dataframe to an interactive table.\"\n",
              "              style=\"display:none;\">\n",
              "        \n",
              "  <svg xmlns=\"http://www.w3.org/2000/svg\" height=\"24px\"viewBox=\"0 0 24 24\"\n",
              "       width=\"24px\">\n",
              "    <path d=\"M0 0h24v24H0V0z\" fill=\"none\"/>\n",
              "    <path d=\"M18.56 5.44l.94 2.06.94-2.06 2.06-.94-2.06-.94-.94-2.06-.94 2.06-2.06.94zm-11 1L8.5 8.5l.94-2.06 2.06-.94-2.06-.94L8.5 2.5l-.94 2.06-2.06.94zm10 10l.94 2.06.94-2.06 2.06-.94-2.06-.94-.94-2.06-.94 2.06-2.06.94z\"/><path d=\"M17.41 7.96l-1.37-1.37c-.4-.4-.92-.59-1.43-.59-.52 0-1.04.2-1.43.59L10.3 9.45l-7.72 7.72c-.78.78-.78 2.05 0 2.83L4 21.41c.39.39.9.59 1.41.59.51 0 1.02-.2 1.41-.59l7.78-7.78 2.81-2.81c.8-.78.8-2.07 0-2.86zM5.41 20L4 18.59l7.72-7.72 1.47 1.35L5.41 20z\"/>\n",
              "  </svg>\n",
              "      </button>\n",
              "      \n",
              "  <style>\n",
              "    .colab-df-container {\n",
              "      display:flex;\n",
              "      flex-wrap:wrap;\n",
              "      gap: 12px;\n",
              "    }\n",
              "\n",
              "    .colab-df-convert {\n",
              "      background-color: #E8F0FE;\n",
              "      border: none;\n",
              "      border-radius: 50%;\n",
              "      cursor: pointer;\n",
              "      display: none;\n",
              "      fill: #1967D2;\n",
              "      height: 32px;\n",
              "      padding: 0 0 0 0;\n",
              "      width: 32px;\n",
              "    }\n",
              "\n",
              "    .colab-df-convert:hover {\n",
              "      background-color: #E2EBFA;\n",
              "      box-shadow: 0px 1px 2px rgba(60, 64, 67, 0.3), 0px 1px 3px 1px rgba(60, 64, 67, 0.15);\n",
              "      fill: #174EA6;\n",
              "    }\n",
              "\n",
              "    [theme=dark] .colab-df-convert {\n",
              "      background-color: #3B4455;\n",
              "      fill: #D2E3FC;\n",
              "    }\n",
              "\n",
              "    [theme=dark] .colab-df-convert:hover {\n",
              "      background-color: #434B5C;\n",
              "      box-shadow: 0px 1px 3px 1px rgba(0, 0, 0, 0.15);\n",
              "      filter: drop-shadow(0px 1px 2px rgba(0, 0, 0, 0.3));\n",
              "      fill: #FFFFFF;\n",
              "    }\n",
              "  </style>\n",
              "\n",
              "      <script>\n",
              "        const buttonEl =\n",
              "          document.querySelector('#df-c474a5d9-a094-4932-9fd6-bce2c4f75c38 button.colab-df-convert');\n",
              "        buttonEl.style.display =\n",
              "          google.colab.kernel.accessAllowed ? 'block' : 'none';\n",
              "\n",
              "        async function convertToInteractive(key) {\n",
              "          const element = document.querySelector('#df-c474a5d9-a094-4932-9fd6-bce2c4f75c38');\n",
              "          const dataTable =\n",
              "            await google.colab.kernel.invokeFunction('convertToInteractive',\n",
              "                                                     [key], {});\n",
              "          if (!dataTable) return;\n",
              "\n",
              "          const docLinkHtml = 'Like what you see? Visit the ' +\n",
              "            '<a target=\"_blank\" href=https://colab.research.google.com/notebooks/data_table.ipynb>data table notebook</a>'\n",
              "            + ' to learn more about interactive tables.';\n",
              "          element.innerHTML = '';\n",
              "          dataTable['output_type'] = 'display_data';\n",
              "          await google.colab.output.renderOutput(dataTable, element);\n",
              "          const docLink = document.createElement('div');\n",
              "          docLink.innerHTML = docLinkHtml;\n",
              "          element.appendChild(docLink);\n",
              "        }\n",
              "      </script>\n",
              "    </div>\n",
              "  </div>\n",
              "  "
            ]
          },
          "metadata": {},
          "execution_count": 7
        }
      ]
    },
    {
      "cell_type": "code",
      "source": [
        "plt.figure(figsize=(20,6))\n",
        "plt.plot(data['TIME'], data['DATA_VALUE'], label='PO')\n",
        "plt.grid()\n",
        "plt.legend(loc='best')\n",
        "\n",
        "plt.show()"
      ],
      "metadata": {
        "colab": {
          "base_uri": "https://localhost:8080/",
          "height": 374
        },
        "id": "q8wfMXq9Zh-Z",
        "outputId": "9ce24082-6971-4f25-8a1c-9947af1a2dc3"
      },
      "execution_count": 8,
      "outputs": [
        {
          "output_type": "display_data",
          "data": {
            "text/plain": [
              "<Figure size 1440x432 with 1 Axes>"
            ],
            "image/png": "[encoded data removed]"
          },
          "metadata": {
            "needs_background": "light"
          }
        }
      ]
    },
    {
      "cell_type": "code",
      "source": [
        "# MAPE(Mean Absolut Percentage Error) 평균 절대 백분율 오차로 모델 오차율 검증\n",
        "def MAPE_Val(y_pred, y_true):\n",
        "    return np.mean(np.abs((y_true - y_pred) / y_true)) "
      ],
      "metadata": {
        "id": "1HcvI46jdm8_"
      },
      "execution_count": 9,
      "outputs": []
    },
    {
      "cell_type": "markdown",
      "source": [
        "### 08. Prophet\n",
        "\n",
        "### https://facebook.github.io/prophet/"
      ],
      "metadata": {
        "id": "0st9sqD1iiOo"
      }
    },
    {
      "cell_type": "code",
      "source": [
        "#prophet 라이브러리 선언\n",
        "from prophet import Prophet    \n",
        "from prophet.plot import add_changepoints_to_plot"
      ],
      "metadata": {
        "id": "mBzGEiR1gCVu"
      },
      "execution_count": 10,
      "outputs": []
    },
    {
      "cell_type": "code",
      "source": [
        "data.info()"
      ],
      "metadata": {
        "colab": {
          "base_uri": "https://localhost:8080/"
        },
        "id": "cI8lJm5Mijvc",
        "outputId": "0373dcd6-8746-4011-e839-35f0ccbf2486"
      },
      "execution_count": 11,
      "outputs": [
        {
          "output_type": "stream",
          "name": "stdout",
          "text": [
            "<class 'pandas.core.frame.DataFrame'>\n",
            "RangeIndex: 117 entries, 0 to 116\n",
            "Data columns (total 2 columns):\n",
            " #   Column      Non-Null Count  Dtype         \n",
            "---  ------      --------------  -----         \n",
            " 0   TIME        117 non-null    datetime64[ns]\n",
            " 1   DATA_VALUE  117 non-null    float64       \n",
            "dtypes: datetime64[ns](1), float64(1)\n",
            "memory usage: 2.0 KB\n"
          ]
        }
      ]
    },
    {
      "cell_type": "code",
      "source": [
        "df_pr = data.copy()    #prophat용 dataframe"
      ],
      "metadata": {
        "id": "XyGE91pPin_p"
      },
      "execution_count": 12,
      "outputs": []
    },
    {
      "cell_type": "code",
      "source": [
        "df_pr.TIME = pd.to_datetime(df_pr['TIME'], format='%Y%m', errors='coerce')"
      ],
      "metadata": {
        "id": "hb4R6BPNbyj7"
      },
      "execution_count": null,
      "outputs": []
    },
    {
      "cell_type": "code",
      "source": [
        "df_pr.columns = ['ds','y']    # column명을 ds와 y로 변경"
      ],
      "metadata": {
        "id": "_Y27SQDJi2vD"
      },
      "execution_count": 13,
      "outputs": []
    },
    {
      "cell_type": "code",
      "source": [
        "train_data_pr, test_data_pr = train_test_split(df_pr, test_size=0.2, shuffle=False)    #train과 test분리"
      ],
      "metadata": {
        "id": "zqdMZzgwi7Dy"
      },
      "execution_count": 48,
      "outputs": []
    },
    {
      "cell_type": "code",
      "source": [
        "#날짜 컬럼을 인덱스화->그래프 그리기 편함\n",
        "test_data_pr = test_data_pr.set_index('ds')"
      ],
      "metadata": {
        "id": "7Xc5wIfiTOZY"
      },
      "execution_count": 51,
      "outputs": []
    },
    {
      "cell_type": "code",
      "source": [
        "# prophet 모델생성 및 학습\n",
        "m = Prophet()\n",
        "m.fit(train_data_pr)\n",
        "\n",
        "# 테스트 데이터 만큼예측\n",
        "future = m.make_future_dataframe(periods=len(test_data_pr),freq='MS')\n",
        "prophet_pred = m.predict(future)"
      ],
      "metadata": {
        "colab": {
          "base_uri": "https://localhost:8080/"
        },
        "id": "pN2MMY_hjCTK",
        "outputId": "692e7100-d69d-48fa-909d-71cd47ee5332"
      },
      "execution_count": 52,
      "outputs": [
        {
          "output_type": "stream",
          "name": "stderr",
          "text": [
            "INFO:prophet:Disabling weekly seasonality. Run prophet with weekly_seasonality=True to override this.\n",
            "INFO:prophet:Disabling daily seasonality. Run prophet with daily_seasonality=True to override this.\n",
            "DEBUG:cmdstanpy:input tempfile: /tmp/tmpa79svxvh/ty9ki6xm.json\n",
            "DEBUG:cmdstanpy:input tempfile: /tmp/tmpa79svxvh/zv92aobz.json\n",
            "DEBUG:cmdstanpy:idx 0\n",
            "DEBUG:cmdstanpy:running CmdStan, num_threads: None\n",
            "DEBUG:cmdstanpy:CmdStan args: ['/usr/local/lib/python3.7/dist-packages/prophet/stan_model/prophet_model.bin', 'random', 'seed=46989', 'data', 'file=/tmp/tmpa79svxvh/ty9ki6xm.json', 'init=/tmp/tmpa79svxvh/zv92aobz.json', 'output', 'file=/tmp/tmpa79svxvh/prophet_modelstndi2yo/prophet_model-20221115032233.csv', 'method=optimize', 'algorithm=newton', 'iter=10000']\n",
            "03:22:33 - cmdstanpy - INFO - Chain [1] start processing\n",
            "INFO:cmdstanpy:Chain [1] start processing\n",
            "03:22:34 - cmdstanpy - INFO - Chain [1] done processing\n",
            "INFO:cmdstanpy:Chain [1] done processing\n"
          ]
        }
      ]
    },
    {
      "cell_type": "code",
      "source": [
        "#예측 데이터 조회\n",
        "prophet_pred.tail()"
      ],
      "metadata": {
        "colab": {
          "base_uri": "https://localhost:8080/",
          "height": 357
        },
        "id": "3o-l1ShNjMSo",
        "outputId": "76e605af-86b8-4bb0-9fa3-41d1de787211"
      },
      "execution_count": 53,
      "outputs": [
        {
          "output_type": "execute_result",
          "data": {
            "text/plain": [
              "            ds      trend  yhat_lower  yhat_upper  trend_lower  trend_upper  \\\n",
              "112 2022-05-01  61.666588   56.617447   68.571015    60.176253    63.176800   \n",
              "113 2022-06-01  60.852307   54.098468   65.601572    59.281749    62.490761   \n",
              "114 2022-07-01  60.064294   52.976191   64.840433    58.399602    61.833203   \n",
              "115 2022-08-01  59.250014   54.036014   66.204369    57.485775    61.100711   \n",
              "116 2022-09-01  58.435734   54.767102   66.905544    56.549866    60.413146   \n",
              "\n",
              "     additive_terms  additive_terms_lower  additive_terms_upper    yearly  \\\n",
              "112        0.916780              0.916780              0.916780  0.916780   \n",
              "113       -1.071683             -1.071683             -1.071683 -1.071683   \n",
              "114       -0.943585             -0.943585             -0.943585 -0.943585   \n",
              "115        0.793261              0.793261              0.793261  0.793261   \n",
              "116        2.148795              2.148795              2.148795  2.148795   \n",
              "\n",
              "     yearly_lower  yearly_upper  multiplicative_terms  \\\n",
              "112      0.916780      0.916780                   0.0   \n",
              "113     -1.071683     -1.071683                   0.0   \n",
              "114     -0.943585     -0.943585                   0.0   \n",
              "115      0.793261      0.793261                   0.0   \n",
              "116      2.148795      2.148795                   0.0   \n",
              "\n",
              "     multiplicative_terms_lower  multiplicative_terms_upper       yhat  \n",
              "112                         0.0                         0.0  62.583368  \n",
              "113                         0.0                         0.0  59.780624  \n",
              "114                         0.0                         0.0  59.120709  \n",
              "115                         0.0                         0.0  60.043275  \n",
              "116                         0.0                         0.0  60.584529  "
            ],
            "text/html": [
              "\n",
              "  <div id=\"df-877cdb12-afce-4e45-97c2-918a007eb296\">\n",
              "    <div class=\"colab-df-container\">\n",
              "      <div>\n",
              "<style scoped>\n",
              "    .dataframe tbody tr th:only-of-type {\n",
              "        vertical-align: middle;\n",
              "    }\n",
              "\n",
              "    .dataframe tbody tr th {\n",
              "        vertical-align: top;\n",
              "    }\n",
              "\n",
              "    .dataframe thead th {\n",
              "        text-align: right;\n",
              "    }\n",
              "</style>\n",
              "<table border=\"1\" class=\"dataframe\">\n",
              "  <thead>\n",
              "    <tr style=\"text-align: right;\">\n",
              "      <th></th>\n",
              "      <th>ds</th>\n",
              "      <th>trend</th>\n",
              "      <th>yhat_lower</th>\n",
              "      <th>yhat_upper</th>\n",
              "      <th>trend_lower</th>\n",
              "      <th>trend_upper</th>\n",
              "      <th>additive_terms</th>\n",
              "      <th>additive_terms_lower</th>\n",
              "      <th>additive_terms_upper</th>\n",
              "      <th>yearly</th>\n",
              "      <th>yearly_lower</th>\n",
              "      <th>yearly_upper</th>\n",
              "      <th>multiplicative_terms</th>\n",
              "      <th>multiplicative_terms_lower</th>\n",
              "      <th>multiplicative_terms_upper</th>\n",
              "      <th>yhat</th>\n",
              "    </tr>\n",
              "  </thead>\n",
              "  <tbody>\n",
              "    <tr>\n",
              "      <th>112</th>\n",
              "      <td>2022-05-01</td>\n",
              "      <td>61.666588</td>\n",
              "      <td>56.617447</td>\n",
              "      <td>68.571015</td>\n",
              "      <td>60.176253</td>\n",
              "      <td>63.176800</td>\n",
              "      <td>0.916780</td>\n",
              "      <td>0.916780</td>\n",
              "      <td>0.916780</td>\n",
              "      <td>0.916780</td>\n",
              "      <td>0.916780</td>\n",
              "      <td>0.916780</td>\n",
              "      <td>0.0</td>\n",
              "      <td>0.0</td>\n",
              "      <td>0.0</td>\n",
              "      <td>62.583368</td>\n",
              "    </tr>\n",
              "    <tr>\n",
              "      <th>113</th>\n",
              "      <td>2022-06-01</td>\n",
              "      <td>60.852307</td>\n",
              "      <td>54.098468</td>\n",
              "      <td>65.601572</td>\n",
              "      <td>59.281749</td>\n",
              "      <td>62.490761</td>\n",
              "      <td>-1.071683</td>\n",
              "      <td>-1.071683</td>\n",
              "      <td>-1.071683</td>\n",
              "      <td>-1.071683</td>\n",
              "      <td>-1.071683</td>\n",
              "      <td>-1.071683</td>\n",
              "      <td>0.0</td>\n",
              "      <td>0.0</td>\n",
              "      <td>0.0</td>\n",
              "      <td>59.780624</td>\n",
              "    </tr>\n",
              "    <tr>\n",
              "      <th>114</th>\n",
              "      <td>2022-07-01</td>\n",
              "      <td>60.064294</td>\n",
              "      <td>52.976191</td>\n",
              "      <td>64.840433</td>\n",
              "      <td>58.399602</td>\n",
              "      <td>61.833203</td>\n",
              "      <td>-0.943585</td>\n",
              "      <td>-0.943585</td>\n",
              "      <td>-0.943585</td>\n",
              "      <td>-0.943585</td>\n",
              "      <td>-0.943585</td>\n",
              "      <td>-0.943585</td>\n",
              "      <td>0.0</td>\n",
              "      <td>0.0</td>\n",
              "      <td>0.0</td>\n",
              "      <td>59.120709</td>\n",
              "    </tr>\n",
              "    <tr>\n",
              "      <th>115</th>\n",
              "      <td>2022-08-01</td>\n",
              "      <td>59.250014</td>\n",
              "      <td>54.036014</td>\n",
              "      <td>66.204369</td>\n",
              "      <td>57.485775</td>\n",
              "      <td>61.100711</td>\n",
              "      <td>0.793261</td>\n",
              "      <td>0.793261</td>\n",
              "      <td>0.793261</td>\n",
              "      <td>0.793261</td>\n",
              "      <td>0.793261</td>\n",
              "      <td>0.793261</td>\n",
              "      <td>0.0</td>\n",
              "      <td>0.0</td>\n",
              "      <td>0.0</td>\n",
              "      <td>60.043275</td>\n",
              "    </tr>\n",
              "    <tr>\n",
              "      <th>116</th>\n",
              "      <td>2022-09-01</td>\n",
              "      <td>58.435734</td>\n",
              "      <td>54.767102</td>\n",
              "      <td>66.905544</td>\n",
              "      <td>56.549866</td>\n",
              "      <td>60.413146</td>\n",
              "      <td>2.148795</td>\n",
              "      <td>2.148795</td>\n",
              "      <td>2.148795</td>\n",
              "      <td>2.148795</td>\n",
              "      <td>2.148795</td>\n",
              "      <td>2.148795</td>\n",
              "      <td>0.0</td>\n",
              "      <td>0.0</td>\n",
              "      <td>0.0</td>\n",
              "      <td>60.584529</td>\n",
              "    </tr>\n",
              "  </tbody>\n",
              "</table>\n",
              "</div>\n",
              "      <button class=\"colab-df-convert\" onclick=\"convertToInteractive('df-877cdb12-afce-4e45-97c2-918a007eb296')\"\n",
              "              title=\"Convert this dataframe to an interactive table.\"\n",
              "              style=\"display:none;\">\n",
              "        \n",
              "  <svg xmlns=\"http://www.w3.org/2000/svg\" height=\"24px\"viewBox=\"0 0 24 24\"\n",
              "       width=\"24px\">\n",
              "    <path d=\"M0 0h24v24H0V0z\" fill=\"none\"/>\n",
              "    <path d=\"M18.56 5.44l.94 2.06.94-2.06 2.06-.94-2.06-.94-.94-2.06-.94 2.06-2.06.94zm-11 1L8.5 8.5l.94-2.06 2.06-.94-2.06-.94L8.5 2.5l-.94 2.06-2.06.94zm10 10l.94 2.06.94-2.06 2.06-.94-2.06-.94-.94-2.06-.94 2.06-2.06.94z\"/><path d=\"M17.41 7.96l-1.37-1.37c-.4-.4-.92-.59-1.43-.59-.52 0-1.04.2-1.43.59L10.3 9.45l-7.72 7.72c-.78.78-.78 2.05 0 2.83L4 21.41c.39.39.9.59 1.41.59.51 0 1.02-.2 1.41-.59l7.78-7.78 2.81-2.81c.8-.78.8-2.07 0-2.86zM5.41 20L4 18.59l7.72-7.72 1.47 1.35L5.41 20z\"/>\n",
              "  </svg>\n",
              "      </button>\n",
              "      \n",
              "  <style>\n",
              "    .colab-df-container {\n",
              "      display:flex;\n",
              "      flex-wrap:wrap;\n",
              "      gap: 12px;\n",
              "    }\n",
              "\n",
              "    .colab-df-convert {\n",
              "      background-color: #E8F0FE;\n",
              "      border: none;\n",
              "      border-radius: 50%;\n",
              "      cursor: pointer;\n",
              "      display: none;\n",
              "      fill: #1967D2;\n",
              "      height: 32px;\n",
              "      padding: 0 0 0 0;\n",
              "      width: 32px;\n",
              "    }\n",
              "\n",
              "    .colab-df-convert:hover {\n",
              "      background-color: #E2EBFA;\n",
              "      box-shadow: 0px 1px 2px rgba(60, 64, 67, 0.3), 0px 1px 3px 1px rgba(60, 64, 67, 0.15);\n",
              "      fill: #174EA6;\n",
              "    }\n",
              "\n",
              "    [theme=dark] .colab-df-convert {\n",
              "      background-color: #3B4455;\n",
              "      fill: #D2E3FC;\n",
              "    }\n",
              "\n",
              "    [theme=dark] .colab-df-convert:hover {\n",
              "      background-color: #434B5C;\n",
              "      box-shadow: 0px 1px 3px 1px rgba(0, 0, 0, 0.15);\n",
              "      filter: drop-shadow(0px 1px 2px rgba(0, 0, 0, 0.3));\n",
              "      fill: #FFFFFF;\n",
              "    }\n",
              "  </style>\n",
              "\n",
              "      <script>\n",
              "        const buttonEl =\n",
              "          document.querySelector('#df-877cdb12-afce-4e45-97c2-918a007eb296 button.colab-df-convert');\n",
              "        buttonEl.style.display =\n",
              "          google.colab.kernel.accessAllowed ? 'block' : 'none';\n",
              "\n",
              "        async function convertToInteractive(key) {\n",
              "          const element = document.querySelector('#df-877cdb12-afce-4e45-97c2-918a007eb296');\n",
              "          const dataTable =\n",
              "            await google.colab.kernel.invokeFunction('convertToInteractive',\n",
              "                                                     [key], {});\n",
              "          if (!dataTable) return;\n",
              "\n",
              "          const docLinkHtml = 'Like what you see? Visit the ' +\n",
              "            '<a target=\"_blank\" href=https://colab.research.google.com/notebooks/data_table.ipynb>data table notebook</a>'\n",
              "            + ' to learn more about interactive tables.';\n",
              "          element.innerHTML = '';\n",
              "          dataTable['output_type'] = 'display_data';\n",
              "          await google.colab.output.renderOutput(dataTable, element);\n",
              "          const docLink = document.createElement('div');\n",
              "          docLink.innerHTML = docLinkHtml;\n",
              "          element.appendChild(docLink);\n",
              "        }\n",
              "      </script>\n",
              "    </div>\n",
              "  </div>\n",
              "  "
            ]
          },
          "metadata": {},
          "execution_count": 53
        }
      ]
    },
    {
      "cell_type": "code",
      "source": [
        "#일자와 예측 컬럼만 추출\n",
        "prophet_pred = pd.DataFrame({\"Date\" : prophet_pred[-len(test_data_pr):]['ds'], \"Pred\" : prophet_pred[-len(test_data_pr):][\"yhat\"]})"
      ],
      "metadata": {
        "id": "d83DUfOdjg5n"
      },
      "execution_count": 54,
      "outputs": []
    },
    {
      "cell_type": "code",
      "source": [
        "prophet_pred = prophet_pred.set_index('Date')"
      ],
      "metadata": {
        "id": "gnN-3yNXUFAl"
      },
      "execution_count": 60,
      "outputs": []
    },
    {
      "cell_type": "code",
      "source": [
        "plt.figure(figsize=(12,6))\n",
        "plt.title('Prophete Predict')\n",
        "plt.xlabel('period')\n",
        "plt.plot(test_data_pr, label='actual')\n",
        "plt.plot(prophet_pred, label='prediction')\n",
        "plt.grid()\n",
        "plt.legend(loc='best')\n",
        "\n",
        "plt.show()"
      ],
      "metadata": {
        "colab": {
          "base_uri": "https://localhost:8080/",
          "height": 404
        },
        "id": "ueVeCxDPjyNg",
        "outputId": "6bf071c4-3d96-45fa-b3c6-0b8bd36f80fe"
      },
      "execution_count": 62,
      "outputs": [
        {
          "output_type": "display_data",
          "data": {
            "text/plain": [
              "<Figure size 864x432 with 1 Axes>"
            ],
            "image/png": "[encoded data removed]"
          },
          "metadata": {
            "needs_background": "light"
          }
        }
      ]
    },
    {
      "cell_type": "code",
      "source": [
        "MAPE_Val(prophet_pred['Pred'].values, test_data_pr['y'].values)"
      ],
      "metadata": {
        "colab": {
          "base_uri": "https://localhost:8080/"
        },
        "id": "EQJ1I77Bj5A9",
        "outputId": "7743d459-fe52-460b-f849-f79c3dbc0597"
      },
      "execution_count": 63,
      "outputs": [
        {
          "output_type": "execute_result",
          "data": {
            "text/plain": [
              "0.3172145305595522"
            ]
          },
          "metadata": {},
          "execution_count": 63
        }
      ]
    },
    {
      "cell_type": "code",
      "source": [
        "#프로펫 계절성, 휴일 변수 추가\n",
        "\n",
        "m = Prophet(\n",
        "##trend\n",
        "            #  changepoint_prior_scale=0.3,\n",
        "##seasonality\n",
        "          weekly_seasonality=20,\n",
        "          yearly_seasonality=15\n",
        "          # daily_seasonality=13    \n",
        "           )\n",
        "\n",
        "#지역 휴일 내장함수 \n",
        "m.add_country_holidays(country_name='KR')\n",
        "\n",
        "m.fit(train_data_pr)\n",
        "future = m.make_future_dataframe(periods=len(test_data_pr),freq='MS')\n",
        "prophet_pred = m.predict(future)"
      ],
      "metadata": {
        "colab": {
          "base_uri": "https://localhost:8080/"
        },
        "id": "cwQj7rH-FjO1",
        "outputId": "b10724f0-dd03-4e6d-cbbc-4b65e848722c"
      },
      "execution_count": 64,
      "outputs": [
        {
          "output_type": "stream",
          "name": "stderr",
          "text": [
            "INFO:prophet:Disabling daily seasonality. Run prophet with daily_seasonality=True to override this.\n",
            "DEBUG:cmdstanpy:input tempfile: /tmp/tmpa79svxvh/uik8zux4.json\n",
            "DEBUG:cmdstanpy:input tempfile: /tmp/tmpa79svxvh/j12v4bqo.json\n",
            "DEBUG:cmdstanpy:idx 0\n",
            "DEBUG:cmdstanpy:running CmdStan, num_threads: None\n",
            "DEBUG:cmdstanpy:CmdStan args: ['/usr/local/lib/python3.7/dist-packages/prophet/stan_model/prophet_model.bin', 'random', 'seed=17200', 'data', 'file=/tmp/tmpa79svxvh/uik8zux4.json', 'init=/tmp/tmpa79svxvh/j12v4bqo.json', 'output', 'file=/tmp/tmpa79svxvh/prophet_modelp979qr8c/prophet_model-20221115032432.csv', 'method=optimize', 'algorithm=newton', 'iter=10000']\n",
            "03:24:32 - cmdstanpy - INFO - Chain [1] start processing\n",
            "INFO:cmdstanpy:Chain [1] start processing\n",
            "03:24:35 - cmdstanpy - INFO - Chain [1] done processing\n",
            "INFO:cmdstanpy:Chain [1] done processing\n"
          ]
        }
      ]
    },
    {
      "cell_type": "code",
      "source": [
        "# changepoint_prior_scale에 값을 주었을 때 변경 구간 탐색\n",
        "\n",
        "# fig = m.plot(prophet_pred)\n",
        "# a = add_changepoints_to_plot(fig.gca(), m, prophet_pred)"
      ],
      "metadata": {
        "id": "Qvz65eVVGehE"
      },
      "execution_count": null,
      "outputs": []
    },
    {
      "cell_type": "code",
      "source": [
        "prophet_pred = pd.DataFrame({\"Date\" : prophet_pred[-len(test_data_pr):]['ds'], \"Pred\" : prophet_pred[-len(test_data_pr):][\"yhat\"]})"
      ],
      "metadata": {
        "id": "HJg6G6y5GUe6"
      },
      "execution_count": 65,
      "outputs": []
    },
    {
      "cell_type": "code",
      "source": [
        "prophet_pred = prophet_pred.set_index('Date')"
      ],
      "metadata": {
        "id": "s4sF8IFJGWBT"
      },
      "execution_count": 66,
      "outputs": []
    },
    {
      "cell_type": "code",
      "source": [
        "plt.figure(figsize=(12,6))\n",
        "plt.title('Prophete Predict')\n",
        "plt.xlabel('period')\n",
        "plt.plot(test_data_pr, label='actual')\n",
        "plt.plot(prophet_pred, label='prediction')\n",
        "plt.grid()\n",
        "plt.legend(loc='best')\n",
        "\n",
        "plt.show()"
      ],
      "metadata": {
        "colab": {
          "base_uri": "https://localhost:8080/",
          "height": 404
        },
        "id": "lzLTeEwkGggw",
        "outputId": "4e278805-b4c5-44af-b12a-dbdbd02c9802"
      },
      "execution_count": 67,
      "outputs": [
        {
          "output_type": "display_data",
          "data": {
            "text/plain": [
              "<Figure size 864x432 with 1 Axes>"
            ],
            "image/png": "[encoded data removed]"
          },
          "metadata": {
            "needs_background": "light"
          }
        }
      ]
    },
    {
      "cell_type": "code",
      "source": [
        "MAPE_Val(prophet_pred['Pred'].values, test_data_pr['y'].values)"
      ],
      "metadata": {
        "colab": {
          "base_uri": "https://localhost:8080/"
        },
        "id": "yWpjkKOKIVld",
        "outputId": "0348fec5-3417-4dbf-b9cc-ebf285f82682"
      },
      "execution_count": 68,
      "outputs": [
        {
          "output_type": "execute_result",
          "data": {
            "text/plain": [
              "0.2534098828200142"
            ]
          },
          "metadata": {},
          "execution_count": 68
        }
      ]
    }
  ]
}