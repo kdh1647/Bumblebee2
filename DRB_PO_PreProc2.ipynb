{
 "cells": [
  {
   "cell_type": "markdown",
   "id": "7ae9baee",
   "metadata": {},
   "source": [
    "### 두개의 CSV 파일 공통 키 기준 합치기\n",
    "\n",
    "일별 집계된 주문 데이터 + 월별 경제심리 지수 "
   ]
  },
  {
   "cell_type": "code",
   "execution_count": 1,
   "id": "cd73a6cc",
   "metadata": {},
   "outputs": [],
   "source": [
    "import numpy as np\n",
    "import pandas as pd\n",
    "import matplotlib.pyplot as plt\n",
    "import requests"
   ]
  },
  {
   "cell_type": "markdown",
   "id": "ea78733f",
   "metadata": {},
   "source": [
    "### 1. 일집계 Data Read"
   ]
  },
  {
   "cell_type": "code",
   "execution_count": 2,
   "id": "7086ab3a",
   "metadata": {},
   "outputs": [],
   "source": [
    "po_df = pd.read_csv('./B72_7MA_14MA.csv')    # 일집계 주문데이터"
   ]
  },
  {
   "cell_type": "code",
   "execution_count": 3,
   "id": "76fe3d3f",
   "metadata": {},
   "outputs": [
    {
     "data": {
      "text/html": [
       "<div>\n",
       "<style scoped>\n",
       "    .dataframe tbody tr th:only-of-type {\n",
       "        vertical-align: middle;\n",
       "    }\n",
       "\n",
       "    .dataframe tbody tr th {\n",
       "        vertical-align: top;\n",
       "    }\n",
       "\n",
       "    .dataframe thead th {\n",
       "        text-align: right;\n",
       "    }\n",
       "</style>\n",
       "<table border=\"1\" class=\"dataframe\">\n",
       "  <thead>\n",
       "    <tr style=\"text-align: right;\">\n",
       "      <th></th>\n",
       "      <th>OrderDate</th>\n",
       "      <th>YYYYWEEK</th>\n",
       "      <th>OrderQty</th>\n",
       "      <th>7MA</th>\n",
       "      <th>14MA</th>\n",
       "    </tr>\n",
       "  </thead>\n",
       "  <tbody>\n",
       "    <tr>\n",
       "      <th>0</th>\n",
       "      <td>2018-01-02</td>\n",
       "      <td>201801</td>\n",
       "      <td>92</td>\n",
       "      <td>NaN</td>\n",
       "      <td>NaN</td>\n",
       "    </tr>\n",
       "    <tr>\n",
       "      <th>1</th>\n",
       "      <td>2018-01-03</td>\n",
       "      <td>201801</td>\n",
       "      <td>130</td>\n",
       "      <td>NaN</td>\n",
       "      <td>NaN</td>\n",
       "    </tr>\n",
       "    <tr>\n",
       "      <th>2</th>\n",
       "      <td>2018-01-04</td>\n",
       "      <td>201801</td>\n",
       "      <td>45</td>\n",
       "      <td>NaN</td>\n",
       "      <td>NaN</td>\n",
       "    </tr>\n",
       "    <tr>\n",
       "      <th>3</th>\n",
       "      <td>2018-01-05</td>\n",
       "      <td>201801</td>\n",
       "      <td>54</td>\n",
       "      <td>NaN</td>\n",
       "      <td>NaN</td>\n",
       "    </tr>\n",
       "    <tr>\n",
       "      <th>4</th>\n",
       "      <td>2018-01-08</td>\n",
       "      <td>201802</td>\n",
       "      <td>464</td>\n",
       "      <td>NaN</td>\n",
       "      <td>NaN</td>\n",
       "    </tr>\n",
       "    <tr>\n",
       "      <th>5</th>\n",
       "      <td>2018-01-09</td>\n",
       "      <td>201802</td>\n",
       "      <td>60</td>\n",
       "      <td>NaN</td>\n",
       "      <td>NaN</td>\n",
       "    </tr>\n",
       "    <tr>\n",
       "      <th>6</th>\n",
       "      <td>2018-01-10</td>\n",
       "      <td>201802</td>\n",
       "      <td>60</td>\n",
       "      <td>129.285714</td>\n",
       "      <td>NaN</td>\n",
       "    </tr>\n",
       "    <tr>\n",
       "      <th>7</th>\n",
       "      <td>2018-01-11</td>\n",
       "      <td>201802</td>\n",
       "      <td>50</td>\n",
       "      <td>123.285714</td>\n",
       "      <td>NaN</td>\n",
       "    </tr>\n",
       "    <tr>\n",
       "      <th>8</th>\n",
       "      <td>2018-01-12</td>\n",
       "      <td>201802</td>\n",
       "      <td>2</td>\n",
       "      <td>105.000000</td>\n",
       "      <td>NaN</td>\n",
       "    </tr>\n",
       "    <tr>\n",
       "      <th>9</th>\n",
       "      <td>2018-01-15</td>\n",
       "      <td>201803</td>\n",
       "      <td>85</td>\n",
       "      <td>110.714286</td>\n",
       "      <td>NaN</td>\n",
       "    </tr>\n",
       "  </tbody>\n",
       "</table>\n",
       "</div>"
      ],
      "text/plain": [
       "    OrderDate  YYYYWEEK  OrderQty         7MA  14MA\n",
       "0  2018-01-02    201801        92         NaN   NaN\n",
       "1  2018-01-03    201801       130         NaN   NaN\n",
       "2  2018-01-04    201801        45         NaN   NaN\n",
       "3  2018-01-05    201801        54         NaN   NaN\n",
       "4  2018-01-08    201802       464         NaN   NaN\n",
       "5  2018-01-09    201802        60         NaN   NaN\n",
       "6  2018-01-10    201802        60  129.285714   NaN\n",
       "7  2018-01-11    201802        50  123.285714   NaN\n",
       "8  2018-01-12    201802         2  105.000000   NaN\n",
       "9  2018-01-15    201803        85  110.714286   NaN"
      ]
     },
     "execution_count": 3,
     "metadata": {},
     "output_type": "execute_result"
    }
   ],
   "source": [
    "po_df.head(10)"
   ]
  },
  {
   "cell_type": "markdown",
   "id": "eff54113",
   "metadata": {},
   "source": [
    "### 2. OrderDate를 잘라 YYYYMM 형태 변경하여 신규 컬럼 생성"
   ]
  },
  {
   "cell_type": "code",
   "execution_count": 4,
   "id": "d76fc088",
   "metadata": {},
   "outputs": [],
   "source": [
    "po_df['YYYYMM'] = po_df['OrderDate'].str.slice(0, 4) + po_df['OrderDate'].str.slice(5, 7)"
   ]
  },
  {
   "cell_type": "code",
   "execution_count": 5,
   "id": "ca7b3193",
   "metadata": {},
   "outputs": [
    {
     "name": "stdout",
     "output_type": "stream",
     "text": [
      "<class 'pandas.core.frame.DataFrame'>\n",
      "RangeIndex: 1250 entries, 0 to 1249\n",
      "Data columns (total 6 columns):\n",
      " #   Column     Non-Null Count  Dtype  \n",
      "---  ------     --------------  -----  \n",
      " 0   OrderDate  1250 non-null   object \n",
      " 1   YYYYWEEK   1250 non-null   int64  \n",
      " 2   OrderQty   1250 non-null   int64  \n",
      " 3   7MA        1244 non-null   float64\n",
      " 4   14MA       1237 non-null   float64\n",
      " 5   YYYYMM     1250 non-null   object \n",
      "dtypes: float64(2), int64(2), object(2)\n",
      "memory usage: 58.7+ KB\n"
     ]
    }
   ],
   "source": [
    "po_df.info()\n",
    "#OrderDate 의 자료형은 object 타입으로 주단위 계산을 위해 날자 타입으로 변경"
   ]
  },
  {
   "cell_type": "markdown",
   "id": "795b1aa8",
   "metadata": {},
   "source": [
    "### 3. 경제심리지수 Data Read"
   ]
  },
  {
   "cell_type": "code",
   "execution_count": 6,
   "id": "1af8ed5e",
   "metadata": {},
   "outputs": [],
   "source": [
    "ps_df = pd.read_csv('./513Y001.csv', encoding='CP949')   #월별 경제심리 지수"
   ]
  },
  {
   "cell_type": "code",
   "execution_count": 8,
   "id": "6712a0d5",
   "metadata": {},
   "outputs": [
    {
     "data": {
      "text/html": [
       "<div>\n",
       "<style scoped>\n",
       "    .dataframe tbody tr th:only-of-type {\n",
       "        vertical-align: middle;\n",
       "    }\n",
       "\n",
       "    .dataframe tbody tr th {\n",
       "        vertical-align: top;\n",
       "    }\n",
       "\n",
       "    .dataframe thead th {\n",
       "        text-align: right;\n",
       "    }\n",
       "</style>\n",
       "<table border=\"1\" class=\"dataframe\">\n",
       "  <thead>\n",
       "    <tr style=\"text-align: right;\">\n",
       "      <th></th>\n",
       "      <th>Unnamed: 0</th>\n",
       "      <th>STAT_CODE</th>\n",
       "      <th>STAT_NAME</th>\n",
       "      <th>ITEM_CODE1</th>\n",
       "      <th>ITEM_NAME1</th>\n",
       "      <th>ITEM_CODE2</th>\n",
       "      <th>ITEM_NAME2</th>\n",
       "      <th>ITEM_CODE3</th>\n",
       "      <th>ITEM_NAME3</th>\n",
       "      <th>ITEM_CODE4</th>\n",
       "      <th>ITEM_NAME4</th>\n",
       "      <th>UNIT_NAME</th>\n",
       "      <th>TIME</th>\n",
       "      <th>DATA_VALUE</th>\n",
       "    </tr>\n",
       "  </thead>\n",
       "  <tbody>\n",
       "    <tr>\n",
       "      <th>0</th>\n",
       "      <td>0</td>\n",
       "      <td>513Y001</td>\n",
       "      <td>6.3. 경제심리지수</td>\n",
       "      <td>E1000</td>\n",
       "      <td>경제심리지수(원계열)</td>\n",
       "      <td>NaN</td>\n",
       "      <td>NaN</td>\n",
       "      <td>NaN</td>\n",
       "      <td>NaN</td>\n",
       "      <td>NaN</td>\n",
       "      <td>NaN</td>\n",
       "      <td>NaN</td>\n",
       "      <td>201701</td>\n",
       "      <td>95.9</td>\n",
       "    </tr>\n",
       "    <tr>\n",
       "      <th>1</th>\n",
       "      <td>1</td>\n",
       "      <td>513Y001</td>\n",
       "      <td>6.3. 경제심리지수</td>\n",
       "      <td>E1000</td>\n",
       "      <td>경제심리지수(원계열)</td>\n",
       "      <td>NaN</td>\n",
       "      <td>NaN</td>\n",
       "      <td>NaN</td>\n",
       "      <td>NaN</td>\n",
       "      <td>NaN</td>\n",
       "      <td>NaN</td>\n",
       "      <td>NaN</td>\n",
       "      <td>201702</td>\n",
       "      <td>97.7</td>\n",
       "    </tr>\n",
       "    <tr>\n",
       "      <th>2</th>\n",
       "      <td>2</td>\n",
       "      <td>513Y001</td>\n",
       "      <td>6.3. 경제심리지수</td>\n",
       "      <td>E1000</td>\n",
       "      <td>경제심리지수(원계열)</td>\n",
       "      <td>NaN</td>\n",
       "      <td>NaN</td>\n",
       "      <td>NaN</td>\n",
       "      <td>NaN</td>\n",
       "      <td>NaN</td>\n",
       "      <td>NaN</td>\n",
       "      <td>NaN</td>\n",
       "      <td>201703</td>\n",
       "      <td>100.0</td>\n",
       "    </tr>\n",
       "    <tr>\n",
       "      <th>3</th>\n",
       "      <td>3</td>\n",
       "      <td>513Y001</td>\n",
       "      <td>6.3. 경제심리지수</td>\n",
       "      <td>E1000</td>\n",
       "      <td>경제심리지수(원계열)</td>\n",
       "      <td>NaN</td>\n",
       "      <td>NaN</td>\n",
       "      <td>NaN</td>\n",
       "      <td>NaN</td>\n",
       "      <td>NaN</td>\n",
       "      <td>NaN</td>\n",
       "      <td>NaN</td>\n",
       "      <td>201704</td>\n",
       "      <td>99.6</td>\n",
       "    </tr>\n",
       "    <tr>\n",
       "      <th>4</th>\n",
       "      <td>4</td>\n",
       "      <td>513Y001</td>\n",
       "      <td>6.3. 경제심리지수</td>\n",
       "      <td>E1000</td>\n",
       "      <td>경제심리지수(원계열)</td>\n",
       "      <td>NaN</td>\n",
       "      <td>NaN</td>\n",
       "      <td>NaN</td>\n",
       "      <td>NaN</td>\n",
       "      <td>NaN</td>\n",
       "      <td>NaN</td>\n",
       "      <td>NaN</td>\n",
       "      <td>201705</td>\n",
       "      <td>100.7</td>\n",
       "    </tr>\n",
       "  </tbody>\n",
       "</table>\n",
       "</div>"
      ],
      "text/plain": [
       "   Unnamed: 0 STAT_CODE    STAT_NAME ITEM_CODE1   ITEM_NAME1  ITEM_CODE2  \\\n",
       "0           0   513Y001  6.3. 경제심리지수      E1000  경제심리지수(원계열)         NaN   \n",
       "1           1   513Y001  6.3. 경제심리지수      E1000  경제심리지수(원계열)         NaN   \n",
       "2           2   513Y001  6.3. 경제심리지수      E1000  경제심리지수(원계열)         NaN   \n",
       "3           3   513Y001  6.3. 경제심리지수      E1000  경제심리지수(원계열)         NaN   \n",
       "4           4   513Y001  6.3. 경제심리지수      E1000  경제심리지수(원계열)         NaN   \n",
       "\n",
       "   ITEM_NAME2  ITEM_CODE3  ITEM_NAME3  ITEM_CODE4  ITEM_NAME4  UNIT_NAME  \\\n",
       "0         NaN         NaN         NaN         NaN         NaN        NaN   \n",
       "1         NaN         NaN         NaN         NaN         NaN        NaN   \n",
       "2         NaN         NaN         NaN         NaN         NaN        NaN   \n",
       "3         NaN         NaN         NaN         NaN         NaN        NaN   \n",
       "4         NaN         NaN         NaN         NaN         NaN        NaN   \n",
       "\n",
       "     TIME  DATA_VALUE  \n",
       "0  201701        95.9  \n",
       "1  201702        97.7  \n",
       "2  201703       100.0  \n",
       "3  201704        99.6  \n",
       "4  201705       100.7  "
      ]
     },
     "execution_count": 8,
     "metadata": {},
     "output_type": "execute_result"
    }
   ],
   "source": [
    "ps_df.head(5)"
   ]
  },
  {
   "cell_type": "code",
   "execution_count": 9,
   "id": "561965d5",
   "metadata": {},
   "outputs": [],
   "source": [
    "##필요 컬럼 추출 \n",
    "ps_df = ps_df[['TIME', 'DATA_VALUE']]"
   ]
  },
  {
   "cell_type": "markdown",
   "id": "51b5ca26",
   "metadata": {},
   "source": [
    "### 4. po_df.['YYYYMM']과 ps_df.['TIME'] 의 자료형을 int타입으로 통일"
   ]
  },
  {
   "cell_type": "code",
   "execution_count": 10,
   "id": "53fa4cce",
   "metadata": {},
   "outputs": [],
   "source": [
    "ps_df['TIME'] = ps_df['TIME'].astype(str)   #오더번호는 string"
   ]
  },
  {
   "cell_type": "code",
   "execution_count": 12,
   "id": "1d8665e2",
   "metadata": {},
   "outputs": [
    {
     "name": "stdout",
     "output_type": "stream",
     "text": [
      "<class 'pandas.core.frame.DataFrame'>\n",
      "RangeIndex: 69 entries, 0 to 68\n",
      "Data columns (total 2 columns):\n",
      " #   Column      Non-Null Count  Dtype  \n",
      "---  ------      --------------  -----  \n",
      " 0   TIME        69 non-null     object \n",
      " 1   DATA_VALUE  69 non-null     float64\n",
      "dtypes: float64(1), object(1)\n",
      "memory usage: 1.2+ KB\n"
     ]
    }
   ],
   "source": [
    "ps_df.info()"
   ]
  },
  {
   "cell_type": "markdown",
   "id": "6576b6a3",
   "metadata": {},
   "source": [
    "### 5. po_df 기준으로 left outer join, \n",
    "\n",
    "#### 주문테이블에 존재하는 데이터는 전부 표기 \n",
    "\n",
    "#### 단 해당값은 Uniq 해야 조인이 가능"
   ]
  },
  {
   "cell_type": "code",
   "execution_count": 14,
   "id": "dfa10714",
   "metadata": {},
   "outputs": [],
   "source": [
    "#http://www.gisdeveloper.co.kr/?p=8255\n",
    "pops_df = pd.merge(po_df, ps_df, left_on='YYYYMM', right_on='TIME', how='left')"
   ]
  },
  {
   "cell_type": "code",
   "execution_count": 17,
   "id": "9644d119",
   "metadata": {},
   "outputs": [
    {
     "data": {
      "text/html": [
       "<div>\n",
       "<style scoped>\n",
       "    .dataframe tbody tr th:only-of-type {\n",
       "        vertical-align: middle;\n",
       "    }\n",
       "\n",
       "    .dataframe tbody tr th {\n",
       "        vertical-align: top;\n",
       "    }\n",
       "\n",
       "    .dataframe thead th {\n",
       "        text-align: right;\n",
       "    }\n",
       "</style>\n",
       "<table border=\"1\" class=\"dataframe\">\n",
       "  <thead>\n",
       "    <tr style=\"text-align: right;\">\n",
       "      <th></th>\n",
       "      <th>OrderDate</th>\n",
       "      <th>YYYYWEEK</th>\n",
       "      <th>OrderQty</th>\n",
       "      <th>7MA</th>\n",
       "      <th>14MA</th>\n",
       "      <th>YYYYMM</th>\n",
       "      <th>TIME</th>\n",
       "      <th>DATA_VALUE</th>\n",
       "    </tr>\n",
       "  </thead>\n",
       "  <tbody>\n",
       "    <tr>\n",
       "      <th>0</th>\n",
       "      <td>2018-01-02</td>\n",
       "      <td>201801</td>\n",
       "      <td>92</td>\n",
       "      <td>NaN</td>\n",
       "      <td>NaN</td>\n",
       "      <td>201801</td>\n",
       "      <td>201801</td>\n",
       "      <td>99.4</td>\n",
       "    </tr>\n",
       "    <tr>\n",
       "      <th>1</th>\n",
       "      <td>2018-01-03</td>\n",
       "      <td>201801</td>\n",
       "      <td>130</td>\n",
       "      <td>NaN</td>\n",
       "      <td>NaN</td>\n",
       "      <td>201801</td>\n",
       "      <td>201801</td>\n",
       "      <td>99.4</td>\n",
       "    </tr>\n",
       "    <tr>\n",
       "      <th>2</th>\n",
       "      <td>2018-01-04</td>\n",
       "      <td>201801</td>\n",
       "      <td>45</td>\n",
       "      <td>NaN</td>\n",
       "      <td>NaN</td>\n",
       "      <td>201801</td>\n",
       "      <td>201801</td>\n",
       "      <td>99.4</td>\n",
       "    </tr>\n",
       "    <tr>\n",
       "      <th>3</th>\n",
       "      <td>2018-01-05</td>\n",
       "      <td>201801</td>\n",
       "      <td>54</td>\n",
       "      <td>NaN</td>\n",
       "      <td>NaN</td>\n",
       "      <td>201801</td>\n",
       "      <td>201801</td>\n",
       "      <td>99.4</td>\n",
       "    </tr>\n",
       "    <tr>\n",
       "      <th>4</th>\n",
       "      <td>2018-01-08</td>\n",
       "      <td>201802</td>\n",
       "      <td>464</td>\n",
       "      <td>NaN</td>\n",
       "      <td>NaN</td>\n",
       "      <td>201801</td>\n",
       "      <td>201801</td>\n",
       "      <td>99.4</td>\n",
       "    </tr>\n",
       "  </tbody>\n",
       "</table>\n",
       "</div>"
      ],
      "text/plain": [
       "    OrderDate  YYYYWEEK  OrderQty  7MA  14MA  YYYYMM    TIME  DATA_VALUE\n",
       "0  2018-01-02    201801        92  NaN   NaN  201801  201801        99.4\n",
       "1  2018-01-03    201801       130  NaN   NaN  201801  201801        99.4\n",
       "2  2018-01-04    201801        45  NaN   NaN  201801  201801        99.4\n",
       "3  2018-01-05    201801        54  NaN   NaN  201801  201801        99.4\n",
       "4  2018-01-08    201802       464  NaN   NaN  201801  201801        99.4"
      ]
     },
     "execution_count": 17,
     "metadata": {},
     "output_type": "execute_result"
    }
   ],
   "source": [
    "pops_df.head(5)"
   ]
  }
 ],
 "metadata": {
  "kernelspec": {
   "display_name": "Python 3 (ipykernel)",
   "language": "python",
   "name": "python3"
  },
  "language_info": {
   "codemirror_mode": {
    "name": "ipython",
    "version": 3
   },
   "file_extension": ".py",
   "mimetype": "text/x-python",
   "name": "python",
   "nbconvert_exporter": "python",
   "pygments_lexer": "ipython3",
   "version": "3.9.12"
  }
 },
 "nbformat": 4,
 "nbformat_minor": 5
}
