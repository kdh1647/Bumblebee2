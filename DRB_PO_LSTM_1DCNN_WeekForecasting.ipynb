{
  "cells": [
    {
      "cell_type": "markdown",
      "metadata": {
        "id": "view-in-github",
        "colab_type": "text"
      },
      "source": [
        "<a href=\"https://colab.research.google.com/github/kdh1647/Bumblebee2/blob/master/DRB_PO_LSTM_1DCNN_WeekForecasting.ipynb\" target=\"_parent\"><img src=\"https://colab.research.google.com/assets/colab-badge.svg\" alt=\"Open In Colab\"/></a>"
      ]
    },
    {
      "cell_type": "code",
      "execution_count": 1,
      "id": "aba48930",
      "metadata": {
        "id": "aba48930"
      },
      "outputs": [],
      "source": [
        "import tensorflow as tf\n",
        "import numpy as np\n",
        "import pandas as pd\n",
        "import matplotlib.pyplot as plt\n",
        "from keras.models import Sequential\n",
        "from keras.layers import LSTM, Dense, Dropout, Lambda, Embedding\n",
        "from keras.losses import Huber\n",
        "\n",
        "import datetime"
      ]
    },
    {
      "cell_type": "code",
      "execution_count": null,
      "id": "7434651a",
      "metadata": {
        "id": "7434651a",
        "outputId": "b88aa333-28bd-4ec1-f0e8-5bd8419f037d"
      },
      "outputs": [
        {
          "data": {
            "text/plain": [
              "[PhysicalDevice(name='/physical_device:GPU:0', device_type='GPU')]"
            ]
          },
          "execution_count": 2,
          "metadata": {},
          "output_type": "execute_result"
        }
      ],
      "source": [
        "tf.config.list_physical_devices('GPU')"
      ]
    },
    {
      "cell_type": "markdown",
      "id": "fa537655",
      "metadata": {
        "id": "fa537655"
      },
      "source": [
        "### Data Read"
      ]
    },
    {
      "cell_type": "code",
      "execution_count": 4,
      "id": "a2ed1c9f",
      "metadata": {
        "id": "a2ed1c9f"
      },
      "outputs": [],
      "source": [
        "raw_df = pd.read_csv('https://raw.githubusercontent.com/kdh1647/Bumblebee2/master/B72W2_3MA_5MA_PS.csv')"
      ]
    },
    {
      "cell_type": "code",
      "execution_count": 5,
      "id": "eca212b1",
      "metadata": {
        "colab": {
          "base_uri": "https://localhost:8080/"
        },
        "id": "eca212b1",
        "outputId": "3a74ca49-664e-4a1c-f3c2-09df376cb920"
      },
      "outputs": [
        {
          "output_type": "execute_result",
          "data": {
            "text/plain": [
              "<bound method NDFrame.head of       OrderDate  YYYYWEEK  OrderQty     3MA    5MA     PS\n",
              "0    2013-01-07    201302       262  243.01  227.0  472.5\n",
              "1    2013-01-14    201303       411  426.67  411.2  567.0\n",
              "2    2013-01-21    201304       373  349.66  360.4  472.5\n",
              "3    2013-01-28    201305       272  306.00  338.2  570.6\n",
              "4    2013-02-04    201306       525  484.33  354.4  385.2\n",
              "..          ...       ...       ...     ...    ...    ...\n",
              "504  2022-08-29    202235       257  429.66  597.2  394.6\n",
              "505  2022-09-05    202236       223  298.67  295.6  392.0\n",
              "506  2022-09-13    202237       415  360.01  317.6  490.0\n",
              "507  2022-09-19    202238       656  610.67  573.4  490.0\n",
              "508  2022-09-26    202239       248  343.33  439.6  490.0\n",
              "\n",
              "[509 rows x 6 columns]>"
            ]
          },
          "metadata": {},
          "execution_count": 5
        }
      ],
      "source": [
        "raw_df.head"
      ]
    },
    {
      "cell_type": "code",
      "execution_count": 6,
      "id": "c3a596f6",
      "metadata": {
        "colab": {
          "base_uri": "https://localhost:8080/"
        },
        "id": "c3a596f6",
        "outputId": "c9764373-82c7-43b5-942e-687cb50c0f20"
      },
      "outputs": [
        {
          "output_type": "stream",
          "name": "stdout",
          "text": [
            "<class 'pandas.core.frame.DataFrame'>\n",
            "RangeIndex: 509 entries, 0 to 508\n",
            "Data columns (total 6 columns):\n",
            " #   Column     Non-Null Count  Dtype  \n",
            "---  ------     --------------  -----  \n",
            " 0   OrderDate  509 non-null    object \n",
            " 1   YYYYWEEK   509 non-null    int64  \n",
            " 2   OrderQty   509 non-null    int64  \n",
            " 3   3MA        509 non-null    float64\n",
            " 4   5MA        509 non-null    float64\n",
            " 5   PS         509 non-null    float64\n",
            "dtypes: float64(3), int64(2), object(1)\n",
            "memory usage: 24.0+ KB\n"
          ]
        }
      ],
      "source": [
        "raw_df.info()"
      ]
    },
    {
      "cell_type": "code",
      "execution_count": 7,
      "id": "a4fa662d",
      "metadata": {
        "id": "a4fa662d"
      },
      "outputs": [],
      "source": [
        "#모델평가 Mean Absolut Percentage Error\n",
        "def MAPE_Val(y_pred, y_true):    \n",
        "    return np.mean(np.abs((y_true - y_pred) / y_true)) "
      ]
    },
    {
      "cell_type": "code",
      "execution_count": 8,
      "id": "175777d0",
      "metadata": {
        "id": "175777d0"
      },
      "outputs": [],
      "source": [
        "raw_df.OrderDate = pd.to_datetime(raw_df['OrderDate'], format='%Y-%m-%d')"
      ]
    },
    {
      "cell_type": "code",
      "execution_count": 9,
      "id": "8596fc5d",
      "metadata": {
        "colab": {
          "base_uri": "https://localhost:8080/",
          "height": 336
        },
        "id": "8596fc5d",
        "outputId": "1bcf710f-42e9-4621-b022-36ee033c8e19"
      },
      "outputs": [
        {
          "output_type": "display_data",
          "data": {
            "text/plain": [
              "<Figure size 1080x360 with 1 Axes>"
            ],
            "image/png": "[encoded data removed]"
          },
          "metadata": {
            "needs_background": "light"
          }
        }
      ],
      "source": [
        "plt.figure(figsize=(15, 5)) \n",
        "plt.title('DRB PO')\n",
        "plt.grid()\n",
        "\n",
        "plt.plot(raw_df['OrderDate'], raw_df['OrderQty'])\n",
        "plt.show()"
      ]
    },
    {
      "cell_type": "markdown",
      "id": "52a42977",
      "metadata": {
        "id": "52a42977"
      },
      "source": [
        "### Data Preprocessing"
      ]
    },
    {
      "cell_type": "code",
      "execution_count": 10,
      "id": "de89955c",
      "metadata": {
        "colab": {
          "base_uri": "https://localhost:8080/",
          "height": 300
        },
        "id": "de89955c",
        "outputId": "5ad8f857-fd64-44ed-ba26-985b0af4e0b3"
      },
      "outputs": [
        {
          "output_type": "execute_result",
          "data": {
            "text/plain": [
              "            YYYYWEEK     OrderQty          3MA          5MA          PS\n",
              "count     509.000000   509.000000   509.000000   509.000000  509.000000\n",
              "mean   201765.424361   600.524558   600.485187   600.505305  496.766601\n",
              "std       281.851794   362.254035   357.365509   332.379252   97.821199\n",
              "min    201301.000000    20.000000    34.000000    60.000000   77.500000\n",
              "25%    201524.000000   377.000000   378.000000   386.600000  467.500000\n",
              "50%    201747.000000   513.000000   510.340000   530.200000  498.000000\n",
              "75%    202018.000000   690.000000   698.340000   700.400000  575.400000\n",
              "max    202239.000000  2544.000000  2628.670000  2445.000000  714.500000"
            ],
            "text/html": [
              "\n",
              "  <div id=\"df-86301bfd-6095-48c1-b865-4eecd8e95784\">\n",
              "    <div class=\"colab-df-container\">\n",
              "      <div>\n",
              "<style scoped>\n",
              "    .dataframe tbody tr th:only-of-type {\n",
              "        vertical-align: middle;\n",
              "    }\n",
              "\n",
              "    .dataframe tbody tr th {\n",
              "        vertical-align: top;\n",
              "    }\n",
              "\n",
              "    .dataframe thead th {\n",
              "        text-align: right;\n",
              "    }\n",
              "</style>\n",
              "<table border=\"1\" class=\"dataframe\">\n",
              "  <thead>\n",
              "    <tr style=\"text-align: right;\">\n",
              "      <th></th>\n",
              "      <th>YYYYWEEK</th>\n",
              "      <th>OrderQty</th>\n",
              "      <th>3MA</th>\n",
              "      <th>5MA</th>\n",
              "      <th>PS</th>\n",
              "    </tr>\n",
              "  </thead>\n",
              "  <tbody>\n",
              "    <tr>\n",
              "      <th>count</th>\n",
              "      <td>509.000000</td>\n",
              "      <td>509.000000</td>\n",
              "      <td>509.000000</td>\n",
              "      <td>509.000000</td>\n",
              "      <td>509.000000</td>\n",
              "    </tr>\n",
              "    <tr>\n",
              "      <th>mean</th>\n",
              "      <td>201765.424361</td>\n",
              "      <td>600.524558</td>\n",
              "      <td>600.485187</td>\n",
              "      <td>600.505305</td>\n",
              "      <td>496.766601</td>\n",
              "    </tr>\n",
              "    <tr>\n",
              "      <th>std</th>\n",
              "      <td>281.851794</td>\n",
              "      <td>362.254035</td>\n",
              "      <td>357.365509</td>\n",
              "      <td>332.379252</td>\n",
              "      <td>97.821199</td>\n",
              "    </tr>\n",
              "    <tr>\n",
              "      <th>min</th>\n",
              "      <td>201301.000000</td>\n",
              "      <td>20.000000</td>\n",
              "      <td>34.000000</td>\n",
              "      <td>60.000000</td>\n",
              "      <td>77.500000</td>\n",
              "    </tr>\n",
              "    <tr>\n",
              "      <th>25%</th>\n",
              "      <td>201524.000000</td>\n",
              "      <td>377.000000</td>\n",
              "      <td>378.000000</td>\n",
              "      <td>386.600000</td>\n",
              "      <td>467.500000</td>\n",
              "    </tr>\n",
              "    <tr>\n",
              "      <th>50%</th>\n",
              "      <td>201747.000000</td>\n",
              "      <td>513.000000</td>\n",
              "      <td>510.340000</td>\n",
              "      <td>530.200000</td>\n",
              "      <td>498.000000</td>\n",
              "    </tr>\n",
              "    <tr>\n",
              "      <th>75%</th>\n",
              "      <td>202018.000000</td>\n",
              "      <td>690.000000</td>\n",
              "      <td>698.340000</td>\n",
              "      <td>700.400000</td>\n",
              "      <td>575.400000</td>\n",
              "    </tr>\n",
              "    <tr>\n",
              "      <th>max</th>\n",
              "      <td>202239.000000</td>\n",
              "      <td>2544.000000</td>\n",
              "      <td>2628.670000</td>\n",
              "      <td>2445.000000</td>\n",
              "      <td>714.500000</td>\n",
              "    </tr>\n",
              "  </tbody>\n",
              "</table>\n",
              "</div>\n",
              "      <button class=\"colab-df-convert\" onclick=\"convertToInteractive('df-86301bfd-6095-48c1-b865-4eecd8e95784')\"\n",
              "              title=\"Convert this dataframe to an interactive table.\"\n",
              "              style=\"display:none;\">\n",
              "        \n",
              "  <svg xmlns=\"http://www.w3.org/2000/svg\" height=\"24px\"viewBox=\"0 0 24 24\"\n",
              "       width=\"24px\">\n",
              "    <path d=\"M0 0h24v24H0V0z\" fill=\"none\"/>\n",
              "    <path d=\"M18.56 5.44l.94 2.06.94-2.06 2.06-.94-2.06-.94-.94-2.06-.94 2.06-2.06.94zm-11 1L8.5 8.5l.94-2.06 2.06-.94-2.06-.94L8.5 2.5l-.94 2.06-2.06.94zm10 10l.94 2.06.94-2.06 2.06-.94-2.06-.94-.94-2.06-.94 2.06-2.06.94z\"/><path d=\"M17.41 7.96l-1.37-1.37c-.4-.4-.92-.59-1.43-.59-.52 0-1.04.2-1.43.59L10.3 9.45l-7.72 7.72c-.78.78-.78 2.05 0 2.83L4 21.41c.39.39.9.59 1.41.59.51 0 1.02-.2 1.41-.59l7.78-7.78 2.81-2.81c.8-.78.8-2.07 0-2.86zM5.41 20L4 18.59l7.72-7.72 1.47 1.35L5.41 20z\"/>\n",
              "  </svg>\n",
              "      </button>\n",
              "      \n",
              "  <style>\n",
              "    .colab-df-container {\n",
              "      display:flex;\n",
              "      flex-wrap:wrap;\n",
              "      gap: 12px;\n",
              "    }\n",
              "\n",
              "    .colab-df-convert {\n",
              "      background-color: #E8F0FE;\n",
              "      border: none;\n",
              "      border-radius: 50%;\n",
              "      cursor: pointer;\n",
              "      display: none;\n",
              "      fill: #1967D2;\n",
              "      height: 32px;\n",
              "      padding: 0 0 0 0;\n",
              "      width: 32px;\n",
              "    }\n",
              "\n",
              "    .colab-df-convert:hover {\n",
              "      background-color: #E2EBFA;\n",
              "      box-shadow: 0px 1px 2px rgba(60, 64, 67, 0.3), 0px 1px 3px 1px rgba(60, 64, 67, 0.15);\n",
              "      fill: #174EA6;\n",
              "    }\n",
              "\n",
              "    [theme=dark] .colab-df-convert {\n",
              "      background-color: #3B4455;\n",
              "      fill: #D2E3FC;\n",
              "    }\n",
              "\n",
              "    [theme=dark] .colab-df-convert:hover {\n",
              "      background-color: #434B5C;\n",
              "      box-shadow: 0px 1px 3px 1px rgba(0, 0, 0, 0.15);\n",
              "      filter: drop-shadow(0px 1px 2px rgba(0, 0, 0, 0.3));\n",
              "      fill: #FFFFFF;\n",
              "    }\n",
              "  </style>\n",
              "\n",
              "      <script>\n",
              "        const buttonEl =\n",
              "          document.querySelector('#df-86301bfd-6095-48c1-b865-4eecd8e95784 button.colab-df-convert');\n",
              "        buttonEl.style.display =\n",
              "          google.colab.kernel.accessAllowed ? 'block' : 'none';\n",
              "\n",
              "        async function convertToInteractive(key) {\n",
              "          const element = document.querySelector('#df-86301bfd-6095-48c1-b865-4eecd8e95784');\n",
              "          const dataTable =\n",
              "            await google.colab.kernel.invokeFunction('convertToInteractive',\n",
              "                                                     [key], {});\n",
              "          if (!dataTable) return;\n",
              "\n",
              "          const docLinkHtml = 'Like what you see? Visit the ' +\n",
              "            '<a target=\"_blank\" href=https://colab.research.google.com/notebooks/data_table.ipynb>data table notebook</a>'\n",
              "            + ' to learn more about interactive tables.';\n",
              "          element.innerHTML = '';\n",
              "          dataTable['output_type'] = 'display_data';\n",
              "          await google.colab.output.renderOutput(dataTable, element);\n",
              "          const docLink = document.createElement('div');\n",
              "          docLink.innerHTML = docLinkHtml;\n",
              "          element.appendChild(docLink);\n",
              "        }\n",
              "      </script>\n",
              "    </div>\n",
              "  </div>\n",
              "  "
            ]
          },
          "metadata": {},
          "execution_count": 10
        }
      ],
      "source": [
        "raw_df.describe()"
      ]
    },
    {
      "cell_type": "markdown",
      "id": "f3bd3e23",
      "metadata": {
        "id": "f3bd3e23"
      },
      "source": [
        "### 결측치 제거"
      ]
    },
    {
      "cell_type": "code",
      "execution_count": 12,
      "id": "ed09d31a",
      "metadata": {
        "colab": {
          "base_uri": "https://localhost:8080/"
        },
        "id": "ed09d31a",
        "outputId": "455e53b2-2b77-4a77-da7b-0f857e5a637d"
      },
      "outputs": [
        {
          "output_type": "execute_result",
          "data": {
            "text/plain": [
              "OrderDate    0\n",
              "YYYYWEEK     0\n",
              "OrderQty     0\n",
              "3MA          0\n",
              "5MA          0\n",
              "PS           0\n",
              "dtype: int64"
            ]
          },
          "metadata": {},
          "execution_count": 12
        }
      ],
      "source": [
        "raw_df.isnull().sum()"
      ]
    },
    {
      "cell_type": "code",
      "execution_count": 13,
      "id": "b180d5a2",
      "metadata": {
        "colab": {
          "base_uri": "https://localhost:8080/"
        },
        "id": "b180d5a2",
        "outputId": "d7f44295-65a5-4e69-baf1-472932c72cfd"
      },
      "outputs": [
        {
          "output_type": "stream",
          "name": "stdout",
          "text": [
            "OrderDate:0\n",
            "YYYYWEEK:0\n",
            "OrderQty:0\n",
            "3MA:0\n",
            "5MA:0\n",
            "PS:0\n"
          ]
        }
      ],
      "source": [
        "#컬럼에 0의 개수 확인\n",
        "for col in raw_df.columns:\n",
        "    missing_rows = raw_df.loc[raw_df[col]==0].shape[0]\n",
        "    print(col + ':' + str(missing_rows))"
      ]
    },
    {
      "cell_type": "code",
      "execution_count": 14,
      "id": "01c33457",
      "metadata": {
        "colab": {
          "base_uri": "https://localhost:8080/",
          "height": 49
        },
        "id": "01c33457",
        "outputId": "838300dd-b20a-4bc0-8088-ad45223ee186"
      },
      "outputs": [
        {
          "output_type": "execute_result",
          "data": {
            "text/plain": [
              "Empty DataFrame\n",
              "Columns: [OrderDate, YYYYWEEK, OrderQty, 3MA, 5MA, PS]\n",
              "Index: []"
            ],
            "text/html": [
              "\n",
              "  <div id=\"df-c6c1f6a9-f190-465e-b1e3-e8be72ef3cc9\">\n",
              "    <div class=\"colab-df-container\">\n",
              "      <div>\n",
              "<style scoped>\n",
              "    .dataframe tbody tr th:only-of-type {\n",
              "        vertical-align: middle;\n",
              "    }\n",
              "\n",
              "    .dataframe tbody tr th {\n",
              "        vertical-align: top;\n",
              "    }\n",
              "\n",
              "    .dataframe thead th {\n",
              "        text-align: right;\n",
              "    }\n",
              "</style>\n",
              "<table border=\"1\" class=\"dataframe\">\n",
              "  <thead>\n",
              "    <tr style=\"text-align: right;\">\n",
              "      <th></th>\n",
              "      <th>OrderDate</th>\n",
              "      <th>YYYYWEEK</th>\n",
              "      <th>OrderQty</th>\n",
              "      <th>3MA</th>\n",
              "      <th>5MA</th>\n",
              "      <th>PS</th>\n",
              "    </tr>\n",
              "  </thead>\n",
              "  <tbody>\n",
              "  </tbody>\n",
              "</table>\n",
              "</div>\n",
              "      <button class=\"colab-df-convert\" onclick=\"convertToInteractive('df-c6c1f6a9-f190-465e-b1e3-e8be72ef3cc9')\"\n",
              "              title=\"Convert this dataframe to an interactive table.\"\n",
              "              style=\"display:none;\">\n",
              "        \n",
              "  <svg xmlns=\"http://www.w3.org/2000/svg\" height=\"24px\"viewBox=\"0 0 24 24\"\n",
              "       width=\"24px\">\n",
              "    <path d=\"M0 0h24v24H0V0z\" fill=\"none\"/>\n",
              "    <path d=\"M18.56 5.44l.94 2.06.94-2.06 2.06-.94-2.06-.94-.94-2.06-.94 2.06-2.06.94zm-11 1L8.5 8.5l.94-2.06 2.06-.94-2.06-.94L8.5 2.5l-.94 2.06-2.06.94zm10 10l.94 2.06.94-2.06 2.06-.94-2.06-.94-.94-2.06-.94 2.06-2.06.94z\"/><path d=\"M17.41 7.96l-1.37-1.37c-.4-.4-.92-.59-1.43-.59-.52 0-1.04.2-1.43.59L10.3 9.45l-7.72 7.72c-.78.78-.78 2.05 0 2.83L4 21.41c.39.39.9.59 1.41.59.51 0 1.02-.2 1.41-.59l7.78-7.78 2.81-2.81c.8-.78.8-2.07 0-2.86zM5.41 20L4 18.59l7.72-7.72 1.47 1.35L5.41 20z\"/>\n",
              "  </svg>\n",
              "      </button>\n",
              "      \n",
              "  <style>\n",
              "    .colab-df-container {\n",
              "      display:flex;\n",
              "      flex-wrap:wrap;\n",
              "      gap: 12px;\n",
              "    }\n",
              "\n",
              "    .colab-df-convert {\n",
              "      background-color: #E8F0FE;\n",
              "      border: none;\n",
              "      border-radius: 50%;\n",
              "      cursor: pointer;\n",
              "      display: none;\n",
              "      fill: #1967D2;\n",
              "      height: 32px;\n",
              "      padding: 0 0 0 0;\n",
              "      width: 32px;\n",
              "    }\n",
              "\n",
              "    .colab-df-convert:hover {\n",
              "      background-color: #E2EBFA;\n",
              "      box-shadow: 0px 1px 2px rgba(60, 64, 67, 0.3), 0px 1px 3px 1px rgba(60, 64, 67, 0.15);\n",
              "      fill: #174EA6;\n",
              "    }\n",
              "\n",
              "    [theme=dark] .colab-df-convert {\n",
              "      background-color: #3B4455;\n",
              "      fill: #D2E3FC;\n",
              "    }\n",
              "\n",
              "    [theme=dark] .colab-df-convert:hover {\n",
              "      background-color: #434B5C;\n",
              "      box-shadow: 0px 1px 3px 1px rgba(0, 0, 0, 0.15);\n",
              "      filter: drop-shadow(0px 1px 2px rgba(0, 0, 0, 0.3));\n",
              "      fill: #FFFFFF;\n",
              "    }\n",
              "  </style>\n",
              "\n",
              "      <script>\n",
              "        const buttonEl =\n",
              "          document.querySelector('#df-c6c1f6a9-f190-465e-b1e3-e8be72ef3cc9 button.colab-df-convert');\n",
              "        buttonEl.style.display =\n",
              "          google.colab.kernel.accessAllowed ? 'block' : 'none';\n",
              "\n",
              "        async function convertToInteractive(key) {\n",
              "          const element = document.querySelector('#df-c6c1f6a9-f190-465e-b1e3-e8be72ef3cc9');\n",
              "          const dataTable =\n",
              "            await google.colab.kernel.invokeFunction('convertToInteractive',\n",
              "                                                     [key], {});\n",
              "          if (!dataTable) return;\n",
              "\n",
              "          const docLinkHtml = 'Like what you see? Visit the ' +\n",
              "            '<a target=\"_blank\" href=https://colab.research.google.com/notebooks/data_table.ipynb>data table notebook</a>'\n",
              "            + ' to learn more about interactive tables.';\n",
              "          element.innerHTML = '';\n",
              "          dataTable['output_type'] = 'display_data';\n",
              "          await google.colab.output.renderOutput(dataTable, element);\n",
              "          const docLink = document.createElement('div');\n",
              "          docLink.innerHTML = docLinkHtml;\n",
              "          element.appendChild(docLink);\n",
              "        }\n",
              "      </script>\n",
              "    </div>\n",
              "  </div>\n",
              "  "
            ]
          },
          "metadata": {},
          "execution_count": 14
        }
      ],
      "source": [
        "raw_df.loc[raw_df['5MA'].isna()]"
      ]
    },
    {
      "cell_type": "code",
      "execution_count": 15,
      "id": "89b39ccd",
      "metadata": {
        "scrolled": true,
        "colab": {
          "base_uri": "https://localhost:8080/"
        },
        "id": "89b39ccd",
        "outputId": "d09f5f76-285d-419d-c3ff-08cabb0ec70f"
      },
      "outputs": [
        {
          "output_type": "execute_result",
          "data": {
            "text/plain": [
              "OrderDate    0\n",
              "YYYYWEEK     0\n",
              "OrderQty     0\n",
              "3MA          0\n",
              "5MA          0\n",
              "PS           0\n",
              "dtype: int64"
            ]
          },
          "metadata": {},
          "execution_count": 15
        }
      ],
      "source": [
        "#missing data 처리\n",
        "raw_df = raw_df.dropna()\n",
        "raw_df.isnull().sum()"
      ]
    },
    {
      "cell_type": "markdown",
      "id": "70f97c83",
      "metadata": {
        "id": "70f97c83"
      },
      "source": [
        "### 정규화"
      ]
    },
    {
      "cell_type": "code",
      "execution_count": 16,
      "id": "5444f66b",
      "metadata": {
        "id": "5444f66b"
      },
      "outputs": [],
      "source": [
        "from sklearn.preprocessing import MinMaxScaler"
      ]
    },
    {
      "cell_type": "code",
      "execution_count": 17,
      "id": "b5caf044",
      "metadata": {
        "id": "b5caf044"
      },
      "outputs": [],
      "source": [
        "scaler = MinMaxScaler()\n",
        "scale_col = ['OrderQty', '3MA', '5MA', 'PS']"
      ]
    },
    {
      "cell_type": "code",
      "execution_count": 18,
      "id": "4026497a",
      "metadata": {
        "colab": {
          "base_uri": "https://localhost:8080/"
        },
        "id": "4026497a",
        "outputId": "21db822d-499e-48e1-bf33-f653ff953a65"
      },
      "outputs": [
        {
          "output_type": "execute_result",
          "data": {
            "text/plain": [
              "array([[0.09587956, 0.0805536 , 0.07002096, 0.62009419],\n",
              "       [0.15491284, 0.15133716, 0.14725367, 0.76844584],\n",
              "       [0.13985737, 0.12165709, 0.12595388, 0.62009419],\n",
              "       ...,\n",
              "       [0.15649762, 0.12564604, 0.10800839, 0.64756672],\n",
              "       [0.25198098, 0.22225177, 0.21526205, 0.64756672],\n",
              "       [0.09033281, 0.11921747, 0.15916143, 0.64756672]])"
            ]
          },
          "metadata": {},
          "execution_count": 18
        }
      ],
      "source": [
        "scaled_df = scaler.fit_transform(raw_df[scale_col])\n",
        "scaled_df"
      ]
    },
    {
      "cell_type": "code",
      "execution_count": 24,
      "id": "ab812c03",
      "metadata": {
        "id": "ab812c03"
      },
      "outputs": [],
      "source": [
        "# scaled_df = pd.DataFrame(scaled_df, columns=scale_col)    #ndarray array -> DataFrame\n",
        "scaled_df = pd.DataFrame(scaled_df, columns=scale_col)"
      ]
    },
    {
      "cell_type": "code",
      "execution_count": 25,
      "id": "10a5b20a",
      "metadata": {
        "id": "10a5b20a"
      },
      "outputs": [],
      "source": [
        "scaled_df['OrderDate'] = raw_df['OrderDate']"
      ]
    },
    {
      "cell_type": "code",
      "execution_count": 26,
      "id": "a9b09cca",
      "metadata": {
        "colab": {
          "base_uri": "https://localhost:8080/",
          "height": 49
        },
        "id": "a9b09cca",
        "outputId": "6cda3ccb-124c-4269-c2fc-be98172e911d"
      },
      "outputs": [
        {
          "output_type": "execute_result",
          "data": {
            "text/plain": [
              "Empty DataFrame\n",
              "Columns: [OrderQty, 3MA, 5MA, PS, OrderDate]\n",
              "Index: []"
            ],
            "text/html": [
              "\n",
              "  <div id=\"df-de104970-b973-47df-b828-e88f72e68bb1\">\n",
              "    <div class=\"colab-df-container\">\n",
              "      <div>\n",
              "<style scoped>\n",
              "    .dataframe tbody tr th:only-of-type {\n",
              "        vertical-align: middle;\n",
              "    }\n",
              "\n",
              "    .dataframe tbody tr th {\n",
              "        vertical-align: top;\n",
              "    }\n",
              "\n",
              "    .dataframe thead th {\n",
              "        text-align: right;\n",
              "    }\n",
              "</style>\n",
              "<table border=\"1\" class=\"dataframe\">\n",
              "  <thead>\n",
              "    <tr style=\"text-align: right;\">\n",
              "      <th></th>\n",
              "      <th>OrderQty</th>\n",
              "      <th>3MA</th>\n",
              "      <th>5MA</th>\n",
              "      <th>PS</th>\n",
              "      <th>OrderDate</th>\n",
              "    </tr>\n",
              "  </thead>\n",
              "  <tbody>\n",
              "  </tbody>\n",
              "</table>\n",
              "</div>\n",
              "      <button class=\"colab-df-convert\" onclick=\"convertToInteractive('df-de104970-b973-47df-b828-e88f72e68bb1')\"\n",
              "              title=\"Convert this dataframe to an interactive table.\"\n",
              "              style=\"display:none;\">\n",
              "        \n",
              "  <svg xmlns=\"http://www.w3.org/2000/svg\" height=\"24px\"viewBox=\"0 0 24 24\"\n",
              "       width=\"24px\">\n",
              "    <path d=\"M0 0h24v24H0V0z\" fill=\"none\"/>\n",
              "    <path d=\"M18.56 5.44l.94 2.06.94-2.06 2.06-.94-2.06-.94-.94-2.06-.94 2.06-2.06.94zm-11 1L8.5 8.5l.94-2.06 2.06-.94-2.06-.94L8.5 2.5l-.94 2.06-2.06.94zm10 10l.94 2.06.94-2.06 2.06-.94-2.06-.94-.94-2.06-.94 2.06-2.06.94z\"/><path d=\"M17.41 7.96l-1.37-1.37c-.4-.4-.92-.59-1.43-.59-.52 0-1.04.2-1.43.59L10.3 9.45l-7.72 7.72c-.78.78-.78 2.05 0 2.83L4 21.41c.39.39.9.59 1.41.59.51 0 1.02-.2 1.41-.59l7.78-7.78 2.81-2.81c.8-.78.8-2.07 0-2.86zM5.41 20L4 18.59l7.72-7.72 1.47 1.35L5.41 20z\"/>\n",
              "  </svg>\n",
              "      </button>\n",
              "      \n",
              "  <style>\n",
              "    .colab-df-container {\n",
              "      display:flex;\n",
              "      flex-wrap:wrap;\n",
              "      gap: 12px;\n",
              "    }\n",
              "\n",
              "    .colab-df-convert {\n",
              "      background-color: #E8F0FE;\n",
              "      border: none;\n",
              "      border-radius: 50%;\n",
              "      cursor: pointer;\n",
              "      display: none;\n",
              "      fill: #1967D2;\n",
              "      height: 32px;\n",
              "      padding: 0 0 0 0;\n",
              "      width: 32px;\n",
              "    }\n",
              "\n",
              "    .colab-df-convert:hover {\n",
              "      background-color: #E2EBFA;\n",
              "      box-shadow: 0px 1px 2px rgba(60, 64, 67, 0.3), 0px 1px 3px 1px rgba(60, 64, 67, 0.15);\n",
              "      fill: #174EA6;\n",
              "    }\n",
              "\n",
              "    [theme=dark] .colab-df-convert {\n",
              "      background-color: #3B4455;\n",
              "      fill: #D2E3FC;\n",
              "    }\n",
              "\n",
              "    [theme=dark] .colab-df-convert:hover {\n",
              "      background-color: #434B5C;\n",
              "      box-shadow: 0px 1px 3px 1px rgba(0, 0, 0, 0.15);\n",
              "      filter: drop-shadow(0px 1px 2px rgba(0, 0, 0, 0.3));\n",
              "      fill: #FFFFFF;\n",
              "    }\n",
              "  </style>\n",
              "\n",
              "      <script>\n",
              "        const buttonEl =\n",
              "          document.querySelector('#df-de104970-b973-47df-b828-e88f72e68bb1 button.colab-df-convert');\n",
              "        buttonEl.style.display =\n",
              "          google.colab.kernel.accessAllowed ? 'block' : 'none';\n",
              "\n",
              "        async function convertToInteractive(key) {\n",
              "          const element = document.querySelector('#df-de104970-b973-47df-b828-e88f72e68bb1');\n",
              "          const dataTable =\n",
              "            await google.colab.kernel.invokeFunction('convertToInteractive',\n",
              "                                                     [key], {});\n",
              "          if (!dataTable) return;\n",
              "\n",
              "          const docLinkHtml = 'Like what you see? Visit the ' +\n",
              "            '<a target=\"_blank\" href=https://colab.research.google.com/notebooks/data_table.ipynb>data table notebook</a>'\n",
              "            + ' to learn more about interactive tables.';\n",
              "          element.innerHTML = '';\n",
              "          dataTable['output_type'] = 'display_data';\n",
              "          await google.colab.output.renderOutput(dataTable, element);\n",
              "          const docLink = document.createElement('div');\n",
              "          docLink.innerHTML = docLinkHtml;\n",
              "          element.appendChild(docLink);\n",
              "        }\n",
              "      </script>\n",
              "    </div>\n",
              "  </div>\n",
              "  "
            ]
          },
          "metadata": {},
          "execution_count": 26
        }
      ],
      "source": [
        "scaled_df.query(\"OrderQty == 0.0 \")"
      ]
    },
    {
      "cell_type": "code",
      "execution_count": 22,
      "id": "b8c9bded",
      "metadata": {
        "id": "b8c9bded"
      },
      "outputs": [],
      "source": [
        "scaled_df = scaled_df.drop(417)"
      ]
    },
    {
      "cell_type": "code",
      "execution_count": 23,
      "id": "8fe67bbb",
      "metadata": {
        "colab": {
          "base_uri": "https://localhost:8080/",
          "height": 49
        },
        "id": "8fe67bbb",
        "outputId": "b59d9cd0-aa49-43c0-e957-d14f3dfff58c"
      },
      "outputs": [
        {
          "output_type": "execute_result",
          "data": {
            "text/plain": [
              "Empty DataFrame\n",
              "Columns: [OrderQty, 3MA, 5MA, PS, OrderDate]\n",
              "Index: []"
            ],
            "text/html": [
              "\n",
              "  <div id=\"df-446ff3dc-c143-4756-84e1-e161cd9371b1\">\n",
              "    <div class=\"colab-df-container\">\n",
              "      <div>\n",
              "<style scoped>\n",
              "    .dataframe tbody tr th:only-of-type {\n",
              "        vertical-align: middle;\n",
              "    }\n",
              "\n",
              "    .dataframe tbody tr th {\n",
              "        vertical-align: top;\n",
              "    }\n",
              "\n",
              "    .dataframe thead th {\n",
              "        text-align: right;\n",
              "    }\n",
              "</style>\n",
              "<table border=\"1\" class=\"dataframe\">\n",
              "  <thead>\n",
              "    <tr style=\"text-align: right;\">\n",
              "      <th></th>\n",
              "      <th>OrderQty</th>\n",
              "      <th>3MA</th>\n",
              "      <th>5MA</th>\n",
              "      <th>PS</th>\n",
              "      <th>OrderDate</th>\n",
              "    </tr>\n",
              "  </thead>\n",
              "  <tbody>\n",
              "  </tbody>\n",
              "</table>\n",
              "</div>\n",
              "      <button class=\"colab-df-convert\" onclick=\"convertToInteractive('df-446ff3dc-c143-4756-84e1-e161cd9371b1')\"\n",
              "              title=\"Convert this dataframe to an interactive table.\"\n",
              "              style=\"display:none;\">\n",
              "        \n",
              "  <svg xmlns=\"http://www.w3.org/2000/svg\" height=\"24px\"viewBox=\"0 0 24 24\"\n",
              "       width=\"24px\">\n",
              "    <path d=\"M0 0h24v24H0V0z\" fill=\"none\"/>\n",
              "    <path d=\"M18.56 5.44l.94 2.06.94-2.06 2.06-.94-2.06-.94-.94-2.06-.94 2.06-2.06.94zm-11 1L8.5 8.5l.94-2.06 2.06-.94-2.06-.94L8.5 2.5l-.94 2.06-2.06.94zm10 10l.94 2.06.94-2.06 2.06-.94-2.06-.94-.94-2.06-.94 2.06-2.06.94z\"/><path d=\"M17.41 7.96l-1.37-1.37c-.4-.4-.92-.59-1.43-.59-.52 0-1.04.2-1.43.59L10.3 9.45l-7.72 7.72c-.78.78-.78 2.05 0 2.83L4 21.41c.39.39.9.59 1.41.59.51 0 1.02-.2 1.41-.59l7.78-7.78 2.81-2.81c.8-.78.8-2.07 0-2.86zM5.41 20L4 18.59l7.72-7.72 1.47 1.35L5.41 20z\"/>\n",
              "  </svg>\n",
              "      </button>\n",
              "      \n",
              "  <style>\n",
              "    .colab-df-container {\n",
              "      display:flex;\n",
              "      flex-wrap:wrap;\n",
              "      gap: 12px;\n",
              "    }\n",
              "\n",
              "    .colab-df-convert {\n",
              "      background-color: #E8F0FE;\n",
              "      border: none;\n",
              "      border-radius: 50%;\n",
              "      cursor: pointer;\n",
              "      display: none;\n",
              "      fill: #1967D2;\n",
              "      height: 32px;\n",
              "      padding: 0 0 0 0;\n",
              "      width: 32px;\n",
              "    }\n",
              "\n",
              "    .colab-df-convert:hover {\n",
              "      background-color: #E2EBFA;\n",
              "      box-shadow: 0px 1px 2px rgba(60, 64, 67, 0.3), 0px 1px 3px 1px rgba(60, 64, 67, 0.15);\n",
              "      fill: #174EA6;\n",
              "    }\n",
              "\n",
              "    [theme=dark] .colab-df-convert {\n",
              "      background-color: #3B4455;\n",
              "      fill: #D2E3FC;\n",
              "    }\n",
              "\n",
              "    [theme=dark] .colab-df-convert:hover {\n",
              "      background-color: #434B5C;\n",
              "      box-shadow: 0px 1px 3px 1px rgba(0, 0, 0, 0.15);\n",
              "      filter: drop-shadow(0px 1px 2px rgba(0, 0, 0, 0.3));\n",
              "      fill: #FFFFFF;\n",
              "    }\n",
              "  </style>\n",
              "\n",
              "      <script>\n",
              "        const buttonEl =\n",
              "          document.querySelector('#df-446ff3dc-c143-4756-84e1-e161cd9371b1 button.colab-df-convert');\n",
              "        buttonEl.style.display =\n",
              "          google.colab.kernel.accessAllowed ? 'block' : 'none';\n",
              "\n",
              "        async function convertToInteractive(key) {\n",
              "          const element = document.querySelector('#df-446ff3dc-c143-4756-84e1-e161cd9371b1');\n",
              "          const dataTable =\n",
              "            await google.colab.kernel.invokeFunction('convertToInteractive',\n",
              "                                                     [key], {});\n",
              "          if (!dataTable) return;\n",
              "\n",
              "          const docLinkHtml = 'Like what you see? Visit the ' +\n",
              "            '<a target=\"_blank\" href=https://colab.research.google.com/notebooks/data_table.ipynb>data table notebook</a>'\n",
              "            + ' to learn more about interactive tables.';\n",
              "          element.innerHTML = '';\n",
              "          dataTable['output_type'] = 'display_data';\n",
              "          await google.colab.output.renderOutput(dataTable, element);\n",
              "          const docLink = document.createElement('div');\n",
              "          docLink.innerHTML = docLinkHtml;\n",
              "          element.appendChild(docLink);\n",
              "        }\n",
              "      </script>\n",
              "    </div>\n",
              "  </div>\n",
              "  "
            ]
          },
          "metadata": {},
          "execution_count": 23
        }
      ],
      "source": [
        "scaled_df.query(\"OrderQty == 0.0 \")"
      ]
    },
    {
      "cell_type": "markdown",
      "id": "3d477893",
      "metadata": {
        "id": "3d477893"
      },
      "source": [
        "### 수요예측을 위해 3MA, 5MA, ORDERQTY항목을 feature 선정\n",
        "  - 정답은 ORDERQTY 선정\n",
        "  - 시계열 데이터를 위한 windows size = 20"
      ]
    },
    {
      "cell_type": "code",
      "execution_count": 30,
      "id": "98086697",
      "metadata": {
        "id": "98086697"
      },
      "outputs": [],
      "source": [
        "# 입력 파라미터 feature, label => numpy type\n",
        "def make_sequence_dataset(feature, label, window_size):\n",
        "    feature_list = []    #생성될 feature list\n",
        "    label_list = []      #생설될 label list\n",
        "    \n",
        "    for i in range(len(feature)-windows_size):\n",
        "        feature_list.append(feature[i:i+window_size])\n",
        "        label_list.append(label[i+window_size])\n",
        "    \n",
        "    return np.array(feature_list), np.array(label_list)"
      ]
    },
    {
      "cell_type": "code",
      "execution_count": 31,
      "id": "3ff1ae54",
      "metadata": {
        "id": "3ff1ae54"
      },
      "outputs": [],
      "source": [
        "# feature_df, lablel_df 생성\n",
        "# feature_cols = ['OrderQty', '3MA', '5MA', 'PS']\n",
        "# feature_cols = ['OrderQty','5MA', 'PS']\n",
        "feature_cols = ['OrderQty']\n",
        "label_cols = ['OrderQty']\n",
        "\n",
        "feature_df = pd.DataFrame(scaled_df, columns=feature_cols)\n",
        "label_df = pd.DataFrame(scaled_df, columns=label_cols)"
      ]
    },
    {
      "cell_type": "code",
      "execution_count": 32,
      "id": "d572bfcc",
      "metadata": {
        "colab": {
          "base_uri": "https://localhost:8080/"
        },
        "id": "d572bfcc",
        "outputId": "16b8d505-7397-44fc-cc9a-c69d0ee69c3a"
      },
      "outputs": [
        {
          "output_type": "stream",
          "name": "stdout",
          "text": [
            "(508, 1) (508, 1)\n"
          ]
        }
      ],
      "source": [
        "# Dataframe -> numpy 변환\n",
        "feature_np = feature_df.to_numpy()\n",
        "label_np = label_df.to_numpy()\n",
        "\n",
        "print(feature_np.shape, label_np.shape)"
      ]
    },
    {
      "cell_type": "markdown",
      "id": "f4a1a7b0",
      "metadata": {
        "id": "f4a1a7b0"
      },
      "source": [
        "### 시계열 데이터 생성 (make_sequence_dataset)"
      ]
    },
    {
      "cell_type": "code",
      "execution_count": 33,
      "id": "c3c90ef6",
      "metadata": {
        "id": "c3c90ef6"
      },
      "outputs": [],
      "source": [
        "windows_size = 12\n",
        "X, Y = make_sequence_dataset(feature_np, label_np, windows_size)"
      ]
    },
    {
      "cell_type": "code",
      "execution_count": 34,
      "id": "760369e5",
      "metadata": {
        "colab": {
          "base_uri": "https://localhost:8080/"
        },
        "id": "760369e5",
        "outputId": "b84c7087-46b8-4371-fed0-2f2d8c5bc3ff"
      },
      "outputs": [
        {
          "output_type": "stream",
          "name": "stdout",
          "text": [
            "(496, 12, 1) (496, 1)\n"
          ]
        }
      ],
      "source": [
        "print(X.shape, Y.shape)"
      ]
    },
    {
      "cell_type": "markdown",
      "id": "c1d6efb1",
      "metadata": {
        "id": "c1d6efb1"
      },
      "source": [
        "### 학습데이터, 테스트데이터 생성"
      ]
    },
    {
      "cell_type": "code",
      "execution_count": 35,
      "id": "56e0d0a4",
      "metadata": {
        "colab": {
          "base_uri": "https://localhost:8080/"
        },
        "id": "56e0d0a4",
        "outputId": "4210b86a-5a29-4d00-af5c-a08226129fb6"
      },
      "outputs": [
        {
          "output_type": "stream",
          "name": "stdout",
          "text": [
            "(397, 12, 1) (397, 1)\n",
            "(99, 12, 1) (99, 1)\n"
          ]
        }
      ],
      "source": [
        "#train, test 분리\n",
        "split = -round(len(X) * 0.2)\n",
        "\n",
        "x_train = X[0:split]\n",
        "y_train = Y[0:split]\n",
        "\n",
        "x_test = X[split:]\n",
        "y_test = Y[split:]\n",
        "\n",
        "print(x_train.shape, y_train.shape)\n",
        "print(x_test.shape, y_test.shape)"
      ]
    },
    {
      "cell_type": "code",
      "execution_count": 36,
      "id": "71b42f08",
      "metadata": {
        "colab": {
          "base_uri": "https://localhost:8080/"
        },
        "id": "71b42f08",
        "outputId": "796fc37d-7f43-4e53-8859-ebb73da63d34"
      },
      "outputs": [
        {
          "output_type": "execute_result",
          "data": {
            "text/plain": [
              "(12, 1)"
            ]
          },
          "metadata": {},
          "execution_count": 36
        }
      ],
      "source": [
        "x_train[0].shape"
      ]
    },
    {
      "cell_type": "markdown",
      "id": "1eb758f3",
      "metadata": {
        "id": "1eb758f3"
      },
      "source": [
        "### LSTM Model and Compile"
      ]
    },
    {
      "cell_type": "code",
      "execution_count": 82,
      "id": "09ae4378",
      "metadata": {
        "id": "09ae4378"
      },
      "outputs": [],
      "source": [
        "#모델생성\n",
        "model = Sequential()\n",
        "# model.add(LSTM(128, activation='tanh', input_shape=x_train[0].shape))\n",
        "model.add(LSTM(128, return_sequences=True, input_shape=x_train[0].shape))\n",
        "model.add(Dropout(0.2))\n",
        "model.add(LSTM(50, return_sequences=True))\n",
        "model.add(Dropout(0.2))\n",
        "model.add(LSTM(50))\n",
        "model.add(Dropout(0.2))\n",
        "model.add(Dense(1, activation='linear'))"
      ]
    },
    {
      "cell_type": "code",
      "execution_count": 83,
      "id": "730d450b",
      "metadata": {
        "colab": {
          "base_uri": "https://localhost:8080/"
        },
        "id": "730d450b",
        "outputId": "1c664e39-4a76-4548-cb7d-e1fefc2d423d"
      },
      "outputs": [
        {
          "output_type": "stream",
          "name": "stdout",
          "text": [
            "Model: \"sequential_1\"\n",
            "_________________________________________________________________\n",
            " Layer (type)                Output Shape              Param #   \n",
            "=================================================================\n",
            " lstm_3 (LSTM)               (None, 12, 128)           66560     \n",
            "                                                                 \n",
            " dropout_3 (Dropout)         (None, 12, 128)           0         \n",
            "                                                                 \n",
            " lstm_4 (LSTM)               (None, 12, 50)            35800     \n",
            "                                                                 \n",
            " dropout_4 (Dropout)         (None, 12, 50)            0         \n",
            "                                                                 \n",
            " lstm_5 (LSTM)               (None, 50)                20200     \n",
            "                                                                 \n",
            " dropout_5 (Dropout)         (None, 50)                0         \n",
            "                                                                 \n",
            " dense_1 (Dense)             (None, 1)                 51        \n",
            "                                                                 \n",
            "=================================================================\n",
            "Total params: 122,611\n",
            "Trainable params: 122,611\n",
            "Non-trainable params: 0\n",
            "_________________________________________________________________\n"
          ]
        }
      ],
      "source": [
        "model.summary()"
      ]
    },
    {
      "cell_type": "code",
      "execution_count": 84,
      "id": "b34ade82",
      "metadata": {
        "id": "b34ade82"
      },
      "outputs": [],
      "source": [
        "model.compile(loss='mse', optimizer='adam', metrics=['mae'])"
      ]
    },
    {
      "cell_type": "markdown",
      "id": "5d8ac610",
      "metadata": {
        "id": "5d8ac610"
      },
      "source": [
        "### 모델학습 (Early Stop)"
      ]
    },
    {
      "cell_type": "code",
      "execution_count": 85,
      "id": "99a73a0e",
      "metadata": {
        "id": "99a73a0e"
      },
      "outputs": [],
      "source": [
        "from tensorflow.keras.callbacks import EarlyStopping"
      ]
    },
    {
      "cell_type": "code",
      "execution_count": 41,
      "id": "dd0230a1",
      "metadata": {
        "id": "dd0230a1"
      },
      "outputs": [],
      "source": [
        "early_stop = EarlyStopping(monitor='val_loss', patience=10)"
      ]
    },
    {
      "cell_type": "code",
      "execution_count": 104,
      "id": "42c353cb",
      "metadata": {
        "scrolled": true,
        "colab": {
          "base_uri": "https://localhost:8080/"
        },
        "id": "42c353cb",
        "outputId": "af9b6971-b26d-4cc6-a7f6-36c76b7d3ed4"
      },
      "outputs": [
        {
          "output_type": "stream",
          "name": "stdout",
          "text": [
            "40/40 [==============================] - 1s 32ms/step - loss: 0.0215 - mae: 0.1047 - val_loss: 0.0155 - val_mae: 0.0855\n"
          ]
        },
        {
          "output_type": "execute_result",
          "data": {
            "text/plain": [
              "<keras.callbacks.History at 0x7f60013c28b0>"
            ]
          },
          "metadata": {},
          "execution_count": 104
        }
      ],
      "source": [
        "model.fit(x_train, y_train, validation_data=(x_test, y_test), epochs=1, batch_size=10, callbacks=[early_stop])\n",
        "# model.fit(x_train, y_train, validation_data=(x_test, y_test), epochs=100, batch_size=40)"
      ]
    },
    {
      "cell_type": "code",
      "execution_count": 105,
      "id": "edb0a527",
      "metadata": {
        "colab": {
          "base_uri": "https://localhost:8080/"
        },
        "id": "edb0a527",
        "outputId": "8abb108b-9d1f-42a6-f9ba-11395e29fcf1"
      },
      "outputs": [
        {
          "output_type": "stream",
          "name": "stdout",
          "text": [
            "4/4 [==============================] - 2s 12ms/step\n"
          ]
        }
      ],
      "source": [
        "pred = model.predict(x_test)"
      ]
    },
    {
      "cell_type": "code",
      "execution_count": 106,
      "id": "69cb374f",
      "metadata": {
        "colab": {
          "base_uri": "https://localhost:8080/"
        },
        "id": "69cb374f",
        "outputId": "1a6bc1c4-c0d6-491b-da22-15198a42b4bf"
      },
      "outputs": [
        {
          "output_type": "execute_result",
          "data": {
            "text/plain": [
              "(99, 1)"
            ]
          },
          "metadata": {},
          "execution_count": 106
        }
      ],
      "source": [
        "pred.shape"
      ]
    },
    {
      "cell_type": "code",
      "execution_count": 107,
      "id": "3244fa2b",
      "metadata": {
        "id": "3244fa2b"
      },
      "outputs": [],
      "source": [
        "x_value = scaled_df.iloc[split:, 4:5].copy()"
      ]
    },
    {
      "cell_type": "code",
      "execution_count": 108,
      "id": "ffb89a9b",
      "metadata": {
        "colab": {
          "base_uri": "https://localhost:8080/",
          "height": 404
        },
        "id": "ffb89a9b",
        "outputId": "5b7cba67-aba4-4c08-def4-8fad449923f6"
      },
      "outputs": [
        {
          "output_type": "display_data",
          "data": {
            "text/plain": [
              "<Figure size 864x432 with 1 Axes>"
            ],
            "image/png": "[encoded data removed]"
          },
          "metadata": {
            "needs_background": "light"
          }
        }
      ],
      "source": [
        "plt.figure(figsize=(12,6))\n",
        "plt.title('PO forecasting 12Win ORDERQTY LSTM')\n",
        "plt.ylabel('ORDERQTY')\n",
        "plt.xlabel('period')\n",
        "plt.plot(x_value.OrderDate, y_test, label='actual')\n",
        "plt.plot(x_value.OrderDate, pred, label='prediction')\n",
        "plt.grid()\n",
        "plt.legend(loc='best')\n",
        "\n",
        "plt.show()"
      ]
    },
    {
      "cell_type": "code",
      "execution_count": 109,
      "id": "dfbb1b7e",
      "metadata": {
        "scrolled": true,
        "colab": {
          "base_uri": "https://localhost:8080/"
        },
        "id": "dfbb1b7e",
        "outputId": "d8295302-52aa-4645-9e5e-a4f0cc981e99"
      },
      "outputs": [
        {
          "output_type": "execute_result",
          "data": {
            "text/plain": [
              "0.5157547531883901"
            ]
          },
          "metadata": {},
          "execution_count": 109
        }
      ],
      "source": [
        "# MAPE\n",
        "# print(np.sum(abs(y_test-pred)/y_test)/len(x_test))\n",
        "MAPE_Val(pred, y_test)"
      ]
    },
    {
      "cell_type": "markdown",
      "id": "53fd7057",
      "metadata": {
        "id": "53fd7057"
      },
      "source": [
        "## 1D CNN 모델"
      ]
    },
    {
      "cell_type": "code",
      "execution_count": 110,
      "id": "03ab0daa",
      "metadata": {
        "id": "03ab0daa"
      },
      "outputs": [],
      "source": [
        "from keras.layers import Conv1D, GlobalAveragePooling1D, Flatten, GlobalAveragePooling1D, MaxPooling1D"
      ]
    },
    {
      "cell_type": "code",
      "execution_count": 111,
      "id": "3343dd7a",
      "metadata": {
        "id": "3343dd7a"
      },
      "outputs": [],
      "source": [
        "cnn_model = Sequential()\n",
        "cnn_model.add(Lambda(lambda x: tf.expand_dims(x, axis=-1), input_shape=[windows_size]))\n",
        "cnn_model.add(Conv1D(filters=32, kernel_size=3, strides=1, padding='causal', activation='relu'))\n",
        "# cnn_model.add(MaxPooling1D(pool_size=2))\n",
        "cnn_model.add(Conv1D(filters=64, kernel_size=3, strides=1, padding='causal', activation='relu'))\n",
        "cnn_model.add(GlobalAveragePooling1D())\n",
        "cnn_model.add(Flatten())\n",
        "cnn_model.add(Dropout(0.2))\n",
        "cnn_model.add(Dense(512, activation='relu'))\n",
        "cnn_model.add(Dropout(0.2))\n",
        "cnn_model.add(Dense(1))"
      ]
    },
    {
      "cell_type": "code",
      "execution_count": 112,
      "id": "5f02120d",
      "metadata": {
        "colab": {
          "base_uri": "https://localhost:8080/"
        },
        "id": "5f02120d",
        "outputId": "24561c14-c10d-4518-e784-dc7b90e3027f"
      },
      "outputs": [
        {
          "output_type": "stream",
          "name": "stdout",
          "text": [
            "Model: \"sequential_2\"\n",
            "_________________________________________________________________\n",
            " Layer (type)                Output Shape              Param #   \n",
            "=================================================================\n",
            " lambda (Lambda)             (None, 12, 1)             0         \n",
            "                                                                 \n",
            " conv1d (Conv1D)             (None, 12, 32)            128       \n",
            "                                                                 \n",
            " conv1d_1 (Conv1D)           (None, 12, 64)            6208      \n",
            "                                                                 \n",
            " global_average_pooling1d (G  (None, 64)               0         \n",
            " lobalAveragePooling1D)                                          \n",
            "                                                                 \n",
            " flatten (Flatten)           (None, 64)                0         \n",
            "                                                                 \n",
            " dropout_6 (Dropout)         (None, 64)                0         \n",
            "                                                                 \n",
            " dense_2 (Dense)             (None, 512)               33280     \n",
            "                                                                 \n",
            " dropout_7 (Dropout)         (None, 512)               0         \n",
            "                                                                 \n",
            " dense_3 (Dense)             (None, 1)                 513       \n",
            "                                                                 \n",
            "=================================================================\n",
            "Total params: 40,129\n",
            "Trainable params: 40,129\n",
            "Non-trainable params: 0\n",
            "_________________________________________________________________\n"
          ]
        }
      ],
      "source": [
        "cnn_model.compile(optimizer='adam', loss='huber', metrics=['mae'])\n",
        "cnn_model.summary()"
      ]
    },
    {
      "cell_type": "code",
      "execution_count": 129,
      "id": "926a71e1",
      "metadata": {
        "colab": {
          "base_uri": "https://localhost:8080/"
        },
        "id": "926a71e1",
        "outputId": "85b13d42-ad2e-4ac6-b0de-4c8db4f7c284"
      },
      "outputs": [
        {
          "output_type": "stream",
          "name": "stdout",
          "text": [
            "40/40 [==============================] - 0s 7ms/step - loss: 0.0105 - mae: 0.1026 - val_loss: 0.0078 - val_mae: 0.0853\n"
          ]
        },
        {
          "output_type": "execute_result",
          "data": {
            "text/plain": [
              "<keras.callbacks.History at 0x7f60012a1520>"
            ]
          },
          "metadata": {},
          "execution_count": 129
        }
      ],
      "source": [
        "cnn_model.fit(x_train, y_train, validation_data=(x_test, y_test), epochs=1, batch_size=10, callbacks=[early_stop])"
      ]
    },
    {
      "cell_type": "code",
      "execution_count": 130,
      "id": "1066df9e",
      "metadata": {
        "colab": {
          "base_uri": "https://localhost:8080/"
        },
        "id": "1066df9e",
        "outputId": "26e8c99f-a2ce-4ffb-9386-36ddf37b27ee"
      },
      "outputs": [
        {
          "output_type": "stream",
          "name": "stdout",
          "text": [
            "4/4 [==============================] - 0s 4ms/step\n"
          ]
        }
      ],
      "source": [
        "cnn_pred = cnn_model.predict(x_test)"
      ]
    },
    {
      "cell_type": "code",
      "execution_count": 131,
      "id": "fc9bd6c6",
      "metadata": {
        "colab": {
          "base_uri": "https://localhost:8080/",
          "height": 404
        },
        "id": "fc9bd6c6",
        "outputId": "9ccf6d03-78df-4da2-f015-6d830f75ce02"
      },
      "outputs": [
        {
          "output_type": "display_data",
          "data": {
            "text/plain": [
              "<Figure size 864x432 with 1 Axes>"
            ],
            "image/png": "[encoded data removed]"
          },
          "metadata": {
            "needs_background": "light"
          }
        }
      ],
      "source": [
        "plt.figure(figsize=(12,6))\n",
        "plt.title('PO forecasting ORDERQTY 1D CNN')\n",
        "plt.ylabel('ORDERQTY')\n",
        "plt.xlabel('period')\n",
        "plt.plot(x_value.OrderDate, y_test, label='actual')\n",
        "plt.plot(x_value.OrderDate, cnn_pred, label='prediction')\n",
        "plt.grid()\n",
        "plt.legend(loc='best')\n",
        "\n",
        "plt.show()"
      ]
    },
    {
      "cell_type": "code",
      "execution_count": 132,
      "id": "8504c94e",
      "metadata": {
        "colab": {
          "base_uri": "https://localhost:8080/"
        },
        "id": "8504c94e",
        "outputId": "b0b1f757-7070-4af2-95a8-ce20976949f2"
      },
      "outputs": [
        {
          "output_type": "execute_result",
          "data": {
            "text/plain": [
              "0.5087400771164708"
            ]
          },
          "metadata": {},
          "execution_count": 132
        }
      ],
      "source": [
        "MAPE_Val(cnn_pred, y_test)"
      ]
    }
  ],
  "metadata": {
    "kernelspec": {
      "display_name": "Python 3 (ipykernel)",
      "language": "python",
      "name": "python3"
    },
    "language_info": {
      "codemirror_mode": {
        "name": "ipython",
        "version": 3
      },
      "file_extension": ".py",
      "mimetype": "text/x-python",
      "name": "python",
      "nbconvert_exporter": "python",
      "pygments_lexer": "ipython3",
      "version": "3.9.12"
    },
    "colab": {
      "provenance": [],
      "include_colab_link": true
    }
  },
  "nbformat": 4,
  "nbformat_minor": 5
}